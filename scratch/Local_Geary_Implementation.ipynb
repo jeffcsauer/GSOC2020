{
 "cells": [
  {
   "cell_type": "markdown",
   "metadata": {},
   "source": [
    "Reference: https://geodacenter.github.io/workbook/6a_local_auto/lab6a.html#local-geary"
   ]
  },
  {
   "cell_type": "markdown",
   "metadata": {},
   "source": [
    "# Univariate local geary\n",
    "\n",
    "Interestingly, following [this equation](https://www.biomedware.com/files/documentation/spacestat/Statistics/Gearys_C/Geary_s_C_statistic.htm) which explicitly calls for standardization of input data. We also do NOT divide by 2.\n",
    "\n",
    "$$ c_i = \\sum_j w_{ij} (z_i - z_j)^2 $$ \n",
    "\n",
    "where: \n",
    "\n",
    "$z_i = x_i - \\bar{x}$ and $z_j = x_j - \\bar{x}$, and $w_{ij}$ are the elements of the row-standardized binary symmetric spatial weight matrix W. "
   ]
  },
  {
   "cell_type": "markdown",
   "metadata": {},
   "source": [
    "or, $$ c_i = (1/m^2) * \\sum_j w_{ij} (x_i - x_j)^2 $$"
   ]
  },
  {
   "cell_type": "markdown",
   "metadata": {},
   "source": [
    "where,"
   ]
  },
  {
   "cell_type": "markdown",
   "metadata": {},
   "source": [
    "$$ m^2 = \\sum_i (x_i−\\bar{x})^2/n $$"
   ]
  },
  {
   "cell_type": "markdown",
   "metadata": {},
   "source": [
    "## Load in example data"
   ]
  },
  {
   "cell_type": "code",
   "execution_count": 41,
   "metadata": {},
   "outputs": [],
   "source": [
    "import libpysal as lp\n",
    "import geopandas as gpd\n",
    "from scipy import stats\n",
    "import numpy as np\n",
    "guerry = lp.examples.load_example('Guerry')\n",
    "guerry_ds = gpd.read_file(guerry.get_path('Guerry.shp'))"
   ]
  },
  {
   "cell_type": "code",
   "execution_count": 42,
   "metadata": {},
   "outputs": [],
   "source": [
    "wq = lp.weights.Queen.from_dataframe(guerry_ds)"
   ]
  },
  {
   "cell_type": "code",
   "execution_count": 43,
   "metadata": {},
   "outputs": [
    {
     "data": {
      "text/plain": [
       "{66: 1.0, 35: 1.0, 68: 1.0, 36: 1.0}"
      ]
     },
     "execution_count": 43,
     "metadata": {},
     "output_type": "execute_result"
    }
   ],
   "source": [
    "wq[0]"
   ]
  },
  {
   "cell_type": "code",
   "execution_count": 44,
   "metadata": {},
   "outputs": [
    {
     "data": {
      "text/plain": [
       "{66: 0.25, 35: 0.25, 68: 0.25, 36: 0.25}"
      ]
     },
     "execution_count": 44,
     "metadata": {},
     "output_type": "execute_result"
    }
   ],
   "source": [
    "wq.transform = 'r'\n",
    "wq[0]"
   ]
  },
  {
   "cell_type": "code",
   "execution_count": 45,
   "metadata": {},
   "outputs": [],
   "source": [
    "x = guerry_ds['Donatns']\n",
    "\n",
    "print(\"x_i is\", x[0])\n",
    "print(\"x_j are\", x[66], x[35], x[68], x[36])"
   ]
  },
  {
   "cell_type": "code",
   "execution_count": 46,
   "metadata": {},
   "outputs": [
    {
     "data": {
      "text/plain": [
       "0    -0.336188\n",
       "1     0.450441\n",
       "2     0.879023\n",
       "3    -0.825375\n",
       "4     0.049370\n",
       "        ...   \n",
       "80    1.512380\n",
       "81    0.454785\n",
       "82    1.467288\n",
       "83   -0.555029\n",
       "84   -0.506214\n",
       "Name: Donatns, Length: 85, dtype: float64"
      ]
     },
     "execution_count": 46,
     "metadata": {},
     "output_type": "execute_result"
    }
   ],
   "source": [
    "# Calculate score\n",
    "zscore_x = (x - np.mean(x))/np.std(x)\n",
    "zscore_x"
   ]
  },
  {
   "cell_type": "markdown",
   "metadata": {},
   "source": [
    "# Build observed local geary values"
   ]
  },
  {
   "cell_type": "code",
   "execution_count": 47,
   "metadata": {},
   "outputs": [
    {
     "data": {
      "text/html": [
       "<div>\n",
       "<style scoped>\n",
       "    .dataframe tbody tr th:only-of-type {\n",
       "        vertical-align: middle;\n",
       "    }\n",
       "\n",
       "    .dataframe tbody tr th {\n",
       "        vertical-align: top;\n",
       "    }\n",
       "\n",
       "    .dataframe thead th {\n",
       "        text-align: right;\n",
       "    }\n",
       "</style>\n",
       "<table border=\"1\" class=\"dataframe\">\n",
       "  <thead>\n",
       "    <tr style=\"text-align: right;\">\n",
       "      <th></th>\n",
       "      <th>focal</th>\n",
       "      <th>neighbor</th>\n",
       "      <th>weight</th>\n",
       "    </tr>\n",
       "  </thead>\n",
       "  <tbody>\n",
       "    <tr>\n",
       "      <th>0</th>\n",
       "      <td>0</td>\n",
       "      <td>66</td>\n",
       "      <td>0.250000</td>\n",
       "    </tr>\n",
       "    <tr>\n",
       "      <th>1</th>\n",
       "      <td>0</td>\n",
       "      <td>35</td>\n",
       "      <td>0.250000</td>\n",
       "    </tr>\n",
       "    <tr>\n",
       "      <th>2</th>\n",
       "      <td>0</td>\n",
       "      <td>68</td>\n",
       "      <td>0.250000</td>\n",
       "    </tr>\n",
       "    <tr>\n",
       "      <th>3</th>\n",
       "      <td>0</td>\n",
       "      <td>36</td>\n",
       "      <td>0.250000</td>\n",
       "    </tr>\n",
       "    <tr>\n",
       "      <th>4</th>\n",
       "      <td>1</td>\n",
       "      <td>48</td>\n",
       "      <td>0.166667</td>\n",
       "    </tr>\n",
       "  </tbody>\n",
       "</table>\n",
       "</div>"
      ],
      "text/plain": [
       "   focal  neighbor    weight\n",
       "0      0        66  0.250000\n",
       "1      0        35  0.250000\n",
       "2      0        68  0.250000\n",
       "3      0        36  0.250000\n",
       "4      1        48  0.166667"
      ]
     },
     "execution_count": 47,
     "metadata": {},
     "output_type": "execute_result"
    }
   ],
   "source": [
    "adj_list = wq.to_adjlist(remove_symmetric=False)\n",
    "adj_list.head()"
   ]
  },
  {
   "cell_type": "code",
   "execution_count": 48,
   "metadata": {},
   "outputs": [
    {
     "data": {
      "text/plain": [
       "0   -0.336188\n",
       "1    0.450441\n",
       "2    0.879023\n",
       "3   -0.825375\n",
       "4    0.049370\n",
       "Name: Donatns, dtype: float64"
      ]
     },
     "execution_count": 48,
     "metadata": {},
     "output_type": "execute_result"
    }
   ],
   "source": [
    "import pandas as pd\n",
    "zseries = pd.Series(zscore_x, index=wq.id_order)\n",
    "zseries[0:5]"
   ]
  },
  {
   "cell_type": "code",
   "execution_count": 49,
   "metadata": {},
   "outputs": [
    {
     "data": {
      "text/plain": [
       "array([-0.33618783, -0.33618783, -0.33618783, -0.33618783,  0.45044136])"
      ]
     },
     "execution_count": 49,
     "metadata": {},
     "output_type": "execute_result"
    }
   ],
   "source": [
    "# Define z_i\n",
    "zi = zseries.loc[adj_list.focal].values\n",
    "zi[0:5]"
   ]
  },
  {
   "cell_type": "code",
   "execution_count": 50,
   "metadata": {},
   "outputs": [
    {
     "data": {
      "text/plain": [
       "array([-0.98050808, -0.54737594, -0.62328783, -0.76766521, -0.5709562 ])"
      ]
     },
     "execution_count": 50,
     "metadata": {},
     "output_type": "execute_result"
    }
   ],
   "source": [
    "# Define zj\n",
    "zj = zseries.loc[adj_list.neighbor].values\n",
    "zj[0:5]"
   ]
  },
  {
   "cell_type": "code",
   "execution_count": 51,
   "metadata": {},
   "outputs": [
    {
     "data": {
      "text/plain": [
       "array([0.64432025, 0.21118812, 0.2871    , 0.43147738, 1.02139756])"
      ]
     },
     "execution_count": 51,
     "metadata": {},
     "output_type": "execute_result"
    }
   ],
   "source": [
    "(zi-zj)[0:5]"
   ]
  },
  {
   "cell_type": "code",
   "execution_count": 15,
   "metadata": {},
   "outputs": [],
   "source": [
    "#(zi-zj)**2"
   ]
  },
  {
   "cell_type": "markdown",
   "metadata": {},
   "source": [
    "Multiply by spatial weights"
   ]
  },
  {
   "cell_type": "code",
   "execution_count": 13,
   "metadata": {},
   "outputs": [],
   "source": [
    "#sum(list(wq.weights.values()), [])"
   ]
  },
  {
   "cell_type": "code",
   "execution_count": 14,
   "metadata": {},
   "outputs": [],
   "source": [
    "# sum(list(wq.weights.values()), []) * (zi-zj)**2"
   ]
  },
  {
   "cell_type": "code",
   "execution_count": 52,
   "metadata": {},
   "outputs": [],
   "source": [
    "test = sum(list(wq.weights.values()), []) * (zi-zj)**2"
   ]
  },
  {
   "cell_type": "code",
   "execution_count": 53,
   "metadata": {},
   "outputs": [
    {
     "data": {
      "text/plain": [
       "array([0.10378715, 0.01115011, 0.0206066 , 0.04654318, 0.1738755 ])"
      ]
     },
     "execution_count": 53,
     "metadata": {},
     "output_type": "execute_result"
    }
   ],
   "source": [
    "test[0:5]"
   ]
  },
  {
   "cell_type": "code",
   "execution_count": 54,
   "metadata": {},
   "outputs": [
    {
     "data": {
      "text/html": [
       "<div>\n",
       "<style scoped>\n",
       "    .dataframe tbody tr th:only-of-type {\n",
       "        vertical-align: middle;\n",
       "    }\n",
       "\n",
       "    .dataframe tbody tr th {\n",
       "        vertical-align: top;\n",
       "    }\n",
       "\n",
       "    .dataframe thead th {\n",
       "        text-align: right;\n",
       "    }\n",
       "</style>\n",
       "<table border=\"1\" class=\"dataframe\">\n",
       "  <thead>\n",
       "    <tr style=\"text-align: right;\">\n",
       "      <th></th>\n",
       "      <th>index</th>\n",
       "      <th>0</th>\n",
       "    </tr>\n",
       "  </thead>\n",
       "  <tbody>\n",
       "    <tr>\n",
       "      <th>0</th>\n",
       "      <td>0.103787</td>\n",
       "      <td>0</td>\n",
       "    </tr>\n",
       "    <tr>\n",
       "      <th>1</th>\n",
       "      <td>0.011150</td>\n",
       "      <td>0</td>\n",
       "    </tr>\n",
       "    <tr>\n",
       "      <th>2</th>\n",
       "      <td>0.020607</td>\n",
       "      <td>0</td>\n",
       "    </tr>\n",
       "    <tr>\n",
       "      <th>3</th>\n",
       "      <td>0.046543</td>\n",
       "      <td>0</td>\n",
       "    </tr>\n",
       "    <tr>\n",
       "      <th>4</th>\n",
       "      <td>0.173875</td>\n",
       "      <td>1</td>\n",
       "    </tr>\n",
       "  </tbody>\n",
       "</table>\n",
       "</div>"
      ],
      "text/plain": [
       "      index  0\n",
       "0  0.103787  0\n",
       "1  0.011150  0\n",
       "2  0.020607  0\n",
       "3  0.046543  0\n",
       "4  0.173875  1"
      ]
     },
     "execution_count": 54,
     "metadata": {},
     "output_type": "execute_result"
    }
   ],
   "source": [
    "# Create a df that uses the adjacency list focal values and the BBs counts\n",
    "temp = pd.DataFrame(adj_list.focal.values, test).reset_index()\n",
    "temp[0:5]"
   ]
  },
  {
   "cell_type": "code",
   "execution_count": 55,
   "metadata": {},
   "outputs": [],
   "source": [
    "# Temporarily rename the columns\n",
    "temp.columns = ['Eij', 'ID']\n",
    "temp = temp.groupby(by='ID').sum()"
   ]
  },
  {
   "cell_type": "code",
   "execution_count": 56,
   "metadata": {},
   "outputs": [
    {
     "data": {
      "text/plain": [
       "array([0.18208704, 0.56001403, 0.97529461, 0.21590694, 0.61737256])"
      ]
     },
     "execution_count": 56,
     "metadata": {},
     "output_type": "execute_result"
    }
   ],
   "source": [
    "temp.Eij.values[0:5]"
   ]
  },
  {
   "cell_type": "markdown",
   "metadata": {},
   "source": [
    "# Start building function"
   ]
  },
  {
   "cell_type": "markdown",
   "metadata": {},
   "source": [
    "Need to add quads functionality to the statistic!"
   ]
  },
  {
   "cell_type": "code",
   "execution_count": 32,
   "metadata": {},
   "outputs": [],
   "source": [
    "#%load_ext pycodestyle_magic"
   ]
  },
  {
   "cell_type": "code",
   "execution_count": 40,
   "metadata": {},
   "outputs": [],
   "source": [
    "#%pycodestyle_off"
   ]
  },
  {
   "cell_type": "code",
   "execution_count": 57,
   "metadata": {},
   "outputs": [],
   "source": [
    "import numpy as np\n",
    "import pandas as pd\n",
    "import warnings\n",
    "from scipy import sparse\n",
    "from scipy import stats\n",
    "from sklearn.base import BaseEstimator\n",
    "import libpysal as lp\n",
    "from esda.crand import (\n",
    "    crand as _crand_plus,\n",
    "    njit as _njit,\n",
    "    _prepare_univariate\n",
    ")\n",
    "\n",
    "\n",
    "PERMUTATIONS = 999\n",
    "\n",
    "\n",
    "class Local_Geary(BaseEstimator):\n",
    "    \"\"\"Local Geary - Univariate\"\"\"\n",
    "\n",
    "    def __init__(self, connectivity=None, permutations=PERMUTATIONS, n_jobs=1,\n",
    "                 keep_simulations=True, seed=None):\n",
    "        \"\"\"\n",
    "        connectivity     : scipy.sparse matrix object\n",
    "                           the connectivity structure describing\n",
    "                           the relationships between observed units.\n",
    "                           Need not be row-standardized.\n",
    "        permutations     : int\n",
    "                           number of random permutations for calculation\n",
    "                           of pseudo p_values\n",
    "        n_jobs           : int\n",
    "                           Number of cores to be used in the conditional\n",
    "                           randomisation. If -1, all available cores are used.\n",
    "        keep_simulations : Boolean\n",
    "                           (default=True)\n",
    "                           If True, the entire matrix of replications under\n",
    "                           the null is stored in memory and accessible;\n",
    "                           otherwise, replications are not saved\n",
    "        seed             : None/int\n",
    "                           Seed to ensure reproducibility of conditional\n",
    "                           randomizations. Must be set here, and not outside\n",
    "                           of the function, since numba does not correctly\n",
    "                           interpret external seeds nor\n",
    "                           numpy.random.RandomState instances.\n",
    "\n",
    "        Attributes\n",
    "        ----------\n",
    "        localG          : numpy array\n",
    "                          array containing the observed univariate\n",
    "                          Local Geary values.\n",
    "        p_sim           : numpy array\n",
    "                          array containing the simulated\n",
    "                          p-values for each unit.\n",
    "        \"\"\"\n",
    "\n",
    "        self.connectivity = connectivity\n",
    "        self.permutations = permutations\n",
    "        self.n_jobs = n_jobs\n",
    "        self.keep_simulations = keep_simulations\n",
    "        self.seed = seed\n",
    "\n",
    "    def fit(self, x, n_jobs=1, permutations=999):\n",
    "        \"\"\"\n",
    "        Arguments\n",
    "        ---------\n",
    "        x                : numpy.ndarray\n",
    "                           array containing continuous data\n",
    "\n",
    "        Returns\n",
    "        -------\n",
    "        the fitted estimator.\n",
    "\n",
    "        Notes\n",
    "        -----\n",
    "        Technical details and derivations can be found in :cite:`Anselin1995`.\n",
    "\n",
    "        Examples\n",
    "        --------\n",
    "        Guerry data replication GeoDa tutorial\n",
    "        >>> import libpysal as lp\n",
    "        >>> import geopandas as gpd\n",
    "        >>> guerry = lp.examples.load_example('Guerry')\n",
    "        >>> guerry_ds = gpd.read_file(guerry.get_path('Guerry.shp'))\n",
    "        >>> w = libpysal.weights.Queen.from_dataframe(guerry_ds)\n",
    "        >>> y = guerry_ds['Donatns']\n",
    "        >>> lG = Local_Geary(connectivity=w).fit(y)\n",
    "        >>> lG.localG[0:5]\n",
    "        >>> lG.p_sim[0:5]\n",
    "        \"\"\"\n",
    "        x = np.asarray(x).flatten()\n",
    "\n",
    "        w = self.connectivity\n",
    "        w.transform = 'r'\n",
    "\n",
    "        self.localG = self._statistic(x, w)\n",
    "\n",
    "        if self.permutations:\n",
    "            self.p_sim, self.rlocalG = _crand_plus(\n",
    "                z=(x - np.mean(x))/np.std(x),\n",
    "                w=w,\n",
    "                observed=self.localG,\n",
    "                permutations=permutations,\n",
    "                keep=True,\n",
    "                n_jobs=n_jobs,\n",
    "                stat_func=_local_geary\n",
    "            )\n",
    "\n",
    "        del (self.keep_simulations, self.n_jobs,\n",
    "             self.permutations, self.seed, self.rlocalG,\n",
    "             self.connectivity)\n",
    "\n",
    "        return self\n",
    "\n",
    "    @staticmethod\n",
    "    def _statistic(x, w):\n",
    "        # Caclulate z-scores for x\n",
    "        zscore_x = (x - np.mean(x))/np.std(x)\n",
    "        # Create focal (xi) and neighbor (zi) values\n",
    "        adj_list = w.to_adjlist(remove_symmetric=False)\n",
    "        zseries = pd.Series(zscore_x, index=w.id_order)\n",
    "        zi = zseries.loc[adj_list.focal].values\n",
    "        zj = zseries.loc[adj_list.neighbor].values\n",
    "        # Carry out local Geary calculation\n",
    "        gs = sum(list(w.weights.values()), []) * (zi-zj)**2\n",
    "        # Reorganize data\n",
    "        adj_list_gs = pd.DataFrame(adj_list.focal.values, gs).reset_index()\n",
    "        adj_list_gs.columns = ['gs', 'ID']\n",
    "        adj_list_gs = adj_list_gs.groupby(by='ID').sum()\n",
    "\n",
    "        localG = adj_list_gs.gs.values\n",
    "\n",
    "        return (localG)\n",
    "\n",
    "# --------------------------------------------------------------\n",
    "# Conditional Randomization Function Implementations\n",
    "# --------------------------------------------------------------\n",
    "\n",
    "# Note: does not using the scaling parameter\n",
    "\n",
    "\n",
    "@_njit(fastmath=True)\n",
    "def _local_geary(i, z, permuted_ids, weights_i, scaling):\n",
    "    zi, zrand = _prepare_univariate(i, z, permuted_ids, weights_i)\n",
    "    return (zi-zrand)**2 @ weights_i"
   ]
  },
  {
   "cell_type": "code",
   "execution_count": 58,
   "metadata": {},
   "outputs": [],
   "source": [
    "functest = Local_Geary(connectivity=wq).fit(x)"
   ]
  },
  {
   "cell_type": "code",
   "execution_count": 59,
   "metadata": {},
   "outputs": [
    {
     "data": {
      "text/plain": [
       "array([1.82087039e-01, 5.60014026e-01, 9.75294606e-01, 2.15906938e-01,\n",
       "       6.17372564e-01, 3.84450059e-02, 2.43181756e-01, 9.71802819e-01,\n",
       "       4.06447101e-02, 7.24722785e-01, 6.30952854e-02, 2.42104497e-02,\n",
       "       1.59496916e+01, 9.29326006e-01, 9.65188634e-01, 1.32383286e+00,\n",
       "       3.31775497e-01, 2.99446505e+00, 9.43946814e-01, 2.99570159e+00,\n",
       "       3.66702291e-01, 2.09592365e+00, 1.46515861e+00, 1.82118455e-01,\n",
       "       3.10216680e+00, 5.43063937e-01, 5.74532559e+00, 4.79160197e-02,\n",
       "       1.58993089e-01, 7.18327253e-01, 1.24297849e+00, 8.72629331e-02,\n",
       "       7.52809650e-01, 4.56515485e-01, 3.86766562e-01, 1.17632604e-01,\n",
       "       6.90884685e-01, 2.87206102e+00, 4.10455112e-01, 4.04349959e-01,\n",
       "       1.14211758e-01, 9.59519953e-01, 3.51347976e-01, 7.30240974e-01,\n",
       "       4.40370938e-01, 7.20360356e-02, 1.66241706e+00, 5.83258909e+00,\n",
       "       2.30332507e-01, 4.38369688e-01, 8.41461470e-01, 1.52959486e+00,\n",
       "       4.32157479e-02, 2.08325903e+00, 1.19722984e+00, 1.28169257e+00,\n",
       "       1.32443562e-01, 3.97452281e-01, 3.39175467e+00, 1.55325208e-02,\n",
       "       1.08504192e+00, 1.20141728e+00, 4.42727015e-01, 3.16097426e+00,\n",
       "       3.38714881e+00, 1.61732976e+00, 2.05483294e-01, 2.95666506e+00,\n",
       "       6.42017171e-01, 4.21213806e-01, 2.66678544e-02, 4.02155064e-01,\n",
       "       1.17112566e-01, 4.57596388e-01, 2.18572511e+00, 1.95661321e-01,\n",
       "       5.57923492e-02, 8.23656724e-02, 2.20496135e-02, 1.02137241e-01,\n",
       "       1.43925735e+00, 9.93140340e-01, 8.76795695e-01, 1.22224557e+00,\n",
       "       3.66964823e-01])"
      ]
     },
     "execution_count": 59,
     "metadata": {},
     "output_type": "execute_result"
    }
   ],
   "source": [
    "functest.localG"
   ]
  },
  {
   "cell_type": "code",
   "execution_count": 60,
   "metadata": {
    "scrolled": true
   },
   "outputs": [
    {
     "data": {
      "text/plain": [
       "array([0.191, 0.061, 0.077, 0.157, 0.463, 0.002, 0.153, 0.454, 0.029,\n",
       "       0.299, 0.009, 0.006, 0.172, 0.475, 0.006, 0.034, 0.005, 0.15 ,\n",
       "       0.323, 0.078, 0.002, 0.169, 0.336, 0.093, 0.079, 0.335, 0.031,\n",
       "       0.013, 0.024, 0.277, 0.256, 0.006, 0.498, 0.001, 0.117, 0.089,\n",
       "       0.321, 0.189, 0.292, 0.157, 0.047, 0.366, 0.196, 0.494, 0.282,\n",
       "       0.008, 0.208, 0.022, 0.142, 0.246, 0.292, 0.26 , 0.021, 0.06 ,\n",
       "       0.433, 0.331, 0.074, 0.288, 0.03 , 0.012, 0.242, 0.413, 0.438,\n",
       "       0.124, 0.43 , 0.159, 0.069, 0.11 , 0.293, 0.178, 0.087, 0.234,\n",
       "       0.016, 0.252, 0.008, 0.159, 0.032, 0.046, 0.011, 0.001, 0.039,\n",
       "       0.5  , 0.003, 0.343, 0.257])"
      ]
     },
     "execution_count": 60,
     "metadata": {},
     "output_type": "execute_result"
    }
   ],
   "source": [
    "functest.p_sim"
   ]
  },
  {
   "cell_type": "code",
   "execution_count": 26,
   "metadata": {},
   "outputs": [
    {
     "data": {
      "text/plain": [
       "array([0.19 , 0.066, 0.064, 0.177, 0.443])"
      ]
     },
     "execution_count": 26,
     "metadata": {},
     "output_type": "execute_result"
    }
   ],
   "source": [
    "import libpysal as lp\n",
    "import geopandas as gpd\n",
    "guerry = lp.examples.load_example('Guerry')\n",
    "guerry_ds = gpd.read_file(guerry.get_path('Guerry.shp'))\n",
    "w = libpysal.weights.Queen.from_dataframe(guerry_ds)\n",
    "y = guerry_ds['Donatns']\n",
    "lG = Local_Geary(connectivity=w).fit(y)\n",
    "lG.localG[0:5]\n",
    "lG.p_sim[0:5]"
   ]
  },
  {
   "cell_type": "markdown",
   "metadata": {},
   "source": [
    "## Start working on inference (note: now implemented above)"
   ]
  },
  {
   "cell_type": "markdown",
   "metadata": {},
   "source": [
    "### 'New' `_crand()` engine"
   ]
  },
  {
   "cell_type": "code",
   "execution_count": 24,
   "metadata": {},
   "outputs": [],
   "source": [
    "from esda.crand import (\n",
    "    crand as _crand_plus,\n",
    "    njit as _njit,\n",
    "    _prepare_univariate\n",
    ")"
   ]
  },
  {
   "cell_type": "code",
   "execution_count": 25,
   "metadata": {},
   "outputs": [],
   "source": [
    "@_njit(fastmath=True)\n",
    "def _local_geary(i, z, permuted_ids, weights_i, scaling):\n",
    "    zi, zrand = _prepare_univariate(i, z, permuted_ids, weights_i)\n",
    "    return (zi-zrand)**2 @ weights_i"
   ]
  },
  {
   "cell_type": "code",
   "execution_count": 26,
   "metadata": {},
   "outputs": [
    {
     "name": "stdout",
     "output_type": "stream",
     "text": [
      "[0.194 0.06  0.082 0.149 0.465 0.004 0.173 0.446 0.017 0.267 0.012 0.01\n",
      " 0.152 0.474 0.006 0.031 0.003 0.154 0.316 0.06  0.002 0.157 0.303 0.092\n",
      " 0.063 0.362 0.022 0.013 0.027 0.29  0.228 0.005 0.471 0.002 0.124 0.083\n",
      " 0.328 0.167 0.302 0.164 0.05  0.341 0.191 0.475 0.289 0.003 0.204 0.023\n",
      " 0.129 0.252 0.291 0.244 0.031 0.085 0.421 0.364 0.08  0.312 0.021 0.021\n",
      " 0.228 0.358 0.492 0.107 0.422 0.138 0.09  0.095 0.307 0.191 0.12  0.219\n",
      " 0.013 0.271 0.005 0.175 0.038 0.041 0.008 0.001 0.033 0.45  0.002 0.322\n",
      " 0.262]\n",
      "[[2.05263347 0.26799261 0.18726531 ... 5.59551063 0.07625188 0.61707767]\n",
      " [1.00043766 0.92158741 1.22897191 ... 3.43241739 1.20261723 0.48587636]\n",
      " [1.29903936 1.64818981 2.00888232 ... 3.41923814 2.32060801 1.05184552]\n",
      " ...\n",
      " [2.87201109 2.94999783 1.95852471 ... 3.24047778 3.3677634  2.2651586 ]\n",
      " [0.41795495 0.80604515 1.31935463 ... 0.87928535 0.35429401 2.27589509]\n",
      " [0.4498144  0.90007996 0.96779908 ... 1.00388175 0.39270281 2.615005  ]]\n"
     ]
    }
   ],
   "source": [
    "p_sim, rlocalG = _crand_plus(z=np.array(zscore_x), w=wq, observed=np.array(functest.localG), \n",
    "            permutations=999, keep=True, n_jobs=1, \n",
    "            stat_func=_local_geary)\n",
    "\n",
    "print(p_sim)\n",
    "print(rlocalG)"
   ]
  },
  {
   "cell_type": "markdown",
   "metadata": {},
   "source": [
    "# Multivariate Local Geary"
   ]
  },
  {
   "cell_type": "markdown",
   "metadata": {},
   "source": [
    "$$ c_i = \\sum_{h=1}^m \\sum_j w_{ij} (x_{hi} - x_{hj})^2 $$"
   ]
  },
  {
   "cell_type": "markdown",
   "metadata": {},
   "source": [
    "Load in the sample data"
   ]
  },
  {
   "cell_type": "code",
   "execution_count": 27,
   "metadata": {},
   "outputs": [],
   "source": [
    "import libpysal as lp\n",
    "import geopandas as gpd\n",
    "from scipy import stats\n",
    "import pandas as pd\n",
    "guerry = lp.examples.load_example('Guerry')\n",
    "guerry_ds = gpd.read_file(guerry.get_path('Guerry.shp'))"
   ]
  },
  {
   "cell_type": "code",
   "execution_count": 28,
   "metadata": {},
   "outputs": [],
   "source": [
    "wq = lp.weights.Queen.from_dataframe(guerry_ds)"
   ]
  },
  {
   "cell_type": "code",
   "execution_count": 29,
   "metadata": {},
   "outputs": [],
   "source": [
    "x = guerry_ds['Donatns']\n",
    "y = guerry_ds['Suicids']"
   ]
  },
  {
   "cell_type": "code",
   "execution_count": 30,
   "metadata": {},
   "outputs": [],
   "source": [
    "variables = [x,y]"
   ]
  },
  {
   "cell_type": "markdown",
   "metadata": {},
   "source": [
    "Standardize each variable"
   ]
  },
  {
   "cell_type": "code",
   "execution_count": 31,
   "metadata": {},
   "outputs": [],
   "source": [
    "from scipy import stats\n",
    "zseries = [stats.zscore(i) for i in variables]"
   ]
  },
  {
   "cell_type": "markdown",
   "metadata": {},
   "source": [
    "Build the adj lists"
   ]
  },
  {
   "cell_type": "code",
   "execution_count": 32,
   "metadata": {},
   "outputs": [],
   "source": [
    "adj_list = wq.to_adjlist(remove_symmetric=False)"
   ]
  },
  {
   "cell_type": "code",
   "execution_count": 33,
   "metadata": {},
   "outputs": [],
   "source": [
    "# The zseries\n",
    "zseries = [pd.Series(i, index=wq.id_order) for i in zseries]"
   ]
  },
  {
   "cell_type": "code",
   "execution_count": 61,
   "metadata": {},
   "outputs": [
    {
     "data": {
      "text/plain": [
       "[0    -0.336188\n",
       " 1     0.450441\n",
       " 2     0.879023\n",
       " 3    -0.825375\n",
       " 4     0.049370\n",
       "         ...   \n",
       " 80    1.512380\n",
       " 81    0.454785\n",
       " 82    1.467288\n",
       " 83   -0.555029\n",
       " 84   -0.506214\n",
       " Length: 85, dtype: float64,\n",
       " 0    -0.047195\n",
       " 1    -0.756433\n",
       " 2     2.478379\n",
       " 3    -0.711499\n",
       " 4    -0.649766\n",
       "         ...   \n",
       " 80    1.004270\n",
       " 81   -0.468369\n",
       " 82   -0.096441\n",
       " 83   -0.111387\n",
       " 84   -0.757774\n",
       " Length: 85, dtype: float64]"
      ]
     },
     "execution_count": 61,
     "metadata": {},
     "output_type": "execute_result"
    }
   ],
   "source": [
    "zseries[0:10]"
   ]
  },
  {
   "cell_type": "code",
   "execution_count": 35,
   "metadata": {},
   "outputs": [],
   "source": [
    "# The focal values\n",
    "focal = [zseries[i].loc[adj_list.focal].values for\n",
    "         i in range(len(variables))]\n",
    "# The neighbor values\n",
    "neighbor = [zseries[i].loc[adj_list.neighbor].values for\n",
    "            i in range(len(variables))]"
   ]
  },
  {
   "cell_type": "code",
   "execution_count": 36,
   "metadata": {},
   "outputs": [
    {
     "data": {
      "text/plain": [
       "-0.3361878263899247"
      ]
     },
     "execution_count": 36,
     "metadata": {},
     "output_type": "execute_result"
    }
   ],
   "source": [
    "np.array(focal)[0][0]"
   ]
  },
  {
   "cell_type": "code",
   "execution_count": 37,
   "metadata": {},
   "outputs": [
    {
     "data": {
      "text/plain": [
       "-0.9805080804028404"
      ]
     },
     "execution_count": 37,
     "metadata": {},
     "output_type": "execute_result"
    }
   ],
   "source": [
    "np.array(neighbor)[0][0]"
   ]
  },
  {
   "cell_type": "code",
   "execution_count": 38,
   "metadata": {},
   "outputs": [
    {
     "data": {
      "text/plain": [
       "0.4151485897312682"
      ]
     },
     "execution_count": 38,
     "metadata": {},
     "output_type": "execute_result"
    }
   ],
   "source": [
    "(np.array(focal)[0][0] - np.array(neighbor)[0][0])**2"
   ]
  },
  {
   "cell_type": "code",
   "execution_count": 39,
   "metadata": {},
   "outputs": [
    {
     "data": {
      "text/plain": [
       "0.4151485897312682"
      ]
     },
     "execution_count": 39,
     "metadata": {},
     "output_type": "execute_result"
    }
   ],
   "source": [
    "temp = (np.array(focal) - np.array(neighbor))**2\n",
    "temp[0][0]"
   ]
  },
  {
   "cell_type": "code",
   "execution_count": 40,
   "metadata": {},
   "outputs": [],
   "source": [
    "gs = sum(list(wq.weights.values()), []) * (np.array(focal) - np.array(neighbor))**2"
   ]
  },
  {
   "cell_type": "code",
   "execution_count": 41,
   "metadata": {},
   "outputs": [],
   "source": [
    "temp = pd.DataFrame(gs).T"
   ]
  },
  {
   "cell_type": "code",
   "execution_count": 42,
   "metadata": {},
   "outputs": [],
   "source": [
    "temp['ID'] = adj_list.focal.values"
   ]
  },
  {
   "cell_type": "code",
   "execution_count": 43,
   "metadata": {},
   "outputs": [
    {
     "data": {
      "text/html": [
       "<div>\n",
       "<style scoped>\n",
       "    .dataframe tbody tr th:only-of-type {\n",
       "        vertical-align: middle;\n",
       "    }\n",
       "\n",
       "    .dataframe tbody tr th {\n",
       "        vertical-align: top;\n",
       "    }\n",
       "\n",
       "    .dataframe thead th {\n",
       "        text-align: right;\n",
       "    }\n",
       "</style>\n",
       "<table border=\"1\" class=\"dataframe\">\n",
       "  <thead>\n",
       "    <tr style=\"text-align: right;\">\n",
       "      <th></th>\n",
       "      <th>0</th>\n",
       "      <th>1</th>\n",
       "    </tr>\n",
       "    <tr>\n",
       "      <th>ID</th>\n",
       "      <th></th>\n",
       "      <th></th>\n",
       "    </tr>\n",
       "  </thead>\n",
       "  <tbody>\n",
       "    <tr>\n",
       "      <th>0</th>\n",
       "      <td>0.728348</td>\n",
       "      <td>0.502200</td>\n",
       "    </tr>\n",
       "    <tr>\n",
       "      <th>1</th>\n",
       "      <td>3.360084</td>\n",
       "      <td>0.282630</td>\n",
       "    </tr>\n",
       "    <tr>\n",
       "      <th>2</th>\n",
       "      <td>5.851768</td>\n",
       "      <td>29.604873</td>\n",
       "    </tr>\n",
       "    <tr>\n",
       "      <th>3</th>\n",
       "      <td>0.863628</td>\n",
       "      <td>0.121489</td>\n",
       "    </tr>\n",
       "    <tr>\n",
       "      <th>4</th>\n",
       "      <td>1.852118</td>\n",
       "      <td>0.475642</td>\n",
       "    </tr>\n",
       "  </tbody>\n",
       "</table>\n",
       "</div>"
      ],
      "text/plain": [
       "           0          1\n",
       "ID                     \n",
       "0   0.728348   0.502200\n",
       "1   3.360084   0.282630\n",
       "2   5.851768  29.604873\n",
       "3   0.863628   0.121489\n",
       "4   1.852118   0.475642"
      ]
     },
     "execution_count": 43,
     "metadata": {},
     "output_type": "execute_result"
    }
   ],
   "source": [
    "adj_list_gs = temp.groupby(by='ID').sum()\n",
    "adj_list_gs.head()"
   ]
  },
  {
   "cell_type": "code",
   "execution_count": 44,
   "metadata": {},
   "outputs": [
    {
     "data": {
      "text/plain": [
       "2"
      ]
     },
     "execution_count": 44,
     "metadata": {},
     "output_type": "execute_result"
    }
   ],
   "source": [
    "k = len(variables)\n",
    "k"
   ]
  },
  {
   "cell_type": "code",
   "execution_count": 45,
   "metadata": {},
   "outputs": [
    {
     "data": {
      "text/plain": [
       "ID\n",
       "0      0.615274\n",
       "1      1.821357\n",
       "2     17.728320\n",
       "3      0.492558\n",
       "4      1.163880\n",
       "        ...    \n",
       "80     6.629720\n",
       "81     3.154587\n",
       "82     3.872022\n",
       "83     4.307689\n",
       "84     1.080905\n",
       "Length: 85, dtype: float64"
      ]
     },
     "execution_count": 45,
     "metadata": {},
     "output_type": "execute_result"
    }
   ],
   "source": [
    "adj_list_gs.sum(axis=1)/k"
   ]
  },
  {
   "cell_type": "code",
   "execution_count": 46,
   "metadata": {},
   "outputs": [],
   "source": [
    "import numpy as np\n",
    "import pandas as pd\n",
    "import warnings\n",
    "from scipy import sparse\n",
    "from scipy import stats\n",
    "from sklearn.base import BaseEstimator\n",
    "import libpysal as lp\n",
    "\n",
    "PERMUTATIONS=999\n",
    "\n",
    "class Local_Geary_MV(BaseEstimator):\n",
    "    \"\"\"Local Geary - Multivariate\"\"\"\n",
    "\n",
    "    def __init__(self, connectivity=None, permutations=PERMUTATIONS, n_jobs=1, \n",
    "                 keep_simulations=True, seed=None):\n",
    "        \"\"\"\n",
    "        connectivity     : scipy.sparse matrix object\n",
    "                           the connectivity structure describing\n",
    "                           the relationships between observed units.\n",
    "                           Need not be row-standardized.\n",
    "        permutations     : int\n",
    "                           number of random permutations for calculation of pseudo\n",
    "                           p_values\n",
    "        n_jobs           : int\n",
    "                           Number of cores to be used in the conditional randomisation. If -1,\n",
    "                           all available cores are used.    \n",
    "        keep_simulations : Boolean\n",
    "                           (default=True)\n",
    "                           If True, the entire matrix of replications under the null \n",
    "                           is stored in memory and accessible; otherwise, replications \n",
    "                           are not saved\n",
    "        seed             : None/int\n",
    "                           Seed to ensure reproducibility of conditional randomizations. \n",
    "                           Must be set here, and not outside of the function, since numba \n",
    "                           does not correctly interpret external seeds \n",
    "                           nor numpy.random.RandomState instances.  \n",
    "                           \n",
    "        Attributes\n",
    "        ----------\n",
    "        localG          : numpy array\n",
    "                          array containing the observed multivariate\n",
    "                          Local Geary values.\n",
    "        p_sim           : numpy array\n",
    "                          array containing the simulated\n",
    "                          p-values for each unit.\n",
    "        \"\"\"\n",
    "\n",
    "        self.connectivity = connectivity\n",
    "        self.permutations = permutations\n",
    "        self.n_jobs = n_jobs\n",
    "        self.keep_simulations = keep_simulations\n",
    "        self.seed = seed\n",
    "\n",
    "    def fit(self, variables, n_jobs=1, permutations=999):\n",
    "        \"\"\"\n",
    "        Arguments\n",
    "        ---------\n",
    "        variables        : numpy.ndarray\n",
    "                           array containing continuous data\n",
    "\n",
    "        Returns\n",
    "        -------\n",
    "        the fitted estimator.\n",
    "\n",
    "        Notes\n",
    "        -----\n",
    "        Technical details and derivations can be found in :cite:`Anselin1995`.\n",
    "\n",
    "        Examples\n",
    "        --------\n",
    "        Guerry data replication GeoDa tutorial\n",
    "        >>> import libpysal\n",
    "        >>> import geopandas as gpd\n",
    "        >>> guerry = lp.examples.load_example('Guerry')\n",
    "        >>> guerry_ds = gpd.read_file(guerry.get_path('Guerry.shp'))\n",
    "        >>> w = libpysal.weights.Queen.from_dataframe(guerry_ds)\n",
    "        \"\"\"\n",
    "        self.variables = np.array(variables, dtype='float')\n",
    "\n",
    "        w = self.connectivity\n",
    "        w.transform = 'r'\n",
    "\n",
    "        self.localG = self._statistic(variables, w)\n",
    "\n",
    "        if permutations:\n",
    "            pass\n",
    "\n",
    "        return self\n",
    "\n",
    "    @staticmethod\n",
    "    def _statistic(variables, w):\n",
    "        # Caclulate z-scores for input variables\n",
    "        zseries = [stats.zscore(i) for i in variables]\n",
    "        # Define denominator adjustment\n",
    "        k = len(variables)\n",
    "        # Create focal and neighbor values\n",
    "        adj_list = w.to_adjlist(remove_symmetric=False)\n",
    "        zseries = [pd.Series(i, index=wq.id_order) for i in zseries]\n",
    "        focal = [zseries[i].loc[adj_list.focal].values for\n",
    "                 i in range(len(variables))]\n",
    "        neighbor = [zseries[i].loc[adj_list.neighbor].values for\n",
    "                    i in range(len(variables))]\n",
    "        # Carry out local Geary calculation\n",
    "        gs = sum(list(wq.weights.values()), []) * \\\n",
    "        (np.array(focal) - np.array(neighbor))**2\n",
    "        # Reorganize data\n",
    "        temp = pd.DataFrame(gs).T\n",
    "        temp['ID'] = adj_list.focal.values\n",
    "        adj_list_gs = temp.groupby(by='ID').sum()\n",
    "        localG = adj_list_gs.sum(axis=1)/k\n",
    "        \n",
    "        return (localG)\n",
    "\n",
    "# --------------------------------------------------------------\n",
    "# Conditional Randomization Function Implementations\n",
    "# --------------------------------------------------------------\n",
    "\n",
    "# Note: does not using the scaling parameter\n",
    "\n",
    "@_njit(fastmath=True)\n",
    "def _local_geary(i, z, permuted_ids, weights_i, scaling):\n",
    "    zi, zrand = _prepare_univariate(i, z, permuted_ids, weights_i)\n",
    "    return (zi-zrand)**2 @ weights_i    "
   ]
  },
  {
   "cell_type": "code",
   "execution_count": 47,
   "metadata": {},
   "outputs": [
    {
     "data": {
      "text/plain": [
       "ID\n",
       "0     0.153819\n",
       "1     0.303560\n",
       "2     2.954720\n",
       "3     0.123140\n",
       "4     0.387960\n",
       "        ...   \n",
       "80    1.657430\n",
       "81    0.525764\n",
       "82    0.645337\n",
       "83    0.717948\n",
       "84    0.216181\n",
       "Length: 85, dtype: float64"
      ]
     },
     "execution_count": 47,
     "metadata": {},
     "output_type": "execute_result"
    }
   ],
   "source": [
    "functest = Local_Geary_MV(connectivity=wq).fit([x,y])\n",
    "functest.localG"
   ]
  },
  {
   "cell_type": "markdown",
   "metadata": {},
   "source": [
    "## Working on inference"
   ]
  },
  {
   "cell_type": "code",
   "execution_count": 48,
   "metadata": {},
   "outputs": [],
   "source": [
    "from esda.crand import (\n",
    "    crand as _crand_plus,\n",
    "    njit as _njit,\n",
    "    _prepare_univariate\n",
    ")"
   ]
  },
  {
   "cell_type": "code",
   "execution_count": 49,
   "metadata": {},
   "outputs": [],
   "source": [
    "@_njit(fastmath=True)\n",
    "def _local_geary(i, z, permuted_ids, weights_i, scaling):\n",
    "    zi, zrand = _prepare_univariate(i, z, permuted_ids, weights_i)\n",
    "    return (zi-zrand)**2 @ weights_i"
   ]
  },
  {
   "cell_type": "code",
   "execution_count": 50,
   "metadata": {},
   "outputs": [
    {
     "name": "stdout",
     "output_type": "stream",
     "text": [
      "[0.001 0.001 0.001 0.001 0.001 0.001 0.001 0.001 0.001 0.001 0.001 0.001\n",
      " 0.001 0.001 0.001 0.001 0.001 0.001 0.001 0.001 0.001 0.001 0.001 0.001\n",
      " 0.001 0.001 0.001 0.001 0.001 0.001 0.001 0.001 0.001 0.001 0.001 0.001\n",
      " 0.001 0.001 0.001 0.001 0.001 0.001 0.001 0.001 0.001 0.001 0.001 0.001\n",
      " 0.001 0.001 0.001 0.001 0.001 0.001 0.001 0.001 0.001 0.001 0.001 0.001\n",
      " 0.001 0.001 0.001 0.001 0.001 0.001 0.001 0.001 0.001 0.001 0.001 0.001\n",
      " 0.001 0.001 0.001 0.001 0.001 0.001 0.001 0.001 0.001 0.001 0.001 0.001\n",
      " 0.001]\n",
      "[[9.80030950e+06 4.96861950e+06 4.33885925e+06 ... 3.41027162e+07\n",
      "  6.95303925e+06 1.46068250e+05]\n",
      " [2.65690365e+07 2.30316072e+07 2.08195587e+07 ... 2.20637503e+07\n",
      "  3.04229432e+07 1.78539172e+07]\n",
      " [4.40311618e+07 3.90267565e+07 4.25120173e+07 ... 2.71152863e+07\n",
      "  5.63719805e+07 3.11692798e+07]\n",
      " ...\n",
      " [1.03346886e+08 4.92207678e+07 7.71749292e+07 ... 4.82089275e+07\n",
      "  8.95876458e+07 9.53348528e+07]\n",
      " [1.14138733e+06 1.00308852e+08 1.25228872e+07 ... 3.23375975e+07\n",
      "  1.07198458e+07 9.98648628e+07]\n",
      " [1.30859280e+06 1.15593672e+08 1.41637940e+07 ... 2.57053490e+07\n",
      "  1.23516150e+07 6.04642500e+06]]\n"
     ]
    }
   ],
   "source": [
    "p_sim, rlocalG = _crand_plus(z=np.array(x, dtype='float'), w=wq, observed=np.array(functest.localG), \n",
    "            permutations=999, keep=True, n_jobs=1, \n",
    "            stat_func=_local_geary)\n",
    "\n",
    "print(p_sim)\n",
    "print(rlocalG)"
   ]
  },
  {
   "cell_type": "code",
   "execution_count": 51,
   "metadata": {},
   "outputs": [],
   "source": [
    "x_zscore = stats.zscore(x)\n",
    "y_zscore = stats.zscore(y)"
   ]
  },
  {
   "cell_type": "code",
   "execution_count": 52,
   "metadata": {},
   "outputs": [
    {
     "data": {
      "text/plain": [
       "array([[-0.33618783, -0.04719523],\n",
       "       [ 0.45044136, -0.75643306],\n",
       "       [ 0.87902293,  2.47837872],\n",
       "       [-0.82537479, -0.71149891],\n",
       "       [ 0.0493701 , -0.64976635]])"
      ]
     },
     "execution_count": 52,
     "metadata": {},
     "output_type": "execute_result"
    }
   ],
   "source": [
    "result = zip(x_zscore, y_zscore)\n",
    "result = list(result)\n",
    "result = np.array(result)\n",
    "result[0:5]"
   ]
  },
  {
   "cell_type": "code",
   "execution_count": 53,
   "metadata": {},
   "outputs": [],
   "source": [
    "permutations = 999\n",
    "# Get length based on first variable\n",
    "n = len(result)\n",
    "localGs = np.zeros((n, permutations))\n",
    "n_1 = n - 1\n",
    "prange = list(range(permutations))\n",
    "k = wq.max_neighbors + 1\n",
    "nn = n - 1\n",
    "rids = np.array([np.random.permutation(nn)[0:k] for i in prange])\n",
    "ids = np.arange(wq.n)\n",
    "ido = wq.id_order\n",
    "w = [wq.weights[ido[i]] for i in ids]\n",
    "wc = [wq.cardinalities[ido[i]] for i in ids]\n"
   ]
  },
  {
   "cell_type": "markdown",
   "metadata": {},
   "source": [
    "Note: below **are** z-score standardized"
   ]
  },
  {
   "cell_type": "code",
   "execution_count": 54,
   "metadata": {},
   "outputs": [
    {
     "data": {
      "text/plain": [
       "[0.25, 0.25, 0.25, 0.25]"
      ]
     },
     "execution_count": 54,
     "metadata": {},
     "output_type": "execute_result"
    }
   ],
   "source": [
    "wq.weights[0]"
   ]
  },
  {
   "cell_type": "code",
   "execution_count": 55,
   "metadata": {},
   "outputs": [],
   "source": [
    "for i in range(wq.n):\n",
    "    idsi = ids[ids != i]\n",
    "    np.random.shuffle(idsi)\n",
    "    tmp = result[idsi[rids[:, 0:wc[i]]]]\n",
    "    # define zi?\n",
    "    zi = result[i][0]\n",
    "    # define zrand?\n",
    "    zrand = tmp[i][:,1]\n",
    "    # Subtract and square?\n",
    "    temp = (zi - zrand)**2\n",
    "    # Multiply by weights?\n",
    "    localGs[i] = (temp * wq.weights[i]).sum(0)\n",
    "    #joins[i] = result[i] * (w[i] * tmp).sum(1)\n",
    "    #localGs[i] = ((result[i,0] - tmp2)**2 * wq.weights[i][0]).sum(0)\n",
    "rlocalGs = localGs"
   ]
  },
  {
   "cell_type": "code",
   "execution_count": 56,
   "metadata": {},
   "outputs": [
    {
     "data": {
      "text/plain": [
       "array([[3.9717587 , 3.9717587 , 3.9717587 , ..., 3.9717587 , 3.9717587 ,\n",
       "        3.9717587 ],\n",
       "       [1.74989996, 1.74989996, 1.74989996, ..., 1.74989996, 1.74989996,\n",
       "        1.74989996],\n",
       "       [1.84848395, 1.84848395, 1.84848395, ..., 1.84848395, 1.84848395,\n",
       "        1.84848395],\n",
       "       ...,\n",
       "       [2.93835176, 2.93835176, 2.93835176, ..., 2.93835176, 2.93835176,\n",
       "        2.93835176],\n",
       "       [0.10131788, 0.10131788, 0.10131788, ..., 0.10131788, 0.10131788,\n",
       "        0.10131788],\n",
       "       [0.40014853, 0.40014853, 0.40014853, ..., 0.40014853, 0.40014853,\n",
       "        0.40014853]])"
      ]
     },
     "execution_count": 56,
     "metadata": {},
     "output_type": "execute_result"
    }
   ],
   "source": [
    "rlocalGs"
   ]
  },
  {
   "cell_type": "code",
   "execution_count": 57,
   "metadata": {},
   "outputs": [
    {
     "data": {
      "text/plain": [
       "array([[3.9717587 , 1.74989996, 1.84848395, ..., 2.93835176, 0.10131788,\n",
       "        0.40014853],\n",
       "       [3.9717587 , 1.74989996, 1.84848395, ..., 2.93835176, 0.10131788,\n",
       "        0.40014853],\n",
       "       [3.9717587 , 1.74989996, 1.84848395, ..., 2.93835176, 0.10131788,\n",
       "        0.40014853],\n",
       "       ...,\n",
       "       [3.9717587 , 1.74989996, 1.84848395, ..., 2.93835176, 0.10131788,\n",
       "        0.40014853],\n",
       "       [3.9717587 , 1.74989996, 1.84848395, ..., 2.93835176, 0.10131788,\n",
       "        0.40014853],\n",
       "       [3.9717587 , 1.74989996, 1.84848395, ..., 2.93835176, 0.10131788,\n",
       "        0.40014853]])"
      ]
     },
     "execution_count": 57,
     "metadata": {},
     "output_type": "execute_result"
    }
   ],
   "source": [
    "np.transpose(rlocalGs)"
   ]
  },
  {
   "cell_type": "code",
   "execution_count": 58,
   "metadata": {},
   "outputs": [
    {
     "name": "stdout",
     "output_type": "stream",
     "text": [
      "[ 3.9717587   1.74989996  1.84848395  0.16259905  0.60815684  0.69461573\n",
      "  7.3435836   0.55864019  0.22311996  0.96740117  0.38905425  1.94533832\n",
      " 15.77345769  0.5066816   3.15569397  3.25510059  1.48485159  2.60949699\n",
      "  0.62161498  1.57624453  1.70909514  0.06951547  9.30119783  3.11385176\n",
      "  2.3162792   1.05999882 15.53313673  0.39441147  1.22141286  1.5902047\n",
      "  2.0403228   3.58843212  0.49414432  2.25973022  0.63619647  0.37923618\n",
      "  2.62674149  2.57162957  0.29228435  3.4159719   0.82509152  1.24728002\n",
      "  1.80149777  1.7808194   0.81275629  6.83743352  0.07893041  1.06556625\n",
      "  1.1366002   0.942019    6.11250823  0.09168751  0.56992065  4.13389421\n",
      "  3.16959962  1.06396666  4.56573381  0.30289781  0.82284309  1.29017296\n",
      "  1.91483863  0.19379776  2.48910052  2.08155351  3.8453653   0.33514834\n",
      "  1.27133425  3.18939375  1.34585107  0.18252789  0.1738293   0.71667069\n",
      "  1.37785345  0.71270744  5.26570802  0.16598848  3.17905464  3.64248918\n",
      "  0.58383773  1.26728078  2.39828116  2.27259217  2.93835176  0.10131788\n",
      "  0.40014853]\n",
      "[ 3.9717587   1.74989996  1.84848395  0.16259905  0.60815684  0.69461573\n",
      "  7.3435836   0.55864019  0.22311996  0.96740117  0.38905425  1.94533832\n",
      " 15.77345769  0.5066816   3.15569397  3.25510059  1.48485159  2.60949699\n",
      "  0.62161498  1.57624453  1.70909514  0.06951547  9.30119783  3.11385176\n",
      "  2.3162792   1.05999882 15.53313673  0.39441147  1.22141286  1.5902047\n",
      "  2.0403228   3.58843212  0.49414432  2.25973022  0.63619647  0.37923618\n",
      "  2.62674149  2.57162957  0.29228435  3.4159719   0.82509152  1.24728002\n",
      "  1.80149777  1.7808194   0.81275629  6.83743352  0.07893041  1.06556625\n",
      "  1.1366002   0.942019    6.11250823  0.09168751  0.56992065  4.13389421\n",
      "  3.16959962  1.06396666  4.56573381  0.30289781  0.82284309  1.29017296\n",
      "  1.91483863  0.19379776  2.48910052  2.08155351  3.8453653   0.33514834\n",
      "  1.27133425  3.18939375  1.34585107  0.18252789  0.1738293   0.71667069\n",
      "  1.37785345  0.71270744  5.26570802  0.16598848  3.17905464  3.64248918\n",
      "  0.58383773  1.26728078  2.39828116  2.27259217  2.93835176  0.10131788\n",
      "  0.40014853]\n"
     ]
    }
   ],
   "source": [
    "sim = np.transpose(rlocalGs)\n",
    "print(sim[0])\n",
    "print(sim[1])"
   ]
  },
  {
   "cell_type": "code",
   "execution_count": 59,
   "metadata": {},
   "outputs": [
    {
     "data": {
      "text/plain": [
       "array([ 3.9717587 ,  1.74989996,  1.84848395,  0.16259905,  0.60815684,\n",
       "        0.69461573,  7.3435836 ,  0.55864019,  0.22311996,  0.96740117,\n",
       "        0.38905425,  1.94533832, 15.77345769,  0.5066816 ,  3.15569397,\n",
       "        3.25510059,  1.48485159,  2.60949699,  0.62161498,  1.57624453,\n",
       "        1.70909514,  0.06951547,  9.30119783,  3.11385176,  2.3162792 ,\n",
       "        1.05999882, 15.53313673,  0.39441147,  1.22141286,  1.5902047 ,\n",
       "        2.0403228 ,  3.58843212,  0.49414432,  2.25973022,  0.63619647,\n",
       "        0.37923618,  2.62674149,  2.57162957,  0.29228435,  3.4159719 ,\n",
       "        0.82509152,  1.24728002,  1.80149777,  1.7808194 ,  0.81275629,\n",
       "        6.83743352,  0.07893041,  1.06556625,  1.1366002 ,  0.942019  ,\n",
       "        6.11250823,  0.09168751,  0.56992065,  4.13389421,  3.16959962,\n",
       "        1.06396666,  4.56573381,  0.30289781,  0.82284309,  1.29017296,\n",
       "        1.91483863,  0.19379776,  2.48910052,  2.08155351,  3.8453653 ,\n",
       "        0.33514834,  1.27133425,  3.18939375,  1.34585107,  0.18252789,\n",
       "        0.1738293 ,  0.71667069,  1.37785345,  0.71270744,  5.26570802,\n",
       "        0.16598848,  3.17905464,  3.64248918,  0.58383773,  1.26728078,\n",
       "        2.39828116,  2.27259217,  2.93835176,  0.10131788,  0.40014853])"
      ]
     },
     "execution_count": 59,
     "metadata": {},
     "output_type": "execute_result"
    }
   ],
   "source": [
    "sim[0]"
   ]
  },
  {
   "cell_type": "code",
   "execution_count": 60,
   "metadata": {},
   "outputs": [
    {
     "ename": "NameError",
     "evalue": "name 'larger' is not defined",
     "output_type": "error",
     "traceback": [
      "\u001b[1;31m---------------------------------------------------------------------------\u001b[0m",
      "\u001b[1;31mNameError\u001b[0m                                 Traceback (most recent call last)",
      "\u001b[1;32m<ipython-input-60-2ea29c1322af>\u001b[0m in \u001b[0;36m<module>\u001b[1;34m\u001b[0m\n\u001b[1;32m----> 1\u001b[1;33m \u001b[0mlarger\u001b[0m\u001b[1;33m[\u001b[0m\u001b[1;32mFalse\u001b[0m\u001b[1;33m]\u001b[0m\u001b[1;33m\u001b[0m\u001b[1;33m\u001b[0m\u001b[0m\n\u001b[0m",
      "\u001b[1;31mNameError\u001b[0m: name 'larger' is not defined"
     ]
    }
   ],
   "source": [
    "larger[False]"
   ]
  },
  {
   "cell_type": "code",
   "execution_count": null,
   "metadata": {},
   "outputs": [],
   "source": [
    "above = sim[0] >= functest.localG\n",
    "larger = above.sum(0)\n",
    "low_extreme = (permutations - larger) < larger\n",
    "larger[low_extreme] = permutations - larger[low_extreme]\n",
    "p_sim = (larger + 1.0) / (permutations + 1.0)\n",
    "p_sim"
   ]
  },
  {
   "cell_type": "code",
   "execution_count": null,
   "metadata": {},
   "outputs": [],
   "source": [
    "temp2"
   ]
  }
 ],
 "metadata": {
  "kernelspec": {
   "display_name": "Python 3",
   "language": "python",
   "name": "python3"
  },
  "language_info": {
   "codemirror_mode": {
    "name": "ipython",
    "version": 3
   },
   "file_extension": ".py",
   "mimetype": "text/x-python",
   "name": "python",
   "nbconvert_exporter": "python",
   "pygments_lexer": "ipython3",
   "version": "3.8.3"
  }
 },
 "nbformat": 4,
 "nbformat_minor": 4
}
