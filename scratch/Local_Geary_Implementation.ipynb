{
 "cells": [
  {
   "cell_type": "markdown",
   "metadata": {},
   "source": [
    "Reference: https://geodacenter.github.io/workbook/6a_local_auto/lab6a.html#local-geary"
   ]
  },
  {
   "cell_type": "markdown",
   "metadata": {},
   "source": [
    "# Univariate local geary\n",
    "\n",
    "Interestingly, using [this equation](https://www.biomedware.com/files/documentation/spacestat/Statistics/Gearys_C/Geary_s_C_statistic.htm) which explicitly calls for standardization of input data. We also do NOT divide by 2.\n",
    "\n",
    "$$ c_i = \\sum_j w_{ij} (z_i - z_j)^2 $$ \n",
    "\n",
    "where: \n",
    "\n",
    "$z_i = x_i - \\bar{x}$ and $z_j = x_j - \\bar{x}$, and $w_{ij}$ are the elements of the row-standardized binary symmetric spatial weight matrix W. "
   ]
  },
  {
   "cell_type": "markdown",
   "metadata": {},
   "source": [
    "or, $$ c_i = (1/m^2) * \\sum_j w_{ij} (x_i - x_j)^2 $$"
   ]
  },
  {
   "cell_type": "markdown",
   "metadata": {},
   "source": [
    "where,"
   ]
  },
  {
   "cell_type": "markdown",
   "metadata": {},
   "source": [
    "$$ m^2 = \\sum_i (x_i−\\bar{x})^2/n $$"
   ]
  },
  {
   "cell_type": "markdown",
   "metadata": {},
   "source": [
    "## Load in example data"
   ]
  },
  {
   "cell_type": "code",
   "execution_count": 248,
   "metadata": {},
   "outputs": [],
   "source": [
    "import libpysal as lp\n",
    "import geopandas as gpd\n",
    "from scipy import stats\n",
    "import numpy as np\n",
    "guerry = lp.examples.load_example('Guerry')\n",
    "guerry_ds = gpd.read_file(guerry.get_path('Guerry.shp'))"
   ]
  },
  {
   "cell_type": "code",
   "execution_count": 249,
   "metadata": {},
   "outputs": [],
   "source": [
    "wq = lp.weights.Queen.from_dataframe(guerry_ds)"
   ]
  },
  {
   "cell_type": "code",
   "execution_count": 250,
   "metadata": {},
   "outputs": [
    {
     "data": {
      "text/plain": [
       "{66: 1.0, 35: 1.0, 68: 1.0, 36: 1.0}"
      ]
     },
     "execution_count": 250,
     "metadata": {},
     "output_type": "execute_result"
    }
   ],
   "source": [
    "wq[0]"
   ]
  },
  {
   "cell_type": "code",
   "execution_count": 251,
   "metadata": {},
   "outputs": [
    {
     "data": {
      "text/plain": [
       "{66: 0.25, 35: 0.25, 68: 0.25, 36: 0.25}"
      ]
     },
     "execution_count": 251,
     "metadata": {},
     "output_type": "execute_result"
    }
   ],
   "source": [
    "wq.transform = 'r'\n",
    "wq[0]"
   ]
  },
  {
   "cell_type": "code",
   "execution_count": 252,
   "metadata": {},
   "outputs": [
    {
     "name": "stdout",
     "output_type": "stream",
     "text": [
      "x_i is 5098\n",
      "x_j are 1983 4077 3710 3012\n"
     ]
    }
   ],
   "source": [
    "x = guerry_ds['Donatns']\n",
    "\n",
    "print(\"x_i is\", x[0])\n",
    "print(\"x_j are\", x[66], x[35], x[68], x[36])"
   ]
  },
  {
   "cell_type": "code",
   "execution_count": 254,
   "metadata": {},
   "outputs": [
    {
     "data": {
      "text/plain": [
       "0    -0.336188\n",
       "1     0.450441\n",
       "2     0.879023\n",
       "3    -0.825375\n",
       "4     0.049370\n",
       "        ...   \n",
       "80    1.512380\n",
       "81    0.454785\n",
       "82    1.467288\n",
       "83   -0.555029\n",
       "84   -0.506214\n",
       "Name: Donatns, Length: 85, dtype: float64"
      ]
     },
     "execution_count": 254,
     "metadata": {},
     "output_type": "execute_result"
    }
   ],
   "source": [
    "# Calculate zscore of input variable\n",
    "zscore_x = (x - np.mean(x))/np.std(x)\n",
    "zscore_x"
   ]
  },
  {
   "cell_type": "markdown",
   "metadata": {},
   "source": [
    "# Build observed local geary values"
   ]
  },
  {
   "cell_type": "code",
   "execution_count": 255,
   "metadata": {},
   "outputs": [
    {
     "data": {
      "text/html": [
       "<div>\n",
       "<style scoped>\n",
       "    .dataframe tbody tr th:only-of-type {\n",
       "        vertical-align: middle;\n",
       "    }\n",
       "\n",
       "    .dataframe tbody tr th {\n",
       "        vertical-align: top;\n",
       "    }\n",
       "\n",
       "    .dataframe thead th {\n",
       "        text-align: right;\n",
       "    }\n",
       "</style>\n",
       "<table border=\"1\" class=\"dataframe\">\n",
       "  <thead>\n",
       "    <tr style=\"text-align: right;\">\n",
       "      <th></th>\n",
       "      <th>focal</th>\n",
       "      <th>neighbor</th>\n",
       "      <th>weight</th>\n",
       "    </tr>\n",
       "  </thead>\n",
       "  <tbody>\n",
       "    <tr>\n",
       "      <th>0</th>\n",
       "      <td>0</td>\n",
       "      <td>66</td>\n",
       "      <td>0.250000</td>\n",
       "    </tr>\n",
       "    <tr>\n",
       "      <th>1</th>\n",
       "      <td>0</td>\n",
       "      <td>35</td>\n",
       "      <td>0.250000</td>\n",
       "    </tr>\n",
       "    <tr>\n",
       "      <th>2</th>\n",
       "      <td>0</td>\n",
       "      <td>68</td>\n",
       "      <td>0.250000</td>\n",
       "    </tr>\n",
       "    <tr>\n",
       "      <th>3</th>\n",
       "      <td>0</td>\n",
       "      <td>36</td>\n",
       "      <td>0.250000</td>\n",
       "    </tr>\n",
       "    <tr>\n",
       "      <th>4</th>\n",
       "      <td>1</td>\n",
       "      <td>48</td>\n",
       "      <td>0.166667</td>\n",
       "    </tr>\n",
       "  </tbody>\n",
       "</table>\n",
       "</div>"
      ],
      "text/plain": [
       "   focal  neighbor    weight\n",
       "0      0        66  0.250000\n",
       "1      0        35  0.250000\n",
       "2      0        68  0.250000\n",
       "3      0        36  0.250000\n",
       "4      1        48  0.166667"
      ]
     },
     "execution_count": 255,
     "metadata": {},
     "output_type": "execute_result"
    }
   ],
   "source": [
    "adj_list = wq.to_adjlist(remove_symmetric=False)\n",
    "adj_list.head()"
   ]
  },
  {
   "cell_type": "code",
   "execution_count": 256,
   "metadata": {},
   "outputs": [
    {
     "data": {
      "text/plain": [
       "0   -0.336188\n",
       "1    0.450441\n",
       "2    0.879023\n",
       "3   -0.825375\n",
       "4    0.049370\n",
       "Name: Donatns, dtype: float64"
      ]
     },
     "execution_count": 256,
     "metadata": {},
     "output_type": "execute_result"
    }
   ],
   "source": [
    "import pandas as pd\n",
    "zseries = pd.Series(zscore_x, index=wq.id_order)\n",
    "zseries[0:5]"
   ]
  },
  {
   "cell_type": "code",
   "execution_count": 257,
   "metadata": {},
   "outputs": [
    {
     "data": {
      "text/plain": [
       "array([-0.33618783, -0.33618783, -0.33618783, -0.33618783,  0.45044136])"
      ]
     },
     "execution_count": 257,
     "metadata": {},
     "output_type": "execute_result"
    }
   ],
   "source": [
    "# Define z_i\n",
    "zi = zseries.loc[adj_list.focal].values\n",
    "zi[0:5]"
   ]
  },
  {
   "cell_type": "code",
   "execution_count": 258,
   "metadata": {},
   "outputs": [
    {
     "data": {
      "text/plain": [
       "array([-0.98050808, -0.54737594, -0.62328783, -0.76766521, -0.5709562 ])"
      ]
     },
     "execution_count": 258,
     "metadata": {},
     "output_type": "execute_result"
    }
   ],
   "source": [
    "# Define zj\n",
    "zj = zseries.loc[adj_list.neighbor].values\n",
    "zj[0:5]"
   ]
  },
  {
   "cell_type": "code",
   "execution_count": 259,
   "metadata": {},
   "outputs": [
    {
     "data": {
      "text/plain": [
       "array([0.64432025, 0.21118812, 0.2871    , 0.43147738, 1.02139756])"
      ]
     },
     "execution_count": 259,
     "metadata": {},
     "output_type": "execute_result"
    }
   ],
   "source": [
    "(zi-zj)[0:5]"
   ]
  },
  {
   "cell_type": "code",
   "execution_count": 260,
   "metadata": {},
   "outputs": [],
   "source": [
    "#(zi-zj)**2"
   ]
  },
  {
   "cell_type": "markdown",
   "metadata": {},
   "source": [
    "Multiply by spatial weights"
   ]
  },
  {
   "cell_type": "code",
   "execution_count": 261,
   "metadata": {},
   "outputs": [],
   "source": [
    "# sum(list(wq.weights.values()), []) * (zi-zj)**2\n",
    "diff = zi-zj"
   ]
  },
  {
   "cell_type": "code",
   "execution_count": 262,
   "metadata": {},
   "outputs": [],
   "source": [
    "test = sum(list(wq.weights.values()), []) * (diff)**2"
   ]
  },
  {
   "cell_type": "code",
   "execution_count": 263,
   "metadata": {},
   "outputs": [
    {
     "data": {
      "text/html": [
       "<div>\n",
       "<style scoped>\n",
       "    .dataframe tbody tr th:only-of-type {\n",
       "        vertical-align: middle;\n",
       "    }\n",
       "\n",
       "    .dataframe tbody tr th {\n",
       "        vertical-align: top;\n",
       "    }\n",
       "\n",
       "    .dataframe thead th {\n",
       "        text-align: right;\n",
       "    }\n",
       "</style>\n",
       "<table border=\"1\" class=\"dataframe\">\n",
       "  <thead>\n",
       "    <tr style=\"text-align: right;\">\n",
       "      <th></th>\n",
       "      <th>index</th>\n",
       "      <th>0</th>\n",
       "      <th>2</th>\n",
       "    </tr>\n",
       "  </thead>\n",
       "  <tbody>\n",
       "    <tr>\n",
       "      <th>0</th>\n",
       "      <td>0.103787</td>\n",
       "      <td>0</td>\n",
       "      <td>0.644320</td>\n",
       "    </tr>\n",
       "    <tr>\n",
       "      <th>1</th>\n",
       "      <td>0.011150</td>\n",
       "      <td>0</td>\n",
       "      <td>0.211188</td>\n",
       "    </tr>\n",
       "    <tr>\n",
       "      <th>2</th>\n",
       "      <td>0.020607</td>\n",
       "      <td>0</td>\n",
       "      <td>0.287100</td>\n",
       "    </tr>\n",
       "    <tr>\n",
       "      <th>3</th>\n",
       "      <td>0.046543</td>\n",
       "      <td>0</td>\n",
       "      <td>0.431477</td>\n",
       "    </tr>\n",
       "    <tr>\n",
       "      <th>4</th>\n",
       "      <td>0.173875</td>\n",
       "      <td>1</td>\n",
       "      <td>1.021398</td>\n",
       "    </tr>\n",
       "  </tbody>\n",
       "</table>\n",
       "</div>"
      ],
      "text/plain": [
       "      index  0         2\n",
       "0  0.103787  0  0.644320\n",
       "1  0.011150  0  0.211188\n",
       "2  0.020607  0  0.287100\n",
       "3  0.046543  0  0.431477\n",
       "4  0.173875  1  1.021398"
      ]
     },
     "execution_count": 263,
     "metadata": {},
     "output_type": "execute_result"
    }
   ],
   "source": [
    "# Create a df that uses the adjacency list focal values and the BBs counts\n",
    "temp = pd.DataFrame(adj_list.focal.values, test).reset_index()\n",
    "temp[2] = diff\n",
    "temp.head()"
   ]
  },
  {
   "cell_type": "code",
   "execution_count": 264,
   "metadata": {},
   "outputs": [],
   "source": [
    "# Temporarily rename the columns\n",
    "temp.columns = ['E_ij', 'ID', 'Diff_ij']\n",
    "temp = temp.groupby(by='ID').sum()"
   ]
  },
  {
   "cell_type": "code",
   "execution_count": 265,
   "metadata": {},
   "outputs": [
    {
     "data": {
      "text/plain": [
       "array([0.18208704, 0.56001403, 0.97529461, 0.21590694, 0.61737256])"
      ]
     },
     "execution_count": 265,
     "metadata": {},
     "output_type": "execute_result"
    }
   ],
   "source": [
    "temp.E_ij.values[0:5]"
   ]
  },
  {
   "cell_type": "markdown",
   "metadata": {},
   "source": [
    "# Start building function"
   ]
  },
  {
   "cell_type": "code",
   "execution_count": 18,
   "metadata": {},
   "outputs": [],
   "source": [
    "#%load_ext pycodestyle_magic"
   ]
  },
  {
   "cell_type": "code",
   "execution_count": 95,
   "metadata": {},
   "outputs": [],
   "source": [
    "#%pycodestyle_off"
   ]
  },
  {
   "cell_type": "code",
   "execution_count": 266,
   "metadata": {},
   "outputs": [],
   "source": [
    "import numpy as np\n",
    "import pandas as pd\n",
    "import warnings\n",
    "from scipy import sparse\n",
    "from scipy import stats\n",
    "from sklearn.base import BaseEstimator\n",
    "import libpysal as lp\n",
    "from esda.crand import (\n",
    "    crand as _crand_plus,\n",
    "    njit as _njit,\n",
    "    _prepare_univariate\n",
    ")\n",
    "\n",
    "\n",
    "PERMUTATIONS = 999\n",
    "\n",
    "\n",
    "class Local_Geary(BaseEstimator):\n",
    "    \"\"\"Local Geary - Univariate\"\"\"\n",
    "\n",
    "    def __init__(self, connectivity=None, permutations=PERMUTATIONS, n_jobs=1,\n",
    "                 keep_simulations=True, seed=None):\n",
    "        \"\"\"\n",
    "        connectivity     : scipy.sparse matrix object\n",
    "                           the connectivity structure describing\n",
    "                           the relationships between observed units.\n",
    "                           Need not be row-standardized.\n",
    "        permutations     : int\n",
    "                           number of random permutations for calculation\n",
    "                           of pseudo p_values\n",
    "        n_jobs           : int\n",
    "                           Number of cores to be used in the conditional\n",
    "                           randomisation. If -1, all available cores are used.\n",
    "        keep_simulations : Boolean\n",
    "                           (default=True)\n",
    "                           If True, the entire matrix of replications under\n",
    "                           the null is stored in memory and accessible;\n",
    "                           otherwise, replications are not saved\n",
    "        seed             : None/int\n",
    "                           Seed to ensure reproducibility of conditional\n",
    "                           randomizations. Must be set here, and not outside\n",
    "                           of the function, since numba does not correctly\n",
    "                           interpret external seeds nor\n",
    "                           numpy.random.RandomState instances.\n",
    "\n",
    "        Attributes\n",
    "        ----------\n",
    "        localG          : numpy array\n",
    "                          array containing the observed univariate\n",
    "                          Local Geary values.\n",
    "        p_sim           : numpy array\n",
    "                          array containing the simulated\n",
    "                          p-values for each unit.\n",
    "        \"\"\"\n",
    "\n",
    "        self.connectivity = connectivity\n",
    "        self.permutations = permutations\n",
    "        self.n_jobs = n_jobs\n",
    "        self.keep_simulations = keep_simulations\n",
    "        self.seed = seed\n",
    "\n",
    "    def fit(self, x, n_jobs=1, permutations=999):\n",
    "        \"\"\"\n",
    "        Arguments\n",
    "        ---------\n",
    "        x                : numpy.ndarray\n",
    "                           array containing continuous data\n",
    "\n",
    "        Returns\n",
    "        -------\n",
    "        the fitted estimator.\n",
    "\n",
    "        Notes\n",
    "        -----\n",
    "        Technical details and derivations can be found in :cite:`Anselin1995`.\n",
    "\n",
    "        Examples\n",
    "        --------\n",
    "        Guerry data replication GeoDa tutorial\n",
    "        >>> import libpysal as lp\n",
    "        >>> import geopandas as gpd\n",
    "        >>> guerry = lp.examples.load_example('Guerry')\n",
    "        >>> guerry_ds = gpd.read_file(guerry.get_path('Guerry.shp'))\n",
    "        >>> w = libpysal.weights.Queen.from_dataframe(guerry_ds)\n",
    "        >>> y = guerry_ds['Donatns']\n",
    "        >>> lG = Local_Geary(connectivity=w).fit(y)\n",
    "        >>> lG.localG[0:5]\n",
    "        >>> lG.p_sim[0:5]\n",
    "        \"\"\"\n",
    "        x = np.asarray(x).flatten()\n",
    "\n",
    "        w = self.connectivity\n",
    "        w.transform = 'r'\n",
    "\n",
    "        self.localG = self._statistic(x, w)\n",
    "\n",
    "        if self.permutations:\n",
    "            self.p_sim, self.rlocalG = _crand_plus(\n",
    "                z=(x - np.mean(x))/np.std(x),\n",
    "                w=w,\n",
    "                observed=self.localG,\n",
    "                permutations=permutations,\n",
    "                keep=True,\n",
    "                n_jobs=n_jobs,\n",
    "                stat_func=_local_geary\n",
    "            )\n",
    "\n",
    "        del (self.keep_simulations, self.n_jobs,\n",
    "             self.permutations, self.seed, self.rlocalG,\n",
    "             self.connectivity)\n",
    "\n",
    "        return self\n",
    "\n",
    "    @staticmethod\n",
    "    def _statistic(x, w):\n",
    "        # Caclulate z-scores for x\n",
    "        zscore_x = (x - np.mean(x))/np.std(x)\n",
    "        # Create focal (xi) and neighbor (zi) values\n",
    "        adj_list = w.to_adjlist(remove_symmetric=False)\n",
    "        zseries = pd.Series(zscore_x, index=w.id_order)\n",
    "        zi = zseries.loc[adj_list.focal].values\n",
    "        zj = zseries.loc[adj_list.neighbor].values\n",
    "        # Carry out local Geary calculation\n",
    "        gs = sum(list(w.weights.values()), []) * (zi-zj)**2\n",
    "        # Reorganize data\n",
    "        adj_list_gs = pd.DataFrame(adj_list.focal.values, gs).reset_index()\n",
    "        adj_list_gs.columns = ['gs', 'ID']\n",
    "        adj_list_gs = adj_list_gs.groupby(by='ID').sum()\n",
    "\n",
    "        localG = adj_list_gs.gs.values\n",
    "\n",
    "        return (localG)\n",
    "\n",
    "# --------------------------------------------------------------\n",
    "# Conditional Randomization Function Implementations\n",
    "# --------------------------------------------------------------\n",
    "\n",
    "# Note: does not using the scaling parameter\n",
    "\n",
    "\n",
    "@_njit(fastmath=True)\n",
    "def _local_geary(i, z, permuted_ids, weights_i, scaling):\n",
    "    zi, zrand = _prepare_univariate(i, z, permuted_ids, weights_i)\n",
    "    return (zi-zrand)**2 @ weights_i"
   ]
  },
  {
   "cell_type": "code",
   "execution_count": 267,
   "metadata": {},
   "outputs": [],
   "source": [
    "functest = Local_Geary(connectivity=wq).fit(x)"
   ]
  },
  {
   "cell_type": "code",
   "execution_count": 268,
   "metadata": {},
   "outputs": [
    {
     "data": {
      "text/plain": [
       "array([1.82087039e-01, 5.60014026e-01, 9.75294606e-01, 2.15906938e-01,\n",
       "       6.17372564e-01, 3.84450059e-02, 2.43181756e-01, 9.71802819e-01,\n",
       "       4.06447101e-02, 7.24722785e-01, 6.30952854e-02, 2.42104497e-02,\n",
       "       1.59496916e+01, 9.29326006e-01, 9.65188634e-01, 1.32383286e+00,\n",
       "       3.31775497e-01, 2.99446505e+00, 9.43946814e-01, 2.99570159e+00,\n",
       "       3.66702291e-01, 2.09592365e+00, 1.46515861e+00, 1.82118455e-01,\n",
       "       3.10216680e+00, 5.43063937e-01, 5.74532559e+00, 4.79160197e-02,\n",
       "       1.58993089e-01, 7.18327253e-01, 1.24297849e+00, 8.72629331e-02,\n",
       "       7.52809650e-01, 4.56515485e-01, 3.86766562e-01, 1.17632604e-01,\n",
       "       6.90884685e-01, 2.87206102e+00, 4.10455112e-01, 4.04349959e-01,\n",
       "       1.14211758e-01, 9.59519953e-01, 3.51347976e-01, 7.30240974e-01,\n",
       "       4.40370938e-01, 7.20360356e-02, 1.66241706e+00, 5.83258909e+00,\n",
       "       2.30332507e-01, 4.38369688e-01, 8.41461470e-01, 1.52959486e+00,\n",
       "       4.32157479e-02, 2.08325903e+00, 1.19722984e+00, 1.28169257e+00,\n",
       "       1.32443562e-01, 3.97452281e-01, 3.39175467e+00, 1.55325208e-02,\n",
       "       1.08504192e+00, 1.20141728e+00, 4.42727015e-01, 3.16097426e+00,\n",
       "       3.38714881e+00, 1.61732976e+00, 2.05483294e-01, 2.95666506e+00,\n",
       "       6.42017171e-01, 4.21213806e-01, 2.66678544e-02, 4.02155064e-01,\n",
       "       1.17112566e-01, 4.57596388e-01, 2.18572511e+00, 1.95661321e-01,\n",
       "       5.57923492e-02, 8.23656724e-02, 2.20496135e-02, 1.02137241e-01,\n",
       "       1.43925735e+00, 9.93140340e-01, 8.76795695e-01, 1.22224557e+00,\n",
       "       3.66964823e-01])"
      ]
     },
     "execution_count": 268,
     "metadata": {},
     "output_type": "execute_result"
    }
   ],
   "source": [
    "functest.localG"
   ]
  },
  {
   "cell_type": "code",
   "execution_count": 269,
   "metadata": {
    "scrolled": true
   },
   "outputs": [
    {
     "data": {
      "text/plain": [
       "array([0.166, 0.054, 0.053, 0.153, 0.478, 0.002, 0.139, 0.454, 0.024,\n",
       "       0.284, 0.008, 0.011, 0.135, 0.446, 0.005, 0.029, 0.003, 0.151,\n",
       "       0.316, 0.067, 0.002, 0.178, 0.298, 0.114, 0.071, 0.374, 0.032,\n",
       "       0.013, 0.039, 0.303, 0.246, 0.006, 0.497, 0.002, 0.109, 0.094,\n",
       "       0.323, 0.206, 0.302, 0.162, 0.053, 0.372, 0.191, 0.491, 0.287,\n",
       "       0.002, 0.236, 0.028, 0.139, 0.257, 0.291, 0.26 , 0.019, 0.058,\n",
       "       0.461, 0.307, 0.06 , 0.287, 0.036, 0.02 , 0.254, 0.389, 0.474,\n",
       "       0.143, 0.386, 0.152, 0.079, 0.124, 0.305, 0.195, 0.098, 0.224,\n",
       "       0.009, 0.275, 0.006, 0.166, 0.039, 0.033, 0.011, 0.001, 0.028,\n",
       "       0.483, 0.001, 0.358, 0.282])"
      ]
     },
     "execution_count": 269,
     "metadata": {},
     "output_type": "execute_result"
    }
   ],
   "source": [
    "functest.p_sim"
   ]
  },
  {
   "cell_type": "code",
   "execution_count": 270,
   "metadata": {},
   "outputs": [
    {
     "data": {
      "text/plain": [
       "array([0.174, 0.047, 0.066, 0.152, 0.484])"
      ]
     },
     "execution_count": 270,
     "metadata": {},
     "output_type": "execute_result"
    }
   ],
   "source": [
    "import libpysal as lp\n",
    "import geopandas as gpd\n",
    "guerry = lp.examples.load_example('Guerry')\n",
    "guerry_ds = gpd.read_file(guerry.get_path('Guerry.shp'))\n",
    "w = lp.weights.Queen.from_dataframe(guerry_ds)\n",
    "y = guerry_ds['Donatns']\n",
    "lG = Local_Geary(connectivity=w).fit(y)\n",
    "lG.localG[0:5]\n",
    "lG.p_sim[0:5]"
   ]
  },
  {
   "cell_type": "markdown",
   "metadata": {},
   "source": [
    "# Create GeoDa quads calculation"
   ]
  },
  {
   "cell_type": "markdown",
   "metadata": {},
   "source": [
    "from https://github.com/GeoDaCenter/geoda/blob/master/Explore/LocalGearyCoordinator.cpp#L731-L736\n",
    "```\n",
    "// assign the cluster\n",
    "\t\t\tif (W[i].Size() > 0) {\n",
    "\t\t\t\tif (data1[i] > 0 && Wdata > 0) cluster[i] = 1;\n",
    "\t\t\t\telse if (data1[i] < 0 && Wdata > 0) cluster[i] = 3;\n",
    "\t\t\t\telse if (data1[i] < 0 && Wdata < 0) cluster[i] = 2;\n",
    "\t\t\t\telse cluster[i] = 4; //data1[i] > 0 && Wdata < 0\n",
    "```"
   ]
  },
  {
   "cell_type": "code",
   "execution_count": 271,
   "metadata": {},
   "outputs": [
    {
     "data": {
      "text/plain": [
       "array([2, 3, 3, 2, 4, 4, 3, 2, 4, 2, 2, 2, 1, 2, 2, 1, 2, 2, 2, 2, 2, 1,\n",
       "       1, 1, 3, 2])"
      ]
     },
     "execution_count": 271,
     "metadata": {},
     "output_type": "execute_result"
    }
   ],
   "source": [
    "# We need the GeoDa quad values from Local Moran. We use the GeoDa values.\n",
    "\n",
    "import esda\n",
    "localm = esda.Moran_Local(y = x, w = wq, geoda_quads=True)\n",
    "localm.q[59:85]"
   ]
  },
  {
   "cell_type": "markdown",
   "metadata": {},
   "source": [
    "### Low Low"
   ]
  },
  {
   "cell_type": "code",
   "execution_count": 272,
   "metadata": {},
   "outputs": [
    {
     "name": "stdout",
     "output_type": "stream",
     "text": [
      "1.157045600541073\n"
     ]
    },
    {
     "data": {
      "text/plain": [
       "False    70\n",
       "True     15\n",
       "dtype: int64"
      ]
     },
     "execution_count": 272,
     "metadata": {},
     "output_type": "execute_result"
    }
   ],
   "source": [
    "# Those locations identified as significant and with the Local Geary \n",
    "# statistic smaller than its mean (THE MEAN OF WHAT, the Local Geary values?)\n",
    "# suggest positive spatial autocorrelation (small differences imply similarity).\n",
    "\n",
    "# Mean of local geary\n",
    "E_ij_mean = np.mean(temp.E_ij.values); print(E_ij_mean)\n",
    "\n",
    "# Identify low low - only number that gets close is in Q2, but this is neg spatial autocorrelation\n",
    "ll = (temp.E_ij.values < E_ij_mean) & (functest.p_sim<=0.05) & (localm.q==2)\n",
    "pd.value_counts(ll)"
   ]
  },
  {
   "cell_type": "code",
   "execution_count": 273,
   "metadata": {},
   "outputs": [
    {
     "data": {
      "text/plain": [
       "False    85\n",
       "dtype: int64"
      ]
     },
     "execution_count": 273,
     "metadata": {},
     "output_type": "execute_result"
    }
   ],
   "source": [
    "# Shouldn't the quad be 3 according to Anselin 2017? Yet not at all close to what GeoDa reports.\n",
    "ll = (temp.E_ij.values < E_ij_mean) & (functest.p_sim<=0.05) & (localm.q==3)\n",
    "pd.value_counts(ll)"
   ]
  },
  {
   "cell_type": "markdown",
   "metadata": {},
   "source": [
    "Should be 17..."
   ]
  },
  {
   "cell_type": "markdown",
   "metadata": {},
   "source": [
    "### High high"
   ]
  },
  {
   "cell_type": "code",
   "execution_count": 274,
   "metadata": {},
   "outputs": [
    {
     "data": {
      "text/plain": [
       "False    80\n",
       "True      5\n",
       "dtype: int64"
      ]
     },
     "execution_count": 274,
     "metadata": {},
     "output_type": "execute_result"
    }
   ],
   "source": [
    "hh = (temp.E_ij.values < E_ij_mean) & (functest.p_sim<=0.05) & (localm.q==1)\n",
    "pd.value_counts(hh)"
   ]
  },
  {
   "cell_type": "markdown",
   "metadata": {},
   "source": [
    "Should by 9..."
   ]
  },
  {
   "cell_type": "markdown",
   "metadata": {},
   "source": [
    "### Negative"
   ]
  },
  {
   "cell_type": "code",
   "execution_count": 279,
   "metadata": {},
   "outputs": [
    {
     "data": {
      "text/plain": [
       "False    82\n",
       "True      3\n",
       "dtype: int64"
      ]
     },
     "execution_count": 279,
     "metadata": {},
     "output_type": "execute_result"
    }
   ],
   "source": [
    "# Originally using thise\n",
    "# Define large enough value from mean?\n",
    "neg = (temp.E_ij.values > 2*E_ij_mean) & (functest.p_sim<=0.05) & (localm.q!=2) & (localm.q!=4)\n",
    "pd.value_counts(neg)"
   ]
  },
  {
   "cell_type": "code",
   "execution_count": 280,
   "metadata": {},
   "outputs": [
    {
     "data": {
      "text/plain": [
       "False    85\n",
       "dtype: int64"
      ]
     },
     "execution_count": 280,
     "metadata": {},
     "output_type": "execute_result"
    }
   ],
   "source": [
    "# But shouldn't it be this?\n",
    "neg = (temp.E_ij.values > E_ij_mean) & (functest.p_sim<=0.05) & (localm.q!=1) & (localm.q!=3)\n",
    "pd.value_counts(neg)"
   ]
  },
  {
   "cell_type": "markdown",
   "metadata": {},
   "source": [
    "Should be 2..."
   ]
  },
  {
   "cell_type": "markdown",
   "metadata": {},
   "source": [
    "### Not significant"
   ]
  },
  {
   "cell_type": "code",
   "execution_count": 281,
   "metadata": {},
   "outputs": [
    {
     "data": {
      "text/plain": [
       "True     59\n",
       "False    26\n",
       "dtype: int64"
      ]
     },
     "execution_count": 281,
     "metadata": {},
     "output_type": "execute_result"
    }
   ],
   "source": [
    "neg = (functest.p_sim>0.05)\n",
    "pd.value_counts(neg)"
   ]
  },
  {
   "cell_type": "markdown",
   "metadata": {},
   "source": [
    "Should be 57, this is close enough..."
   ]
  },
  {
   "cell_type": "markdown",
   "metadata": {},
   "source": [
    "## Start working on inference (note: now implemented above)"
   ]
  },
  {
   "cell_type": "markdown",
   "metadata": {},
   "source": [
    "### 'New' `_crand()` engine"
   ]
  },
  {
   "cell_type": "code",
   "execution_count": 31,
   "metadata": {},
   "outputs": [],
   "source": [
    "from esda.crand import (\n",
    "    crand as _crand_plus,\n",
    "    njit as _njit,\n",
    "    _prepare_univariate\n",
    ")"
   ]
  },
  {
   "cell_type": "code",
   "execution_count": 32,
   "metadata": {},
   "outputs": [],
   "source": [
    "@_njit(fastmath=True)\n",
    "def _local_geary(i, z, permuted_ids, weights_i, scaling):\n",
    "    zi, zrand = _prepare_univariate(i, z, permuted_ids, weights_i)\n",
    "    return (zi-zrand)**2 @ weights_i"
   ]
  },
  {
   "cell_type": "code",
   "execution_count": 33,
   "metadata": {},
   "outputs": [
    {
     "name": "stdout",
     "output_type": "stream",
     "text": [
      "[0.194 0.053 0.066 0.159 0.468 0.004 0.159 0.442 0.022 0.294 0.012 0.011\n",
      " 0.151 0.469 0.008 0.032 0.002 0.148 0.313 0.064 0.001 0.164 0.293 0.1\n",
      " 0.102 0.352 0.03  0.008 0.028 0.289 0.254 0.007 0.499 0.001 0.117 0.084\n",
      " 0.323 0.197 0.292 0.154 0.04  0.353 0.205 0.5   0.272 0.003 0.219 0.033\n",
      " 0.129 0.241 0.285 0.264 0.022 0.077 0.451 0.338 0.069 0.299 0.036 0.014\n",
      " 0.266 0.387 0.45  0.117 0.407 0.138 0.065 0.111 0.305 0.182 0.103 0.225\n",
      " 0.025 0.251 0.005 0.142 0.038 0.043 0.01  0.001 0.038 0.496 0.003 0.368\n",
      " 0.238]\n",
      "[[1.34416656 3.93571646 6.05718259 ... 0.15580495 1.61364818 1.82238611]\n",
      " [0.76501968 2.55798897 3.19376032 ... 0.64876819 3.1509384  0.62455467]\n",
      " [1.02479282 2.73126956 3.07281259 ... 1.44927488 2.78422419 0.77106306]\n",
      " ...\n",
      " [3.80785221 2.8786164  4.17718341 ... 3.55153803 4.02843842 3.67598639]\n",
      " [0.23998923 3.88268789 0.46305311 ... 0.48327068 0.4715908  0.30277468]\n",
      " [0.25781257 1.20412533 0.52972599 ... 0.5430664  0.52039255 0.32108067]]\n"
     ]
    }
   ],
   "source": [
    "p_sim, rlocalG = _crand_plus(z=np.array(zscore_x), w=wq, observed=np.array(functest.localG), \n",
    "            permutations=999, keep=True, n_jobs=1, \n",
    "            stat_func=_local_geary)\n",
    "\n",
    "print(p_sim)\n",
    "print(rlocalG)"
   ]
  },
  {
   "cell_type": "markdown",
   "metadata": {},
   "source": [
    "## Rebuilding function with Quads\n"
   ]
  },
  {
   "cell_type": "code",
   "execution_count": 34,
   "metadata": {},
   "outputs": [],
   "source": [
    "#%load_ext pycodestyle_magic"
   ]
  },
  {
   "cell_type": "code",
   "execution_count": 35,
   "metadata": {},
   "outputs": [],
   "source": [
    "#%pycodestyle_off"
   ]
  },
  {
   "cell_type": "code",
   "execution_count": 244,
   "metadata": {},
   "outputs": [],
   "source": [
    "import numpy as np\n",
    "import pandas as pd\n",
    "import warnings\n",
    "from scipy import sparse\n",
    "from scipy import stats\n",
    "from sklearn.base import BaseEstimator\n",
    "import libpysal as lp\n",
    "from esda.crand import (\n",
    "    crand as _crand_plus,\n",
    "    njit as _njit,\n",
    "    _prepare_univariate\n",
    ")\n",
    "\n",
    "\n",
    "PERMUTATIONS = 999\n",
    "SIG = 0.05\n",
    "\n",
    "\n",
    "class Local_Geary(BaseEstimator):\n",
    "    \"\"\"Local Geary - Univariate\"\"\"\n",
    "\n",
    "    def __init__(self, connectivity=None, geoda_quads=False, sig=SIG,\n",
    "                 permutations=PERMUTATIONS, n_jobs=1, keep_simulations=True,\n",
    "                 seed=None):\n",
    "        \"\"\"\n",
    "        connectivity     : scipy.sparse matrix object\n",
    "                           the connectivity structure describing\n",
    "                           the relationships between observed units.\n",
    "                           Need not be row-standardized.\n",
    "        geoda_quads      : boolean\n",
    "                           (default=False)\n",
    "                           If True use GeoDa scheme: HH=1, LL=2, Other=3,\n",
    "                           Negative=4, NotSig=5\n",
    "        sig              : float\n",
    "                           (default=0.05)\n",
    "                           Default significance filter used for geoda_quads.\n",
    "        permutations     : int\n",
    "                           number of random permutations for calculation\n",
    "                           of pseudo p_values\n",
    "        n_jobs           : int\n",
    "                           Number of cores to be used in the conditional\n",
    "                           randomisation. If -1, all available cores are used.\n",
    "        keep_simulations : Boolean\n",
    "                           (default=True)\n",
    "                           If True, the entire matrix of replications under\n",
    "                           the null is stored in memory and accessible;\n",
    "                           otherwise, replications are not saved\n",
    "        seed             : None/int\n",
    "                           Seed to ensure reproducibility of conditional\n",
    "                           randomizations. Must be set here, and not outside\n",
    "                           of the function, since numba does not correctly\n",
    "                           interpret external seeds nor\n",
    "                           numpy.random.RandomState instances.\n",
    "\n",
    "        Attributes\n",
    "        ----------\n",
    "        localG          : numpy array\n",
    "                          array containing the observed univariate\n",
    "                          Local Geary values.\n",
    "        p_sim           : numpy array\n",
    "                          array containing the simulated\n",
    "                          p-values for each unit.\n",
    "        \"\"\"\n",
    "\n",
    "        self.connectivity = connectivity\n",
    "        self.geoda_quads = geoda_quads\n",
    "        self.sig = sig\n",
    "        self.permutations = permutations\n",
    "        self.n_jobs = n_jobs\n",
    "        self.keep_simulations = keep_simulations\n",
    "        self.seed = seed\n",
    "\n",
    "    def fit(self, x, n_jobs=1, permutations=999):\n",
    "        \"\"\"\n",
    "        Arguments\n",
    "        ---------\n",
    "        x                : numpy.ndarray\n",
    "                           array containing continuous data\n",
    "\n",
    "        Returns\n",
    "        -------\n",
    "        the fitted estimator.\n",
    "\n",
    "        Notes\n",
    "        -----\n",
    "        Technical details and derivations can be found in :cite:`Anselin1995`.\n",
    "\n",
    "        Examples\n",
    "        --------\n",
    "        Guerry data replication GeoDa tutorial\n",
    "        >>> import libpysal as lp\n",
    "        >>> import geopandas as gpd\n",
    "        >>> guerry = lp.examples.load_example('Guerry')\n",
    "        >>> guerry_ds = gpd.read_file(guerry.get_path('Guerry.shp'))\n",
    "        >>> w = libpysal.weights.Queen.from_dataframe(guerry_ds)\n",
    "        >>> y = guerry_ds['Donatns']\n",
    "        >>> lG = Local_Geary(connectivity=w).fit(y)\n",
    "        >>> lG.localG[0:5]\n",
    "        >>> lG.p_sim[0:5]\n",
    "        \"\"\"\n",
    "        x = np.asarray(x).flatten()\n",
    "\n",
    "        w = self.connectivity\n",
    "        w.transform = 'r'\n",
    "\n",
    "        self.localG = self._statistic(x, w)\n",
    "\n",
    "        if self.permutations:\n",
    "            self.p_sim, self.rlocalG = _crand_plus(\n",
    "                z=(x - np.mean(x))/np.std(x),\n",
    "                w=w,\n",
    "                observed=self.localG,\n",
    "                permutations=permutations,\n",
    "                keep=True,\n",
    "                n_jobs=n_jobs,\n",
    "                stat_func=_local_geary\n",
    "            )\n",
    "            \n",
    "        if self.geoda_quads:\n",
    "            from esda import Moran_Local\n",
    "            localm = Moran_Local(y=x, \n",
    "                                 w=w, \n",
    "                                 geoda_quads=True)\n",
    "            \n",
    "            Eij_mean = np.mean(self.localG)\n",
    "            \n",
    "            # Create empty vector\n",
    "            self.q = np.ones(len(x))*5\n",
    "            # 1: high high\n",
    "            self.q[(self.localG < E_ij_mean) & (self.p_sim<=self.sig) & (localm.q==1)] = 1\n",
    "            # 2: low low\n",
    "            self.q[(self.localG < E_ij_mean) & (self.p_sim<=self.sig) & (localm.q==2)] = 2\n",
    "            # 4: negative - 2*mean appropriate?\n",
    "            self.q[(self.localG > 2*E_ij_mean) & (self.p_sim<=self.sig) & (localm.q!=2) & (localm.q!=4)] = 4\n",
    "            # 5: not significant\n",
    "            self.q[self.p_sim > self.sig] = 0\n",
    "            # 0: other - all remaining obs? not sure how to define, need to double check...\n",
    "            # Do nothing\n",
    "\n",
    "        del (self.keep_simulations, self.n_jobs,\n",
    "             self.permutations, self.seed, self.rlocalG,\n",
    "             self.connectivity)\n",
    "\n",
    "        return self\n",
    "\n",
    "    @staticmethod\n",
    "    def _statistic(x, w):\n",
    "        # Caclulate z-scores for x\n",
    "        zscore_x = (x - np.mean(x))/np.std(x)\n",
    "        # Create focal (xi) and neighbor (zi) values\n",
    "        adj_list = w.to_adjlist(remove_symmetric=False)\n",
    "        zseries = pd.Series(zscore_x, index=w.id_order)\n",
    "        zi = zseries.loc[adj_list.focal].values\n",
    "        zj = zseries.loc[adj_list.neighbor].values\n",
    "        # Carry out local Geary calculation\n",
    "        gs = sum(list(w.weights.values()), []) * (zi-zj)**2\n",
    "        # Reorganize data\n",
    "        adj_list_gs = pd.DataFrame(adj_list.focal.values, gs).reset_index()\n",
    "        adj_list_gs.columns = ['gs', 'ID']\n",
    "        adj_list_gs = adj_list_gs.groupby(by='ID').sum()\n",
    "\n",
    "        localG = adj_list_gs.gs.values\n",
    "\n",
    "        return (localG)\n",
    "\n",
    "# --------------------------------------------------------------\n",
    "# Conditional Randomization Function Implementations\n",
    "# --------------------------------------------------------------\n",
    "\n",
    "# Note: does not using the scaling parameter\n",
    "\n",
    "\n",
    "@_njit(fastmath=True)\n",
    "def _local_geary(i, z, permuted_ids, weights_i, scaling):\n",
    "    zi, zrand = _prepare_univariate(i, z, permuted_ids, weights_i)\n",
    "    return (zi-zrand)**2 @ weights_i"
   ]
  },
  {
   "cell_type": "code",
   "execution_count": 245,
   "metadata": {},
   "outputs": [],
   "source": [
    "functest = Local_Geary(connectivity=wq, geoda_quads=True).fit(x)"
   ]
  },
  {
   "cell_type": "code",
   "execution_count": 246,
   "metadata": {},
   "outputs": [
    {
     "data": {
      "text/plain": [
       "array([0., 5., 0., 0., 0., 2., 0., 0., 2., 0., 2., 2., 0., 0., 1., 5., 1.,\n",
       "       0., 0., 0., 1., 0., 0., 0., 0., 0., 4., 2., 2., 0., 0., 2., 0., 1.,\n",
       "       0., 0., 0., 0., 0., 0., 2., 0., 0., 0., 0., 2., 0., 4., 0., 0., 0.,\n",
       "       0., 2., 0., 0., 0., 0., 0., 4., 2., 0., 0., 0., 0., 0., 0., 0., 0.,\n",
       "       0., 0., 0., 0., 2., 0., 5., 0., 2., 2., 2., 2., 5., 0., 1., 0., 0.])"
      ]
     },
     "execution_count": 246,
     "metadata": {},
     "output_type": "execute_result"
    }
   ],
   "source": [
    "functest.q"
   ]
  },
  {
   "cell_type": "code",
   "execution_count": 247,
   "metadata": {},
   "outputs": [
    {
     "data": {
      "text/plain": [
       "0.0    57\n",
       "2.0    16\n",
       "1.0     5\n",
       "5.0     4\n",
       "4.0     3\n",
       "dtype: int64"
      ]
     },
     "execution_count": 247,
     "metadata": {},
     "output_type": "execute_result"
    }
   ],
   "source": [
    "pd.value_counts(functest.q)"
   ]
  },
  {
   "cell_type": "code",
   "execution_count": 213,
   "metadata": {},
   "outputs": [],
   "source": [
    "functest = Local_Geary(connectivity=wq, geoda_quads=True).fit(guerry_ds['Suicids'])"
   ]
  },
  {
   "cell_type": "code",
   "execution_count": 214,
   "metadata": {},
   "outputs": [
    {
     "data": {
      "text/plain": [
       "0.0    49\n",
       "2.0    23\n",
       "4.0     5\n",
       "1.0     4\n",
       "5.0     4\n",
       "dtype: int64"
      ]
     },
     "execution_count": 214,
     "metadata": {},
     "output_type": "execute_result"
    }
   ],
   "source": [
    "pd.value_counts(functest.q)"
   ]
  },
  {
   "cell_type": "markdown",
   "metadata": {},
   "source": [
    "# Multivariate Local Geary"
   ]
  },
  {
   "cell_type": "markdown",
   "metadata": {},
   "source": [
    "$$ c_i = \\sum_{h=1}^m \\sum_j w_{ij} (x_{hi} - x_{hj})^2 $$"
   ]
  },
  {
   "cell_type": "markdown",
   "metadata": {},
   "source": [
    "Load in the sample data"
   ]
  },
  {
   "cell_type": "code",
   "execution_count": 42,
   "metadata": {},
   "outputs": [],
   "source": [
    "import libpysal as lp\n",
    "import geopandas as gpd\n",
    "from scipy import stats\n",
    "import pandas as pd\n",
    "guerry = lp.examples.load_example('Guerry')\n",
    "guerry_ds = gpd.read_file(guerry.get_path('Guerry.shp'))"
   ]
  },
  {
   "cell_type": "code",
   "execution_count": 43,
   "metadata": {},
   "outputs": [],
   "source": [
    "wq = lp.weights.Queen.from_dataframe(guerry_ds)"
   ]
  },
  {
   "cell_type": "code",
   "execution_count": 44,
   "metadata": {},
   "outputs": [],
   "source": [
    "x = guerry_ds['Donatns']\n",
    "y = guerry_ds['Suicids']"
   ]
  },
  {
   "cell_type": "code",
   "execution_count": 45,
   "metadata": {},
   "outputs": [],
   "source": [
    "variables = [x,y]"
   ]
  },
  {
   "cell_type": "markdown",
   "metadata": {},
   "source": [
    "Standardize each variable"
   ]
  },
  {
   "cell_type": "code",
   "execution_count": 46,
   "metadata": {},
   "outputs": [],
   "source": [
    "from scipy import stats\n",
    "zseries = [stats.zscore(i) for i in variables]"
   ]
  },
  {
   "cell_type": "markdown",
   "metadata": {},
   "source": [
    "Build the adj lists"
   ]
  },
  {
   "cell_type": "code",
   "execution_count": 47,
   "metadata": {},
   "outputs": [],
   "source": [
    "adj_list = wq.to_adjlist(remove_symmetric=False)"
   ]
  },
  {
   "cell_type": "code",
   "execution_count": 48,
   "metadata": {},
   "outputs": [],
   "source": [
    "# The zseries\n",
    "zseries = [pd.Series(i, index=wq.id_order) for i in zseries]"
   ]
  },
  {
   "cell_type": "code",
   "execution_count": 49,
   "metadata": {},
   "outputs": [
    {
     "data": {
      "text/plain": [
       "[0    -0.336188\n",
       " 1     0.450441\n",
       " 2     0.879023\n",
       " 3    -0.825375\n",
       " 4     0.049370\n",
       "         ...   \n",
       " 80    1.512380\n",
       " 81    0.454785\n",
       " 82    1.467288\n",
       " 83   -0.555029\n",
       " 84   -0.506214\n",
       " Length: 85, dtype: float64,\n",
       " 0    -0.047195\n",
       " 1    -0.756433\n",
       " 2     2.478379\n",
       " 3    -0.711499\n",
       " 4    -0.649766\n",
       "         ...   \n",
       " 80    1.004270\n",
       " 81   -0.468369\n",
       " 82   -0.096441\n",
       " 83   -0.111387\n",
       " 84   -0.757774\n",
       " Length: 85, dtype: float64]"
      ]
     },
     "execution_count": 49,
     "metadata": {},
     "output_type": "execute_result"
    }
   ],
   "source": [
    "zseries[0:10]"
   ]
  },
  {
   "cell_type": "code",
   "execution_count": 50,
   "metadata": {},
   "outputs": [],
   "source": [
    "# The focal values\n",
    "focal = [zseries[i].loc[adj_list.focal].values for\n",
    "         i in range(len(variables))]\n",
    "# The neighbor values\n",
    "neighbor = [zseries[i].loc[adj_list.neighbor].values for\n",
    "            i in range(len(variables))]"
   ]
  },
  {
   "cell_type": "code",
   "execution_count": 51,
   "metadata": {},
   "outputs": [
    {
     "data": {
      "text/plain": [
       "-0.3361878263899247"
      ]
     },
     "execution_count": 51,
     "metadata": {},
     "output_type": "execute_result"
    }
   ],
   "source": [
    "np.array(focal)[0][0]"
   ]
  },
  {
   "cell_type": "code",
   "execution_count": 52,
   "metadata": {},
   "outputs": [
    {
     "data": {
      "text/plain": [
       "-0.9805080804028404"
      ]
     },
     "execution_count": 52,
     "metadata": {},
     "output_type": "execute_result"
    }
   ],
   "source": [
    "np.array(neighbor)[0][0]"
   ]
  },
  {
   "cell_type": "code",
   "execution_count": 53,
   "metadata": {},
   "outputs": [
    {
     "data": {
      "text/plain": [
       "0.4151485897312682"
      ]
     },
     "execution_count": 53,
     "metadata": {},
     "output_type": "execute_result"
    }
   ],
   "source": [
    "(np.array(focal)[0][0] - np.array(neighbor)[0][0])**2"
   ]
  },
  {
   "cell_type": "code",
   "execution_count": 54,
   "metadata": {},
   "outputs": [
    {
     "data": {
      "text/plain": [
       "0.4151485897312682"
      ]
     },
     "execution_count": 54,
     "metadata": {},
     "output_type": "execute_result"
    }
   ],
   "source": [
    "temp = (np.array(focal) - np.array(neighbor))**2\n",
    "temp[0][0]"
   ]
  },
  {
   "cell_type": "code",
   "execution_count": 55,
   "metadata": {},
   "outputs": [],
   "source": [
    "gs = sum(list(wq.weights.values()), []) * (np.array(focal) - np.array(neighbor))**2"
   ]
  },
  {
   "cell_type": "code",
   "execution_count": 56,
   "metadata": {},
   "outputs": [],
   "source": [
    "temp = pd.DataFrame(gs).T"
   ]
  },
  {
   "cell_type": "code",
   "execution_count": 57,
   "metadata": {},
   "outputs": [],
   "source": [
    "temp['ID'] = adj_list.focal.values"
   ]
  },
  {
   "cell_type": "code",
   "execution_count": 58,
   "metadata": {},
   "outputs": [
    {
     "data": {
      "text/html": [
       "<div>\n",
       "<style scoped>\n",
       "    .dataframe tbody tr th:only-of-type {\n",
       "        vertical-align: middle;\n",
       "    }\n",
       "\n",
       "    .dataframe tbody tr th {\n",
       "        vertical-align: top;\n",
       "    }\n",
       "\n",
       "    .dataframe thead th {\n",
       "        text-align: right;\n",
       "    }\n",
       "</style>\n",
       "<table border=\"1\" class=\"dataframe\">\n",
       "  <thead>\n",
       "    <tr style=\"text-align: right;\">\n",
       "      <th></th>\n",
       "      <th>0</th>\n",
       "      <th>1</th>\n",
       "    </tr>\n",
       "    <tr>\n",
       "      <th>ID</th>\n",
       "      <th></th>\n",
       "      <th></th>\n",
       "    </tr>\n",
       "  </thead>\n",
       "  <tbody>\n",
       "    <tr>\n",
       "      <th>0</th>\n",
       "      <td>0.728348</td>\n",
       "      <td>0.502200</td>\n",
       "    </tr>\n",
       "    <tr>\n",
       "      <th>1</th>\n",
       "      <td>3.360084</td>\n",
       "      <td>0.282630</td>\n",
       "    </tr>\n",
       "    <tr>\n",
       "      <th>2</th>\n",
       "      <td>5.851768</td>\n",
       "      <td>29.604873</td>\n",
       "    </tr>\n",
       "    <tr>\n",
       "      <th>3</th>\n",
       "      <td>0.863628</td>\n",
       "      <td>0.121489</td>\n",
       "    </tr>\n",
       "    <tr>\n",
       "      <th>4</th>\n",
       "      <td>1.852118</td>\n",
       "      <td>0.475642</td>\n",
       "    </tr>\n",
       "  </tbody>\n",
       "</table>\n",
       "</div>"
      ],
      "text/plain": [
       "           0          1\n",
       "ID                     \n",
       "0   0.728348   0.502200\n",
       "1   3.360084   0.282630\n",
       "2   5.851768  29.604873\n",
       "3   0.863628   0.121489\n",
       "4   1.852118   0.475642"
      ]
     },
     "execution_count": 58,
     "metadata": {},
     "output_type": "execute_result"
    }
   ],
   "source": [
    "adj_list_gs = temp.groupby(by='ID').sum()\n",
    "adj_list_gs.head()"
   ]
  },
  {
   "cell_type": "code",
   "execution_count": 59,
   "metadata": {},
   "outputs": [
    {
     "data": {
      "text/plain": [
       "2"
      ]
     },
     "execution_count": 59,
     "metadata": {},
     "output_type": "execute_result"
    }
   ],
   "source": [
    "k = len(variables)\n",
    "k"
   ]
  },
  {
   "cell_type": "code",
   "execution_count": 60,
   "metadata": {},
   "outputs": [
    {
     "data": {
      "text/plain": [
       "ID\n",
       "0      0.615274\n",
       "1      1.821357\n",
       "2     17.728320\n",
       "3      0.492558\n",
       "4      1.163880\n",
       "        ...    \n",
       "80     6.629720\n",
       "81     3.154587\n",
       "82     3.872022\n",
       "83     4.307689\n",
       "84     1.080905\n",
       "Length: 85, dtype: float64"
      ]
     },
     "execution_count": 60,
     "metadata": {},
     "output_type": "execute_result"
    }
   ],
   "source": [
    "adj_list_gs.sum(axis=1)/k"
   ]
  },
  {
   "cell_type": "code",
   "execution_count": 61,
   "metadata": {},
   "outputs": [],
   "source": [
    "import numpy as np\n",
    "import pandas as pd\n",
    "import warnings\n",
    "from scipy import sparse\n",
    "from scipy import stats\n",
    "from sklearn.base import BaseEstimator\n",
    "import libpysal as lp\n",
    "\n",
    "PERMUTATIONS=999\n",
    "\n",
    "class Local_Geary_MV(BaseEstimator):\n",
    "    \"\"\"Local Geary - Multivariate\"\"\"\n",
    "\n",
    "    def __init__(self, connectivity=None, permutations=PERMUTATIONS, n_jobs=1, \n",
    "                 keep_simulations=True, seed=None):\n",
    "        \"\"\"\n",
    "        connectivity     : scipy.sparse matrix object\n",
    "                           the connectivity structure describing\n",
    "                           the relationships between observed units.\n",
    "                           Need not be row-standardized.\n",
    "        permutations     : int\n",
    "                           number of random permutations for calculation of pseudo\n",
    "                           p_values\n",
    "        n_jobs           : int\n",
    "                           Number of cores to be used in the conditional randomisation. If -1,\n",
    "                           all available cores are used.    \n",
    "        keep_simulations : Boolean\n",
    "                           (default=True)\n",
    "                           If True, the entire matrix of replications under the null \n",
    "                           is stored in memory and accessible; otherwise, replications \n",
    "                           are not saved\n",
    "        seed             : None/int\n",
    "                           Seed to ensure reproducibility of conditional randomizations. \n",
    "                           Must be set here, and not outside of the function, since numba \n",
    "                           does not correctly interpret external seeds \n",
    "                           nor numpy.random.RandomState instances.  \n",
    "                           \n",
    "        Attributes\n",
    "        ----------\n",
    "        localG          : numpy array\n",
    "                          array containing the observed multivariate\n",
    "                          Local Geary values.\n",
    "        p_sim           : numpy array\n",
    "                          array containing the simulated\n",
    "                          p-values for each unit.\n",
    "        \"\"\"\n",
    "\n",
    "        self.connectivity = connectivity\n",
    "        self.permutations = permutations\n",
    "        self.n_jobs = n_jobs\n",
    "        self.keep_simulations = keep_simulations\n",
    "        self.seed = seed\n",
    "\n",
    "    def fit(self, variables, n_jobs=1, permutations=999):\n",
    "        \"\"\"\n",
    "        Arguments\n",
    "        ---------\n",
    "        variables        : numpy.ndarray\n",
    "                           array containing continuous data\n",
    "\n",
    "        Returns\n",
    "        -------\n",
    "        the fitted estimator.\n",
    "\n",
    "        Notes\n",
    "        -----\n",
    "        Technical details and derivations can be found in :cite:`Anselin1995`.\n",
    "\n",
    "        Examples\n",
    "        --------\n",
    "        Guerry data replication GeoDa tutorial\n",
    "        >>> import libpysal\n",
    "        >>> import geopandas as gpd\n",
    "        >>> guerry = lp.examples.load_example('Guerry')\n",
    "        >>> guerry_ds = gpd.read_file(guerry.get_path('Guerry.shp'))\n",
    "        >>> w = libpysal.weights.Queen.from_dataframe(guerry_ds)\n",
    "        \"\"\"\n",
    "        self.variables = np.array(variables, dtype='float')\n",
    "\n",
    "        w = self.connectivity\n",
    "        w.transform = 'r'\n",
    "\n",
    "        self.localG = self._statistic(variables, w)\n",
    "\n",
    "        if permutations:\n",
    "            pass\n",
    "\n",
    "        return self\n",
    "\n",
    "    @staticmethod\n",
    "    def _statistic(variables, w):\n",
    "        # Caclulate z-scores for input variables\n",
    "        zseries = [stats.zscore(i) for i in variables]\n",
    "        # Define denominator adjustment\n",
    "        k = len(variables)\n",
    "        # Create focal and neighbor values\n",
    "        adj_list = w.to_adjlist(remove_symmetric=False)\n",
    "        zseries = [pd.Series(i, index=wq.id_order) for i in zseries]\n",
    "        focal = [zseries[i].loc[adj_list.focal].values for\n",
    "                 i in range(len(variables))]\n",
    "        neighbor = [zseries[i].loc[adj_list.neighbor].values for\n",
    "                    i in range(len(variables))]\n",
    "        # Carry out local Geary calculation\n",
    "        gs = sum(list(wq.weights.values()), []) * \\\n",
    "        (np.array(focal) - np.array(neighbor))**2\n",
    "        # Reorganize data\n",
    "        temp = pd.DataFrame(gs).T\n",
    "        temp['ID'] = adj_list.focal.values\n",
    "        adj_list_gs = temp.groupby(by='ID').sum()\n",
    "        localG = adj_list_gs.sum(axis=1)/k\n",
    "        \n",
    "        return (localG)\n",
    "\n",
    "# --------------------------------------------------------------\n",
    "# Conditional Randomization Function Implementations\n",
    "# --------------------------------------------------------------\n",
    "\n",
    "# Note: does not using the scaling parameter\n",
    "\n",
    "@_njit(fastmath=True)\n",
    "def _local_geary(i, z, permuted_ids, weights_i, scaling):\n",
    "    zi, zrand = _prepare_univariate(i, z, permuted_ids, weights_i)\n",
    "    return (zi-zrand)**2 @ weights_i    "
   ]
  },
  {
   "cell_type": "code",
   "execution_count": 62,
   "metadata": {},
   "outputs": [
    {
     "data": {
      "text/plain": [
       "ID\n",
       "0     0.153819\n",
       "1     0.303560\n",
       "2     2.954720\n",
       "3     0.123140\n",
       "4     0.387960\n",
       "        ...   \n",
       "80    1.657430\n",
       "81    0.525764\n",
       "82    0.645337\n",
       "83    0.717948\n",
       "84    0.216181\n",
       "Length: 85, dtype: float64"
      ]
     },
     "execution_count": 62,
     "metadata": {},
     "output_type": "execute_result"
    }
   ],
   "source": [
    "functest = Local_Geary_MV(connectivity=wq).fit([x,y])\n",
    "functest.localG"
   ]
  },
  {
   "cell_type": "markdown",
   "metadata": {},
   "source": [
    "## Working on inference"
   ]
  },
  {
   "cell_type": "code",
   "execution_count": 63,
   "metadata": {},
   "outputs": [],
   "source": [
    "from esda.crand import (\n",
    "    crand as _crand_plus,\n",
    "    njit as _njit,\n",
    "    _prepare_univariate\n",
    ")"
   ]
  },
  {
   "cell_type": "code",
   "execution_count": 64,
   "metadata": {},
   "outputs": [],
   "source": [
    "@_njit(fastmath=True)\n",
    "def _local_geary(i, z, permuted_ids, weights_i, scaling):\n",
    "    zi, zrand = _prepare_univariate(i, z, permuted_ids, weights_i)\n",
    "    return (zi-zrand)**2 @ weights_i"
   ]
  },
  {
   "cell_type": "code",
   "execution_count": 65,
   "metadata": {},
   "outputs": [
    {
     "name": "stdout",
     "output_type": "stream",
     "text": [
      "[0.001 0.001 0.001 0.001 0.001 0.001 0.001 0.001 0.001 0.001 0.001 0.001\n",
      " 0.001 0.001 0.001 0.001 0.001 0.001 0.001 0.001 0.001 0.001 0.001 0.001\n",
      " 0.001 0.001 0.001 0.001 0.001 0.001 0.001 0.001 0.001 0.001 0.001 0.001\n",
      " 0.001 0.001 0.001 0.001 0.001 0.001 0.001 0.001 0.001 0.001 0.001 0.001\n",
      " 0.001 0.001 0.001 0.001 0.001 0.001 0.001 0.001 0.001 0.001 0.001 0.001\n",
      " 0.001 0.001 0.001 0.001 0.001 0.001 0.001 0.001 0.001 0.001 0.001 0.001\n",
      " 0.001 0.001 0.001 0.001 0.001 0.001 0.001 0.001 0.001 0.001 0.001 0.001\n",
      " 0.001]\n",
      "[[1.27213695e+07 8.58893325e+06 1.30386525e+07 ... 1.30844169e+08\n",
      "  1.13140950e+06 2.42693825e+06]\n",
      " [1.69938767e+07 3.32651060e+07 1.66522085e+07 ... 8.43416562e+07\n",
      "  2.32759417e+07 1.98182905e+07]\n",
      " [3.40947833e+07 5.06547113e+07 2.89550538e+07 ... 9.39840535e+07\n",
      "  4.68801657e+07 3.93634665e+07]\n",
      " ...\n",
      " [8.07803185e+07 9.72163752e+07 1.01242821e+08 ... 8.87716332e+07\n",
      "  8.86466285e+07 7.53740587e+07]\n",
      " [1.52353105e+07 2.03496012e+07 1.69014767e+06 ... 6.78358172e+07\n",
      "  1.14213645e+07 1.46230397e+07]\n",
      " [1.74451500e+07 2.39427486e+07 1.84530280e+06 ... 7.93025278e+07\n",
      "  2.18170940e+06 1.60026076e+07]]\n"
     ]
    }
   ],
   "source": [
    "p_sim, rlocalG = _crand_plus(z=np.array(x, dtype='float'), w=wq, observed=np.array(functest.localG), \n",
    "            permutations=999, keep=True, n_jobs=1, \n",
    "            stat_func=_local_geary)\n",
    "\n",
    "print(p_sim)\n",
    "print(rlocalG)"
   ]
  },
  {
   "cell_type": "code",
   "execution_count": 66,
   "metadata": {},
   "outputs": [],
   "source": [
    "x_zscore = stats.zscore(x)\n",
    "y_zscore = stats.zscore(y)"
   ]
  },
  {
   "cell_type": "code",
   "execution_count": 67,
   "metadata": {},
   "outputs": [
    {
     "data": {
      "text/plain": [
       "array([[-0.33618783, -0.04719523],\n",
       "       [ 0.45044136, -0.75643306],\n",
       "       [ 0.87902293,  2.47837872],\n",
       "       [-0.82537479, -0.71149891],\n",
       "       [ 0.0493701 , -0.64976635]])"
      ]
     },
     "execution_count": 67,
     "metadata": {},
     "output_type": "execute_result"
    }
   ],
   "source": [
    "result = zip(x_zscore, y_zscore)\n",
    "result = list(result)\n",
    "result = np.array(result)\n",
    "result[0:5]"
   ]
  },
  {
   "cell_type": "code",
   "execution_count": 68,
   "metadata": {},
   "outputs": [],
   "source": [
    "permutations = 999\n",
    "# Get length based on first variable\n",
    "n = len(result)\n",
    "localGs = np.zeros((n, permutations))\n",
    "n_1 = n - 1\n",
    "prange = list(range(permutations))\n",
    "k = wq.max_neighbors + 1\n",
    "nn = n - 1\n",
    "rids = np.array([np.random.permutation(nn)[0:k] for i in prange])\n",
    "ids = np.arange(wq.n)\n",
    "ido = wq.id_order\n",
    "w = [wq.weights[ido[i]] for i in ids]\n",
    "wc = [wq.cardinalities[ido[i]] for i in ids]\n"
   ]
  },
  {
   "cell_type": "markdown",
   "metadata": {},
   "source": [
    "Note: below **are** z-score standardized"
   ]
  },
  {
   "cell_type": "code",
   "execution_count": 69,
   "metadata": {},
   "outputs": [
    {
     "data": {
      "text/plain": [
       "[0.25, 0.25, 0.25, 0.25]"
      ]
     },
     "execution_count": 69,
     "metadata": {},
     "output_type": "execute_result"
    }
   ],
   "source": [
    "wq.weights[0]"
   ]
  },
  {
   "cell_type": "code",
   "execution_count": 70,
   "metadata": {},
   "outputs": [],
   "source": [
    "for i in range(wq.n):\n",
    "    idsi = ids[ids != i]\n",
    "    np.random.shuffle(idsi)\n",
    "    tmp = result[idsi[rids[:, 0:wc[i]]]]\n",
    "    # define zi?\n",
    "    zi = result[i][0]\n",
    "    # define zrand?\n",
    "    zrand = tmp[i][:,1]\n",
    "    # Subtract and square?\n",
    "    temp = (zi - zrand)**2\n",
    "    # Multiply by weights?\n",
    "    localGs[i] = (temp * wq.weights[i]).sum(0)\n",
    "    #joins[i] = result[i] * (w[i] * tmp).sum(1)\n",
    "    #localGs[i] = ((result[i,0] - tmp2)**2 * wq.weights[i][0]).sum(0)\n",
    "rlocalGs = localGs"
   ]
  },
  {
   "cell_type": "code",
   "execution_count": 71,
   "metadata": {},
   "outputs": [
    {
     "data": {
      "text/plain": [
       "array([[0.39467951, 0.39467951, 0.39467951, ..., 0.39467951, 0.39467951,\n",
       "        0.39467951],\n",
       "       [1.38828188, 1.38828188, 1.38828188, ..., 1.38828188, 1.38828188,\n",
       "        1.38828188],\n",
       "       [0.7247351 , 0.7247351 , 0.7247351 , ..., 0.7247351 , 0.7247351 ,\n",
       "        0.7247351 ],\n",
       "       ...,\n",
       "       [3.33840238, 3.33840238, 3.33840238, ..., 3.33840238, 3.33840238,\n",
       "        3.33840238],\n",
       "       [0.47662382, 0.47662382, 0.47662382, ..., 0.47662382, 0.47662382,\n",
       "        0.47662382],\n",
       "       [0.04553023, 0.04553023, 0.04553023, ..., 0.04553023, 0.04553023,\n",
       "        0.04553023]])"
      ]
     },
     "execution_count": 71,
     "metadata": {},
     "output_type": "execute_result"
    }
   ],
   "source": [
    "rlocalGs"
   ]
  },
  {
   "cell_type": "code",
   "execution_count": 72,
   "metadata": {},
   "outputs": [
    {
     "data": {
      "text/plain": [
       "array([[0.39467951, 1.38828188, 0.7247351 , ..., 3.33840238, 0.47662382,\n",
       "        0.04553023],\n",
       "       [0.39467951, 1.38828188, 0.7247351 , ..., 3.33840238, 0.47662382,\n",
       "        0.04553023],\n",
       "       [0.39467951, 1.38828188, 0.7247351 , ..., 3.33840238, 0.47662382,\n",
       "        0.04553023],\n",
       "       ...,\n",
       "       [0.39467951, 1.38828188, 0.7247351 , ..., 3.33840238, 0.47662382,\n",
       "        0.04553023],\n",
       "       [0.39467951, 1.38828188, 0.7247351 , ..., 3.33840238, 0.47662382,\n",
       "        0.04553023],\n",
       "       [0.39467951, 1.38828188, 0.7247351 , ..., 3.33840238, 0.47662382,\n",
       "        0.04553023]])"
      ]
     },
     "execution_count": 72,
     "metadata": {},
     "output_type": "execute_result"
    }
   ],
   "source": [
    "np.transpose(rlocalGs)"
   ]
  },
  {
   "cell_type": "code",
   "execution_count": 73,
   "metadata": {},
   "outputs": [
    {
     "name": "stdout",
     "output_type": "stream",
     "text": [
      "[3.94679513e-01 1.38828188e+00 7.24735104e-01 4.34630077e-01\n",
      " 5.16477510e-03 1.01757022e+00 4.81693340e+00 6.08396914e+00\n",
      " 1.25170386e+00 2.42329804e-01 6.10227684e-01 1.34031612e+00\n",
      " 2.02077777e+01 2.31271040e+00 3.11752317e+00 3.78103076e+00\n",
      " 3.46281849e+00 4.58414279e+00 2.54214333e-01 2.10543748e+00\n",
      " 2.01484508e+00 3.86507493e+00 2.44678752e-01 7.23409136e-01\n",
      " 2.22396942e+00 3.41729422e+00 1.43601707e+01 3.40992728e+00\n",
      " 2.04345248e-01 3.68532305e+00 2.28919438e+00 5.07079414e-01\n",
      " 6.03929237e-01 1.37146724e+00 1.06516964e+00 1.40489165e-01\n",
      " 2.19803861e-02 3.12804762e+00 1.38185076e+00 3.25632042e+00\n",
      " 3.35860137e-01 9.67914873e-01 1.97070794e+00 1.48251478e+00\n",
      " 1.65412794e+00 4.49757570e+00 5.65705426e-01 5.95248203e-02\n",
      " 3.69374414e+00 8.71297887e-01 1.12014317e+00 7.80649981e-02\n",
      " 1.19519156e-01 4.57036649e+00 1.19229560e+00 1.15045976e+00\n",
      " 2.98708594e-01 1.67009390e-01 7.14187339e-01 1.34892608e+01\n",
      " 2.47525651e+00 2.21219865e-01 3.01762150e-02 5.17466226e+00\n",
      " 3.37969757e+00 3.67248241e+00 5.00981572e+00 2.25086806e+00\n",
      " 9.22686375e-02 6.01164962e+00 1.75569594e-01 6.91081533e-01\n",
      " 3.50866275e-01 9.26535145e-02 7.05176035e+00 8.19716847e-01\n",
      " 1.14353496e-01 2.87675193e-01 7.87541136e-01 1.96525447e+00\n",
      " 4.08142017e+00 1.12651841e+00 3.33840238e+00 4.76623823e-01\n",
      " 4.55302322e-02]\n",
      "[3.94679513e-01 1.38828188e+00 7.24735104e-01 4.34630077e-01\n",
      " 5.16477510e-03 1.01757022e+00 4.81693340e+00 6.08396914e+00\n",
      " 1.25170386e+00 2.42329804e-01 6.10227684e-01 1.34031612e+00\n",
      " 2.02077777e+01 2.31271040e+00 3.11752317e+00 3.78103076e+00\n",
      " 3.46281849e+00 4.58414279e+00 2.54214333e-01 2.10543748e+00\n",
      " 2.01484508e+00 3.86507493e+00 2.44678752e-01 7.23409136e-01\n",
      " 2.22396942e+00 3.41729422e+00 1.43601707e+01 3.40992728e+00\n",
      " 2.04345248e-01 3.68532305e+00 2.28919438e+00 5.07079414e-01\n",
      " 6.03929237e-01 1.37146724e+00 1.06516964e+00 1.40489165e-01\n",
      " 2.19803861e-02 3.12804762e+00 1.38185076e+00 3.25632042e+00\n",
      " 3.35860137e-01 9.67914873e-01 1.97070794e+00 1.48251478e+00\n",
      " 1.65412794e+00 4.49757570e+00 5.65705426e-01 5.95248203e-02\n",
      " 3.69374414e+00 8.71297887e-01 1.12014317e+00 7.80649981e-02\n",
      " 1.19519156e-01 4.57036649e+00 1.19229560e+00 1.15045976e+00\n",
      " 2.98708594e-01 1.67009390e-01 7.14187339e-01 1.34892608e+01\n",
      " 2.47525651e+00 2.21219865e-01 3.01762150e-02 5.17466226e+00\n",
      " 3.37969757e+00 3.67248241e+00 5.00981572e+00 2.25086806e+00\n",
      " 9.22686375e-02 6.01164962e+00 1.75569594e-01 6.91081533e-01\n",
      " 3.50866275e-01 9.26535145e-02 7.05176035e+00 8.19716847e-01\n",
      " 1.14353496e-01 2.87675193e-01 7.87541136e-01 1.96525447e+00\n",
      " 4.08142017e+00 1.12651841e+00 3.33840238e+00 4.76623823e-01\n",
      " 4.55302322e-02]\n"
     ]
    }
   ],
   "source": [
    "sim = np.transpose(rlocalGs)\n",
    "print(sim[0])\n",
    "print(sim[1])"
   ]
  },
  {
   "cell_type": "code",
   "execution_count": 74,
   "metadata": {},
   "outputs": [
    {
     "data": {
      "text/plain": [
       "array([3.94679513e-01, 1.38828188e+00, 7.24735104e-01, 4.34630077e-01,\n",
       "       5.16477510e-03, 1.01757022e+00, 4.81693340e+00, 6.08396914e+00,\n",
       "       1.25170386e+00, 2.42329804e-01, 6.10227684e-01, 1.34031612e+00,\n",
       "       2.02077777e+01, 2.31271040e+00, 3.11752317e+00, 3.78103076e+00,\n",
       "       3.46281849e+00, 4.58414279e+00, 2.54214333e-01, 2.10543748e+00,\n",
       "       2.01484508e+00, 3.86507493e+00, 2.44678752e-01, 7.23409136e-01,\n",
       "       2.22396942e+00, 3.41729422e+00, 1.43601707e+01, 3.40992728e+00,\n",
       "       2.04345248e-01, 3.68532305e+00, 2.28919438e+00, 5.07079414e-01,\n",
       "       6.03929237e-01, 1.37146724e+00, 1.06516964e+00, 1.40489165e-01,\n",
       "       2.19803861e-02, 3.12804762e+00, 1.38185076e+00, 3.25632042e+00,\n",
       "       3.35860137e-01, 9.67914873e-01, 1.97070794e+00, 1.48251478e+00,\n",
       "       1.65412794e+00, 4.49757570e+00, 5.65705426e-01, 5.95248203e-02,\n",
       "       3.69374414e+00, 8.71297887e-01, 1.12014317e+00, 7.80649981e-02,\n",
       "       1.19519156e-01, 4.57036649e+00, 1.19229560e+00, 1.15045976e+00,\n",
       "       2.98708594e-01, 1.67009390e-01, 7.14187339e-01, 1.34892608e+01,\n",
       "       2.47525651e+00, 2.21219865e-01, 3.01762150e-02, 5.17466226e+00,\n",
       "       3.37969757e+00, 3.67248241e+00, 5.00981572e+00, 2.25086806e+00,\n",
       "       9.22686375e-02, 6.01164962e+00, 1.75569594e-01, 6.91081533e-01,\n",
       "       3.50866275e-01, 9.26535145e-02, 7.05176035e+00, 8.19716847e-01,\n",
       "       1.14353496e-01, 2.87675193e-01, 7.87541136e-01, 1.96525447e+00,\n",
       "       4.08142017e+00, 1.12651841e+00, 3.33840238e+00, 4.76623823e-01,\n",
       "       4.55302322e-02])"
      ]
     },
     "execution_count": 74,
     "metadata": {},
     "output_type": "execute_result"
    }
   ],
   "source": [
    "sim[0]"
   ]
  },
  {
   "cell_type": "code",
   "execution_count": null,
   "metadata": {},
   "outputs": [],
   "source": [
    "above = sim[0] >= functest.localG\n",
    "larger = above.sum(0)\n",
    "low_extreme = (permutations - larger) < larger\n",
    "larger[low_extreme] = permutations - larger[low_extreme]\n",
    "p_sim = (larger + 1.0) / (permutations + 1.0)\n",
    "p_sim"
   ]
  },
  {
   "cell_type": "code",
   "execution_count": null,
   "metadata": {},
   "outputs": [],
   "source": [
    "temp2"
   ]
  }
 ],
 "metadata": {
  "kernelspec": {
   "display_name": "Python 3",
   "language": "python",
   "name": "python3"
  },
  "language_info": {
   "codemirror_mode": {
    "name": "ipython",
    "version": 3
   },
   "file_extension": ".py",
   "mimetype": "text/x-python",
   "name": "python",
   "nbconvert_exporter": "python",
   "pygments_lexer": "ipython3",
   "version": "3.8.3"
  }
 },
 "nbformat": 4,
 "nbformat_minor": 4
}
