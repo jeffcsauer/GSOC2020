{
 "cells": [
  {
   "cell_type": "markdown",
   "metadata": {},
   "source": [
    "Scratch notebook of [issues raised on Github](https://github.com/jeffcsauer/GSOC2020)."
   ]
  },
  {
   "cell_type": "markdown",
   "metadata": {},
   "source": [
    "# [Issue 2](https://github.com/jeffcsauer/GSOC2020/issues/2)"
   ]
  },
  {
   "cell_type": "code",
   "execution_count": 30,
   "metadata": {},
   "outputs": [],
   "source": [
    "import libpysal\n",
    "import geopandas"
   ]
  },
  {
   "cell_type": "code",
   "execution_count": 31,
   "metadata": {},
   "outputs": [],
   "source": [
    "df = geopandas.read_file('https://github.com/jeffcsauer/GSOC2020/raw/master/validation/data/neighborhoods.gpkg')\n",
    "w = libpysal.weights.Rook.from_dataframe(df)"
   ]
  },
  {
   "cell_type": "code",
   "execution_count": 34,
   "metadata": {},
   "outputs": [
    {
     "data": {
      "text/plain": [
       "[3.0,\n",
       " 3.0,\n",
       " 5.0,\n",
       " 3.0,\n",
       " 5.0,\n",
       " 3.0,\n",
       " 5.0,\n",
       " 2.0,\n",
       " 5.0,\n",
       " 4.0,\n",
       " 5.0,\n",
       " 4.0,\n",
       " 5.0,\n",
       " 4.0,\n",
       " 5.0,\n",
       " 5.0,\n",
       " 4.0,\n",
       " 3.0,\n",
       " 4.0,\n",
       " 5.0,\n",
       " 2.0,\n",
       " 6.0,\n",
       " 6.0,\n",
       " 5.0,\n",
       " 8.0,\n",
       " 5.0,\n",
       " 4.0,\n",
       " 6.0,\n",
       " 3.0,\n",
       " 6.0,\n",
       " 5.0,\n",
       " 7.0,\n",
       " 4.0,\n",
       " 6.0,\n",
       " 5.0,\n",
       " 3.0,\n",
       " 5.0,\n",
       " 5.0,\n",
       " 5.0,\n",
       " 7.0,\n",
       " 3.0,\n",
       " 5.0,\n",
       " 2.0,\n",
       " 5.0]"
      ]
     },
     "execution_count": 34,
     "metadata": {},
     "output_type": "execute_result"
    }
   ],
   "source": [
    "# My solution\n",
    "import numpy as np\n",
    "Wrs = [round(np.sum(list(w[i].values()))) for i in range(len(df.hood_id))]\n",
    "Wrs"
   ]
  },
  {
   "cell_type": "code",
   "execution_count": 38,
   "metadata": {},
   "outputs": [
    {
     "data": {
      "text/plain": [
       "array([3., 3., 5., 3., 5., 3., 5., 2., 5., 4., 5., 4., 5., 4., 5., 5., 4.,\n",
       "       3., 4., 5., 2., 6., 6., 5., 8., 5., 4., 6., 3., 6., 5., 7., 4., 6.,\n",
       "       5., 3., 5., 5., 5., 7., 3., 5., 2., 5.])"
      ]
     },
     "execution_count": 38,
     "metadata": {},
     "output_type": "execute_result"
    }
   ],
   "source": [
    "# Levi's suggestion\n",
    "row_sums = np.asarray(w.sparse.sum(axis=1)).flatten()\n",
    "row_sums"
   ]
  },
  {
   "cell_type": "markdown",
   "metadata": {},
   "source": [
    "A terrific suggestion and much more elegant!"
   ]
  },
  {
   "cell_type": "markdown",
   "metadata": {},
   "source": [
    "# [Issue 3](https://github.com/jeffcsauer/GSOC2020/issues/3)"
   ]
  },
  {
   "cell_type": "code",
   "execution_count": 30,
   "metadata": {},
   "outputs": [],
   "source": [
    "import libpysal\n",
    "import geopandas\n",
    "import numpy as np\n",
    "df = geopandas.read_file('https://github.com/jeffcsauer/GSOC2020/raw/master/validation/data/neighborhoods.gpkg')\n",
    "w = libpysal.weights.Rook.from_dataframe(df)"
   ]
  },
  {
   "cell_type": "code",
   "execution_count": 31,
   "metadata": {},
   "outputs": [
    {
     "data": {
      "text/plain": [
       "{25: 1.0, 3: 1.0, 21: 1.0}"
      ]
     },
     "execution_count": 31,
     "metadata": {},
     "output_type": "execute_result"
    }
   ],
   "source": [
    "w[0]"
   ]
  },
  {
   "cell_type": "code",
   "execution_count": 32,
   "metadata": {},
   "outputs": [
    {
     "data": {
      "text/plain": [
       "matrix([[14.],\n",
       "        [14.],\n",
       "        [21.],\n",
       "        [13.],\n",
       "        [31.],\n",
       "        [14.],\n",
       "        [27.],\n",
       "        [12.],\n",
       "        [23.],\n",
       "        [14.],\n",
       "        [28.],\n",
       "        [16.],\n",
       "        [22.],\n",
       "        [21.],\n",
       "        [21.],\n",
       "        [23.],\n",
       "        [16.],\n",
       "        [13.],\n",
       "        [22.],\n",
       "        [32.],\n",
       "        [ 8.],\n",
       "        [27.],\n",
       "        [32.],\n",
       "        [29.],\n",
       "        [44.],\n",
       "        [22.],\n",
       "        [16.],\n",
       "        [28.],\n",
       "        [12.],\n",
       "        [33.],\n",
       "        [22.],\n",
       "        [34.],\n",
       "        [20.],\n",
       "        [37.],\n",
       "        [27.],\n",
       "        [16.],\n",
       "        [29.],\n",
       "        [21.],\n",
       "        [26.],\n",
       "        [37.],\n",
       "        [14.],\n",
       "        [22.],\n",
       "        [10.],\n",
       "        [25.]])"
      ]
     },
     "execution_count": 32,
     "metadata": {},
     "output_type": "execute_result"
    }
   ],
   "source": [
    "# Levi's solution\n",
    "(w.sparse**2).sum(axis=1)"
   ]
  },
  {
   "cell_type": "code",
   "execution_count": 33,
   "metadata": {},
   "outputs": [
    {
     "data": {
      "text/plain": [
       "[3.0,\n",
       " 3.0,\n",
       " 5.0,\n",
       " 3.0,\n",
       " 5.0,\n",
       " 3.0,\n",
       " 5.0,\n",
       " 2.0,\n",
       " 5.0,\n",
       " 4.0,\n",
       " 5.0,\n",
       " 4.0,\n",
       " 5.0,\n",
       " 4.0,\n",
       " 5.0,\n",
       " 5.0,\n",
       " 4.0,\n",
       " 3.0,\n",
       " 4.0,\n",
       " 5.0,\n",
       " 2.0,\n",
       " 6.0,\n",
       " 6.0,\n",
       " 5.0,\n",
       " 8.0,\n",
       " 5.0,\n",
       " 4.0,\n",
       " 6.0,\n",
       " 3.0,\n",
       " 6.0,\n",
       " 5.0,\n",
       " 7.0,\n",
       " 4.0,\n",
       " 6.0,\n",
       " 5.0,\n",
       " 3.0,\n",
       " 5.0,\n",
       " 5.0,\n",
       " 5.0,\n",
       " 7.0,\n",
       " 3.0,\n",
       " 5.0,\n",
       " 2.0,\n",
       " 5.0]"
      ]
     },
     "execution_count": 33,
     "metadata": {},
     "output_type": "execute_result"
    }
   ],
   "source": [
    "[np.sum(np.array(list(w[i].values()))**2) for i in w.id_order]"
   ]
  },
  {
   "cell_type": "markdown",
   "metadata": {},
   "source": [
    "Row standardize the weights."
   ]
  },
  {
   "cell_type": "code",
   "execution_count": 34,
   "metadata": {},
   "outputs": [
    {
     "data": {
      "text/plain": [
       "{25: 0.3333333333333333, 3: 0.3333333333333333, 21: 0.3333333333333333}"
      ]
     },
     "execution_count": 34,
     "metadata": {},
     "output_type": "execute_result"
    }
   ],
   "source": [
    "w.transform = 'r'\n",
    "w[0]"
   ]
  },
  {
   "cell_type": "code",
   "execution_count": 38,
   "metadata": {},
   "outputs": [
    {
     "name": "stdout",
     "output_type": "stream",
     "text": [
      "[[1.]\n",
      " [1.]\n",
      " [1.]\n",
      " [1.]\n",
      " [1.]\n",
      " [1.]\n",
      " [1.]\n",
      " [1.]\n",
      " [1.]\n",
      " [1.]\n",
      " [1.]\n",
      " [1.]\n",
      " [1.]\n",
      " [1.]\n",
      " [1.]\n",
      " [1.]\n",
      " [1.]\n",
      " [1.]\n",
      " [1.]\n",
      " [1.]\n",
      " [1.]\n",
      " [1.]\n",
      " [1.]\n",
      " [1.]\n",
      " [1.]\n",
      " [1.]\n",
      " [1.]\n",
      " [1.]\n",
      " [1.]\n",
      " [1.]\n",
      " [1.]\n",
      " [1.]\n",
      " [1.]\n",
      " [1.]\n",
      " [1.]\n",
      " [1.]\n",
      " [1.]\n",
      " [1.]\n",
      " [1.]\n",
      " [1.]\n",
      " [1.]\n",
      " [1.]\n",
      " [1.]\n",
      " [1.]]\n"
     ]
    }
   ],
   "source": [
    "# Levi's solution\n",
    "print((w.sparse**2).sum(axis=1))"
   ]
  },
  {
   "cell_type": "code",
   "execution_count": 37,
   "metadata": {},
   "outputs": [
    {
     "name": "stdout",
     "output_type": "stream",
     "text": [
      "[0.3333333333333333, 0.3333333333333333, 0.20000000000000004, 0.3333333333333333, 0.20000000000000004, 0.3333333333333333, 0.20000000000000004, 0.5, 0.20000000000000004, 0.25, 0.20000000000000004, 0.25, 0.20000000000000004, 0.25, 0.20000000000000004, 0.20000000000000004, 0.25, 0.3333333333333333, 0.25, 0.20000000000000004, 0.5, 0.16666666666666669, 0.16666666666666669, 0.20000000000000004, 0.125, 0.20000000000000004, 0.25, 0.16666666666666669, 0.3333333333333333, 0.16666666666666669, 0.20000000000000004, 0.14285714285714285, 0.25, 0.16666666666666669, 0.20000000000000004, 0.3333333333333333, 0.20000000000000004, 0.20000000000000004, 0.20000000000000004, 0.14285714285714285, 0.3333333333333333, 0.20000000000000004, 0.5, 0.20000000000000004]\n"
     ]
    }
   ],
   "source": [
    "print([np.sum(np.array(list(w[i].values()))**2) for i in w.id_order])"
   ]
  }
 ],
 "metadata": {
  "kernelspec": {
   "display_name": "Python 3.8.2 32-bit",
   "language": "python",
   "name": "python38232bit07c05656855047638d93928e72c365e6"
  },
  "language_info": {
   "codemirror_mode": {
    "name": "ipython",
    "version": 3
   },
   "file_extension": ".py",
   "mimetype": "text/x-python",
   "name": "python",
   "nbconvert_exporter": "python",
   "pygments_lexer": "ipython3",
   "version": "3.8.2"
  }
 },
 "nbformat": 4,
 "nbformat_minor": 4
}
