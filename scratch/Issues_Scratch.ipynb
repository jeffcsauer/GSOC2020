{
 "cells": [
  {
   "cell_type": "markdown",
   "metadata": {},
   "source": [
    "Scratch notebook of [issues raised on Github](https://github.com/jeffcsauer/GSOC2020)."
   ]
  },
  {
   "cell_type": "markdown",
   "metadata": {},
   "source": [
    "# [Issue 2](https://github.com/jeffcsauer/GSOC2020/issues/2)"
   ]
  },
  {
   "cell_type": "code",
   "execution_count": 30,
   "metadata": {},
   "outputs": [],
   "source": [
    "import libpysal\n",
    "import geopandas"
   ]
  },
  {
   "cell_type": "code",
   "execution_count": 31,
   "metadata": {},
   "outputs": [],
   "source": [
    "df = geopandas.read_file('https://github.com/jeffcsauer/GSOC2020/raw/master/validation/data/neighborhoods.gpkg')\n",
    "w = libpysal.weights.Rook.from_dataframe(df)"
   ]
  },
  {
   "cell_type": "code",
   "execution_count": 34,
   "metadata": {},
   "outputs": [
    {
     "data": {
      "text/plain": [
       "[3.0,\n",
       " 3.0,\n",
       " 5.0,\n",
       " 3.0,\n",
       " 5.0,\n",
       " 3.0,\n",
       " 5.0,\n",
       " 2.0,\n",
       " 5.0,\n",
       " 4.0,\n",
       " 5.0,\n",
       " 4.0,\n",
       " 5.0,\n",
       " 4.0,\n",
       " 5.0,\n",
       " 5.0,\n",
       " 4.0,\n",
       " 3.0,\n",
       " 4.0,\n",
       " 5.0,\n",
       " 2.0,\n",
       " 6.0,\n",
       " 6.0,\n",
       " 5.0,\n",
       " 8.0,\n",
       " 5.0,\n",
       " 4.0,\n",
       " 6.0,\n",
       " 3.0,\n",
       " 6.0,\n",
       " 5.0,\n",
       " 7.0,\n",
       " 4.0,\n",
       " 6.0,\n",
       " 5.0,\n",
       " 3.0,\n",
       " 5.0,\n",
       " 5.0,\n",
       " 5.0,\n",
       " 7.0,\n",
       " 3.0,\n",
       " 5.0,\n",
       " 2.0,\n",
       " 5.0]"
      ]
     },
     "execution_count": 34,
     "metadata": {},
     "output_type": "execute_result"
    }
   ],
   "source": [
    "# My solution\n",
    "import numpy as np\n",
    "Wrs = [round(np.sum(list(w[i].values()))) for i in range(len(df.hood_id))]\n",
    "Wrs"
   ]
  },
  {
   "cell_type": "code",
   "execution_count": 38,
   "metadata": {},
   "outputs": [
    {
     "data": {
      "text/plain": [
       "array([3., 3., 5., 3., 5., 3., 5., 2., 5., 4., 5., 4., 5., 4., 5., 5., 4.,\n",
       "       3., 4., 5., 2., 6., 6., 5., 8., 5., 4., 6., 3., 6., 5., 7., 4., 6.,\n",
       "       5., 3., 5., 5., 5., 7., 3., 5., 2., 5.])"
      ]
     },
     "execution_count": 38,
     "metadata": {},
     "output_type": "execute_result"
    }
   ],
   "source": [
    "# Levi's suggestion\n",
    "row_sums = np.asarray(w.sparse.sum(axis=1)).flatten()\n",
    "row_sums"
   ]
  },
  {
   "cell_type": "markdown",
   "metadata": {},
   "source": [
    "A terrific suggestion and much more elegant!"
   ]
  },
  {
   "cell_type": "markdown",
   "metadata": {},
   "source": [
    "# [Issue 3](https://github.com/jeffcsauer/GSOC2020/issues/3)"
   ]
  },
  {
   "cell_type": "code",
   "execution_count": 30,
   "metadata": {},
   "outputs": [],
   "source": [
    "import libpysal\n",
    "import geopandas\n",
    "import numpy as np\n",
    "df = geopandas.read_file('https://github.com/jeffcsauer/GSOC2020/raw/master/validation/data/neighborhoods.gpkg')\n",
    "w = libpysal.weights.Rook.from_dataframe(df)"
   ]
  },
  {
   "cell_type": "code",
   "execution_count": 31,
   "metadata": {},
   "outputs": [
    {
     "data": {
      "text/plain": [
       "{25: 1.0, 3: 1.0, 21: 1.0}"
      ]
     },
     "execution_count": 31,
     "metadata": {},
     "output_type": "execute_result"
    }
   ],
   "source": [
    "w[0]"
   ]
  },
  {
   "cell_type": "code",
   "execution_count": 32,
   "metadata": {},
   "outputs": [
    {
     "data": {
      "text/plain": [
       "matrix([[14.],\n",
       "        [14.],\n",
       "        [21.],\n",
       "        [13.],\n",
       "        [31.],\n",
       "        [14.],\n",
       "        [27.],\n",
       "        [12.],\n",
       "        [23.],\n",
       "        [14.],\n",
       "        [28.],\n",
       "        [16.],\n",
       "        [22.],\n",
       "        [21.],\n",
       "        [21.],\n",
       "        [23.],\n",
       "        [16.],\n",
       "        [13.],\n",
       "        [22.],\n",
       "        [32.],\n",
       "        [ 8.],\n",
       "        [27.],\n",
       "        [32.],\n",
       "        [29.],\n",
       "        [44.],\n",
       "        [22.],\n",
       "        [16.],\n",
       "        [28.],\n",
       "        [12.],\n",
       "        [33.],\n",
       "        [22.],\n",
       "        [34.],\n",
       "        [20.],\n",
       "        [37.],\n",
       "        [27.],\n",
       "        [16.],\n",
       "        [29.],\n",
       "        [21.],\n",
       "        [26.],\n",
       "        [37.],\n",
       "        [14.],\n",
       "        [22.],\n",
       "        [10.],\n",
       "        [25.]])"
      ]
     },
     "execution_count": 32,
     "metadata": {},
     "output_type": "execute_result"
    }
   ],
   "source": [
    "# Levi's solution\n",
    "(w.sparse**2).sum(axis=1)"
   ]
  },
  {
   "cell_type": "code",
   "execution_count": 33,
   "metadata": {},
   "outputs": [
    {
     "data": {
      "text/plain": [
       "[3.0,\n",
       " 3.0,\n",
       " 5.0,\n",
       " 3.0,\n",
       " 5.0,\n",
       " 3.0,\n",
       " 5.0,\n",
       " 2.0,\n",
       " 5.0,\n",
       " 4.0,\n",
       " 5.0,\n",
       " 4.0,\n",
       " 5.0,\n",
       " 4.0,\n",
       " 5.0,\n",
       " 5.0,\n",
       " 4.0,\n",
       " 3.0,\n",
       " 4.0,\n",
       " 5.0,\n",
       " 2.0,\n",
       " 6.0,\n",
       " 6.0,\n",
       " 5.0,\n",
       " 8.0,\n",
       " 5.0,\n",
       " 4.0,\n",
       " 6.0,\n",
       " 3.0,\n",
       " 6.0,\n",
       " 5.0,\n",
       " 7.0,\n",
       " 4.0,\n",
       " 6.0,\n",
       " 5.0,\n",
       " 3.0,\n",
       " 5.0,\n",
       " 5.0,\n",
       " 5.0,\n",
       " 7.0,\n",
       " 3.0,\n",
       " 5.0,\n",
       " 2.0,\n",
       " 5.0]"
      ]
     },
     "execution_count": 33,
     "metadata": {},
     "output_type": "execute_result"
    }
   ],
   "source": [
    "[np.sum(np.array(list(w[i].values()))**2) for i in w.id_order]"
   ]
  },
  {
   "cell_type": "markdown",
   "metadata": {},
   "source": [
    "Row standardize the weights."
   ]
  },
  {
   "cell_type": "code",
   "execution_count": 34,
   "metadata": {},
   "outputs": [
    {
     "data": {
      "text/plain": [
       "{25: 0.3333333333333333, 3: 0.3333333333333333, 21: 0.3333333333333333}"
      ]
     },
     "execution_count": 34,
     "metadata": {},
     "output_type": "execute_result"
    }
   ],
   "source": [
    "w.transform = 'r'\n",
    "w[0]"
   ]
  },
  {
   "cell_type": "code",
   "execution_count": 38,
   "metadata": {},
   "outputs": [
    {
     "name": "stdout",
     "output_type": "stream",
     "text": [
      "[[1.]\n",
      " [1.]\n",
      " [1.]\n",
      " [1.]\n",
      " [1.]\n",
      " [1.]\n",
      " [1.]\n",
      " [1.]\n",
      " [1.]\n",
      " [1.]\n",
      " [1.]\n",
      " [1.]\n",
      " [1.]\n",
      " [1.]\n",
      " [1.]\n",
      " [1.]\n",
      " [1.]\n",
      " [1.]\n",
      " [1.]\n",
      " [1.]\n",
      " [1.]\n",
      " [1.]\n",
      " [1.]\n",
      " [1.]\n",
      " [1.]\n",
      " [1.]\n",
      " [1.]\n",
      " [1.]\n",
      " [1.]\n",
      " [1.]\n",
      " [1.]\n",
      " [1.]\n",
      " [1.]\n",
      " [1.]\n",
      " [1.]\n",
      " [1.]\n",
      " [1.]\n",
      " [1.]\n",
      " [1.]\n",
      " [1.]\n",
      " [1.]\n",
      " [1.]\n",
      " [1.]\n",
      " [1.]]\n"
     ]
    }
   ],
   "source": [
    "# Levi's solution\n",
    "print((w.sparse**2).sum(axis=1))"
   ]
  },
  {
   "cell_type": "code",
   "execution_count": 37,
   "metadata": {},
   "outputs": [
    {
     "name": "stdout",
     "output_type": "stream",
     "text": [
      "[0.3333333333333333, 0.3333333333333333, 0.20000000000000004, 0.3333333333333333, 0.20000000000000004, 0.3333333333333333, 0.20000000000000004, 0.5, 0.20000000000000004, 0.25, 0.20000000000000004, 0.25, 0.20000000000000004, 0.25, 0.20000000000000004, 0.20000000000000004, 0.25, 0.3333333333333333, 0.25, 0.20000000000000004, 0.5, 0.16666666666666669, 0.16666666666666669, 0.20000000000000004, 0.125, 0.20000000000000004, 0.25, 0.16666666666666669, 0.3333333333333333, 0.16666666666666669, 0.20000000000000004, 0.14285714285714285, 0.25, 0.16666666666666669, 0.20000000000000004, 0.3333333333333333, 0.20000000000000004, 0.20000000000000004, 0.20000000000000004, 0.14285714285714285, 0.3333333333333333, 0.20000000000000004, 0.5, 0.20000000000000004]\n"
     ]
    }
   ],
   "source": [
    "print([np.sum(np.array(list(w[i].values()))**2) for i in w.id_order])"
   ]
  },
  {
   "cell_type": "markdown",
   "metadata": {},
   "source": [
    "# ESDA Issue #86"
   ]
  },
  {
   "cell_type": "code",
   "execution_count": 31,
   "metadata": {},
   "outputs": [
    {
     "ename": "ValueError",
     "evalue": "dimension mismatch",
     "output_type": "error",
     "traceback": [
      "\u001b[1;31m---------------------------------------------------------------------------\u001b[0m",
      "\u001b[1;31mValueError\u001b[0m                                Traceback (most recent call last)",
      "\u001b[1;32m<ipython-input-31-7c3aa93ea3ad>\u001b[0m in \u001b[0;36m<module>\u001b[1;34m\u001b[0m\n\u001b[0;32m     11\u001b[0m \u001b[0mdata\u001b[0m \u001b[1;33m=\u001b[0m \u001b[1;33m[\u001b[0m\u001b[1;36m2\u001b[0m\u001b[1;33m,\u001b[0m\u001b[1;36m3\u001b[0m\u001b[1;33m]\u001b[0m\u001b[1;33m\u001b[0m\u001b[1;33m\u001b[0m\u001b[0m\n\u001b[0;32m     12\u001b[0m \u001b[1;33m\u001b[0m\u001b[0m\n\u001b[1;32m---> 13\u001b[1;33m \u001b[0mesda\u001b[0m\u001b[1;33m.\u001b[0m\u001b[0mMoran_Local\u001b[0m\u001b[1;33m(\u001b[0m\u001b[0mdata\u001b[0m\u001b[1;33m,\u001b[0m \u001b[0mw\u001b[0m\u001b[1;33m)\u001b[0m\u001b[1;33m\u001b[0m\u001b[1;33m\u001b[0m\u001b[0m\n\u001b[0m",
      "\u001b[1;32m~\\AppData\\Local\\Programs\\Python\\Python38-32\\lib\\site-packages\\esda\\moran.py\u001b[0m in \u001b[0;36m__init__\u001b[1;34m(self, y, w, transformation, permutations, geoda_quads)\u001b[0m\n\u001b[0;32m    865\u001b[0m         \u001b[0mself\u001b[0m\u001b[1;33m.\u001b[0m\u001b[0mpermutations\u001b[0m \u001b[1;33m=\u001b[0m \u001b[0mpermutations\u001b[0m\u001b[1;33m\u001b[0m\u001b[1;33m\u001b[0m\u001b[0m\n\u001b[0;32m    866\u001b[0m         \u001b[0mself\u001b[0m\u001b[1;33m.\u001b[0m\u001b[0mden\u001b[0m \u001b[1;33m=\u001b[0m \u001b[1;33m(\u001b[0m\u001b[0mz\u001b[0m \u001b[1;33m*\u001b[0m \u001b[0mz\u001b[0m\u001b[1;33m)\u001b[0m\u001b[1;33m.\u001b[0m\u001b[0msum\u001b[0m\u001b[1;33m(\u001b[0m\u001b[1;33m)\u001b[0m\u001b[1;33m\u001b[0m\u001b[1;33m\u001b[0m\u001b[0m\n\u001b[1;32m--> 867\u001b[1;33m         \u001b[0mself\u001b[0m\u001b[1;33m.\u001b[0m\u001b[0mIs\u001b[0m \u001b[1;33m=\u001b[0m \u001b[0mself\u001b[0m\u001b[1;33m.\u001b[0m\u001b[0mcalc\u001b[0m\u001b[1;33m(\u001b[0m\u001b[0mself\u001b[0m\u001b[1;33m.\u001b[0m\u001b[0mw\u001b[0m\u001b[1;33m,\u001b[0m \u001b[0mself\u001b[0m\u001b[1;33m.\u001b[0m\u001b[0mz\u001b[0m\u001b[1;33m)\u001b[0m\u001b[1;33m\u001b[0m\u001b[1;33m\u001b[0m\u001b[0m\n\u001b[0m\u001b[0;32m    868\u001b[0m         \u001b[0mself\u001b[0m\u001b[1;33m.\u001b[0m\u001b[0mgeoda_quads\u001b[0m \u001b[1;33m=\u001b[0m \u001b[0mgeoda_quads\u001b[0m\u001b[1;33m\u001b[0m\u001b[1;33m\u001b[0m\u001b[0m\n\u001b[0;32m    869\u001b[0m         \u001b[0mquads\u001b[0m \u001b[1;33m=\u001b[0m \u001b[1;33m[\u001b[0m\u001b[1;36m1\u001b[0m\u001b[1;33m,\u001b[0m \u001b[1;36m2\u001b[0m\u001b[1;33m,\u001b[0m \u001b[1;36m3\u001b[0m\u001b[1;33m,\u001b[0m \u001b[1;36m4\u001b[0m\u001b[1;33m]\u001b[0m\u001b[1;33m\u001b[0m\u001b[1;33m\u001b[0m\u001b[0m\n",
      "\u001b[1;32m~\\AppData\\Local\\Programs\\Python\\Python38-32\\lib\\site-packages\\esda\\moran.py\u001b[0m in \u001b[0;36mcalc\u001b[1;34m(self, w, z)\u001b[0m\n\u001b[0;32m    888\u001b[0m \u001b[1;33m\u001b[0m\u001b[0m\n\u001b[0;32m    889\u001b[0m     \u001b[1;32mdef\u001b[0m \u001b[0mcalc\u001b[0m\u001b[1;33m(\u001b[0m\u001b[0mself\u001b[0m\u001b[1;33m,\u001b[0m \u001b[0mw\u001b[0m\u001b[1;33m,\u001b[0m \u001b[0mz\u001b[0m\u001b[1;33m)\u001b[0m\u001b[1;33m:\u001b[0m\u001b[1;33m\u001b[0m\u001b[1;33m\u001b[0m\u001b[0m\n\u001b[1;32m--> 890\u001b[1;33m         \u001b[0mzl\u001b[0m \u001b[1;33m=\u001b[0m \u001b[0mslag\u001b[0m\u001b[1;33m(\u001b[0m\u001b[0mw\u001b[0m\u001b[1;33m,\u001b[0m \u001b[0mz\u001b[0m\u001b[1;33m)\u001b[0m\u001b[1;33m\u001b[0m\u001b[1;33m\u001b[0m\u001b[0m\n\u001b[0m\u001b[0;32m    891\u001b[0m         \u001b[1;32mreturn\u001b[0m \u001b[0mself\u001b[0m\u001b[1;33m.\u001b[0m\u001b[0mn_1\u001b[0m \u001b[1;33m*\u001b[0m \u001b[0mself\u001b[0m\u001b[1;33m.\u001b[0m\u001b[0mz\u001b[0m \u001b[1;33m*\u001b[0m \u001b[0mzl\u001b[0m \u001b[1;33m/\u001b[0m \u001b[0mself\u001b[0m\u001b[1;33m.\u001b[0m\u001b[0mden\u001b[0m\u001b[1;33m\u001b[0m\u001b[1;33m\u001b[0m\u001b[0m\n\u001b[0;32m    892\u001b[0m \u001b[1;33m\u001b[0m\u001b[0m\n",
      "\u001b[1;32m~\\AppData\\Local\\Programs\\Python\\Python38-32\\lib\\site-packages\\libpysal\\weights\\spatial_lag.py\u001b[0m in \u001b[0;36mlag_spatial\u001b[1;34m(w, y)\u001b[0m\n\u001b[0;32m     85\u001b[0m \u001b[1;33m\u001b[0m\u001b[0m\n\u001b[0;32m     86\u001b[0m     \"\"\"\n\u001b[1;32m---> 87\u001b[1;33m     \u001b[1;32mreturn\u001b[0m \u001b[0mw\u001b[0m\u001b[1;33m.\u001b[0m\u001b[0msparse\u001b[0m \u001b[1;33m*\u001b[0m \u001b[0my\u001b[0m\u001b[1;33m\u001b[0m\u001b[1;33m\u001b[0m\u001b[0m\n\u001b[0m\u001b[0;32m     88\u001b[0m \u001b[1;33m\u001b[0m\u001b[0m\n\u001b[0;32m     89\u001b[0m \u001b[1;33m\u001b[0m\u001b[0m\n",
      "\u001b[1;32m~\\AppData\\Local\\Programs\\Python\\Python38-32\\lib\\site-packages\\scipy\\sparse\\base.py\u001b[0m in \u001b[0;36m__mul__\u001b[1;34m(self, other)\u001b[0m\n\u001b[0;32m    500\u001b[0m             \u001b[1;31m# dense row or column vector\u001b[0m\u001b[1;33m\u001b[0m\u001b[1;33m\u001b[0m\u001b[1;33m\u001b[0m\u001b[0m\n\u001b[0;32m    501\u001b[0m             \u001b[1;32mif\u001b[0m \u001b[0mother\u001b[0m\u001b[1;33m.\u001b[0m\u001b[0mshape\u001b[0m \u001b[1;33m!=\u001b[0m \u001b[1;33m(\u001b[0m\u001b[0mN\u001b[0m\u001b[1;33m,\u001b[0m\u001b[1;33m)\u001b[0m \u001b[1;32mand\u001b[0m \u001b[0mother\u001b[0m\u001b[1;33m.\u001b[0m\u001b[0mshape\u001b[0m \u001b[1;33m!=\u001b[0m \u001b[1;33m(\u001b[0m\u001b[0mN\u001b[0m\u001b[1;33m,\u001b[0m \u001b[1;36m1\u001b[0m\u001b[1;33m)\u001b[0m\u001b[1;33m:\u001b[0m\u001b[1;33m\u001b[0m\u001b[1;33m\u001b[0m\u001b[0m\n\u001b[1;32m--> 502\u001b[1;33m                 \u001b[1;32mraise\u001b[0m \u001b[0mValueError\u001b[0m\u001b[1;33m(\u001b[0m\u001b[1;34m'dimension mismatch'\u001b[0m\u001b[1;33m)\u001b[0m\u001b[1;33m\u001b[0m\u001b[1;33m\u001b[0m\u001b[0m\n\u001b[0m\u001b[0;32m    503\u001b[0m \u001b[1;33m\u001b[0m\u001b[0m\n\u001b[0;32m    504\u001b[0m             \u001b[0mresult\u001b[0m \u001b[1;33m=\u001b[0m \u001b[0mself\u001b[0m\u001b[1;33m.\u001b[0m\u001b[0m_mul_vector\u001b[0m\u001b[1;33m(\u001b[0m\u001b[0mnp\u001b[0m\u001b[1;33m.\u001b[0m\u001b[0mravel\u001b[0m\u001b[1;33m(\u001b[0m\u001b[0mother\u001b[0m\u001b[1;33m)\u001b[0m\u001b[1;33m)\u001b[0m\u001b[1;33m\u001b[0m\u001b[1;33m\u001b[0m\u001b[0m\n",
      "\u001b[1;31mValueError\u001b[0m: dimension mismatch"
     ]
    }
   ],
   "source": [
    "from pysal.lib import weights\n",
    "from pysal.explore import esda\n",
    "from scipy import sparse\n",
    "\n",
    "adjacency = sparse.csc_matrix([[1,1,0],\n",
    "                               [1,1,1],\n",
    "                               [0,1,1]])\n",
    "\n",
    "w = weights.WSP(adjacency).to_W()\n",
    "\n",
    "data = [1,2,3]\n",
    "\n",
    "esda.Moran_Local(data, w)"
   ]
  },
  {
   "cell_type": "markdown",
   "metadata": {},
   "source": [
    "# Local Gamma\n"
   ]
  },
  {
   "cell_type": "code",
   "execution_count": 1,
   "metadata": {},
   "outputs": [],
   "source": [
    "\"\"\"\n",
    "Gamma index for spatial autocorrelation\n",
    "\n",
    "\n",
    "\"\"\"\n",
    "__author__ = \"Luc Anselin <luc.anselin@asu.edu> Serge Rey <sjsrey@gmail.com>\"\n",
    "\n",
    "import numpy as np\n",
    "from libpysal.weights.spatial_lag import lag_spatial\n",
    "import warnings\n",
    "\n",
    "__all__ = ['Gamma']\n",
    "\n",
    "PERMUTATIONS = 999\n",
    "\n",
    "\n",
    "class Gamma(object):\n",
    "    \"\"\"Gamma index for spatial autocorrelation\n",
    "\n",
    "\n",
    "    Parameters\n",
    "    ----------\n",
    "\n",
    "    y               : array\n",
    "                      variable measured across n spatial units\n",
    "    w               : W\n",
    "                      spatial weights instance\n",
    "                      can be binary or row-standardized\n",
    "    operation       : {'c', 's', 'a'}\n",
    "                      attribute similarity function where,\n",
    "                      'c' cross product\n",
    "                      's' squared difference\n",
    "                      'a' absolute difference\n",
    "    standardize     : {False, True}\n",
    "                      standardize variables first\n",
    "                      False, keep as is\n",
    "                      True, standardize to mean zero and variance one\n",
    "    permutations    : int\n",
    "                      number of random permutations for calculation of pseudo-p_values\n",
    "\n",
    "    Attributes\n",
    "    ----------\n",
    "    y            : array\n",
    "                   original variable\n",
    "    w            : W\n",
    "                   original w object\n",
    "    op           : {'c', 's', 'a'}\n",
    "                   attribute similarity function, as per parameters\n",
    "                   attribute similarity function\n",
    "    stand        : {False, True}\n",
    "                   standardization\n",
    "    permutations : int\n",
    "                   number of permutations\n",
    "    gamma        : float\n",
    "                   value of Gamma index\n",
    "    sim_g        : array\n",
    "                   (if permutations>0)\n",
    "                   vector of Gamma index values for permuted samples\n",
    "    p_sim_g      : array\n",
    "                   (if permutations>0)\n",
    "                   p-value based on permutations (one-sided)\n",
    "                   null: spatial randomness\n",
    "                   alternative: the observed Gamma is more extreme than under randomness\n",
    "                   implemented as a two-sided test\n",
    "    mean_g       : float\n",
    "                   average of permuted Gamma values\n",
    "    min_g        : float\n",
    "                   minimum of permuted Gamma values\n",
    "    max_g        : float\n",
    "                   maximum of permuted Gamma values\n",
    "\n",
    "\n",
    "    Examples\n",
    "    --------\n",
    "\n",
    "    use same example as for join counts to show similarity\n",
    "\n",
    "    >>> import libpysal, numpy as np\n",
    "    >>> from esda.gamma import Gamma\n",
    "    >>> w = libpysal.weights.lat2W(4,4)\n",
    "    >>> y=np.ones(16)\n",
    "    >>> y[0:8]=0\n",
    "    >>> np.random.seed(12345)\n",
    "    >>> g = Gamma(y,w)\n",
    "    >>> g.g\n",
    "    20.0\n",
    "    >>> round(g.g_z, 3)\n",
    "    3.188\n",
    "    >>> round(g.p_sim_g, 3)\n",
    "    0.003\n",
    "    >>> g.min_g\n",
    "    0.0\n",
    "    >>> g.max_g\n",
    "    20.0\n",
    "    >>> g.mean_g\n",
    "    11.093093093093094\n",
    "    >>> np.random.seed(12345)\n",
    "    >>> g1 = Gamma(y,w,operation='s')\n",
    "    >>> g1.g\n",
    "    8.0\n",
    "    >>> round(g1.g_z, 3)\n",
    "    -3.706\n",
    "    >>> g1.p_sim_g\n",
    "    0.001\n",
    "    >>> g1.min_g\n",
    "    14.0\n",
    "    >>> g1.max_g\n",
    "    48.0\n",
    "    >>> g1.mean_g\n",
    "    25.623623623623622\n",
    "    >>> np.random.seed(12345)\n",
    "    >>> g2 = Gamma(y,w,operation='a')\n",
    "    >>> g2.g\n",
    "    8.0\n",
    "    >>> round(g2.g_z, 3)\n",
    "    -3.706\n",
    "    >>> g2.p_sim_g\n",
    "    0.001\n",
    "    >>> g2.min_g\n",
    "    14.0\n",
    "    >>> g2.max_g\n",
    "    48.0\n",
    "    >>> g2.mean_g\n",
    "    25.623623623623622\n",
    "    >>> np.random.seed(12345)\n",
    "    >>> g3 = Gamma(y,w,standardize=True)\n",
    "    >>> g3.g\n",
    "    32.0\n",
    "    >>> round(g3.g_z, 3)\n",
    "    3.706\n",
    "    >>> g3.p_sim_g\n",
    "    0.001\n",
    "    >>> g3.min_g\n",
    "    -48.0\n",
    "    >>> g3.max_g\n",
    "    20.0\n",
    "    >>> g3.mean_g\n",
    "    -3.2472472472472473\n",
    "    >>> np.random.seed(12345)\n",
    "    >>> def func(z,i,j):\n",
    "    ...     q = z[i]*z[j]\n",
    "    ...     return q\n",
    "    ...\n",
    "    >>> g4 = Gamma(y,w,operation=func)\n",
    "    >>> g4.g\n",
    "    20.0\n",
    "    >>> round(g4.g_z, 3)\n",
    "    3.188\n",
    "    >>> round(g4.p_sim_g, 3)\n",
    "    0.003\n",
    "\n",
    "    Notes\n",
    "    -----\n",
    "\n",
    "    For further technical details see :cite:`Hubert_1981`.\n",
    "\n",
    "\n",
    "\n",
    "    \"\"\"\n",
    "    def __init__(self, y, w, operation='c', standardize=False, permutations=PERMUTATIONS):\n",
    "        if isinstance(standardize, str):\n",
    "            standardize = standardize.lower() == 'yes'\n",
    "            warnings.warn('Use True/False for standardize. The option to'\n",
    "                          ' provide \"yes\"/\"no\" will be deprecated in PySAL 2.2.' )\n",
    "        y = np.asarray(y).flatten()\n",
    "        self.w = w\n",
    "        self.y = y\n",
    "        self.op = operation\n",
    "        self.stand = standardize\n",
    "        self.permutations = permutations\n",
    "        if self.stand:\n",
    "            ym = np.mean(self.y)\n",
    "            ysd = np.std(self.y)\n",
    "            ys = (self.y - ym) / ysd\n",
    "            self.y = ys\n",
    "        self.g = self.__calc(self.y, self.op)\n",
    "\n",
    "        if permutations:\n",
    "            sim = [self.__calc(np.random.permutation(self.y), self.op)\n",
    "                   for i in range(permutations)]\n",
    "            self.sim_g = np.array(sim)\n",
    "            self.min_g = np.min(self.sim_g)\n",
    "            self.mean_g = np.mean(self.sim_g)\n",
    "            self.max_g = np.max(self.sim_g)\n",
    "            p_sim_g = self.__pseudop(self.sim_g, self.g)\n",
    "            self.p_sim_g = p_sim_g\n",
    "            self.g_z = (self.g - self.mean_g) / np.std(self.sim_g)\n",
    "\n",
    "    @property\n",
    "    def _statistic(self):\n",
    "        return self.g\n",
    "\n",
    "    @property\n",
    "    def  p_sim(self):\n",
    "        \"\"\"new name to fit with Moran module\"\"\"\n",
    "        return self.p_sim_g\n",
    "\n",
    "    def __calc(self, z, op):\n",
    "        if op == 'c':     # cross-product\n",
    "            zl = lag_spatial(self.w, z)\n",
    "            g = (z * zl).sum()\n",
    "        elif op == 's':   # squared difference\n",
    "            zs = np.zeros(z.shape)\n",
    "            z2 = z ** 2\n",
    "            for i, i0 in enumerate(self.w.id_order):\n",
    "                neighbors = self.w.neighbor_offsets[i0]\n",
    "                wijs = self.w.weights[i0]\n",
    "                zw = list(zip(neighbors, wijs))\n",
    "                zs[i] = sum([wij * (z2[i] - 2.0 * z[i] * z[\n",
    "                    j] + z2[j]) for j, wij in zw])\n",
    "            g = zs.sum()\n",
    "        elif op == 'a':    # absolute difference\n",
    "            zs = np.zeros(z.shape)\n",
    "            for i, i0 in enumerate(self.w.id_order):\n",
    "                neighbors = self.w.neighbor_offsets[i0]\n",
    "                wijs = self.w.weights[i0]\n",
    "                zw = list(zip(neighbors, wijs))\n",
    "                zs[i] = sum([wij * abs(z[i] - z[j]) for j, wij in zw])\n",
    "            g = zs.sum()\n",
    "        else:              # any previously defined function op\n",
    "            zs = np.zeros(z.shape)\n",
    "            for i, i0 in enumerate(self.w.id_order):\n",
    "                neighbors = self.w.neighbor_offsets[i0]\n",
    "                wijs = self.w.weights[i0]\n",
    "                zw = list(zip(neighbors, wijs))\n",
    "                zs[i] = sum([wij * op(z, i, j) for j, wij in zw])\n",
    "            g = zs.sum()\n",
    "        return g\n",
    "\n",
    "    def __pseudop(self, sim, g):\n",
    "        above = sim >= g\n",
    "        larger = above.sum()\n",
    "        psim = (larger + 1.) / (self.permutations + 1.)\n",
    "        if psim > 0.5:\n",
    "            psim = (self.permutations - larger + 1.) / (self.permutations + 1.)\n",
    "        return psim"
   ]
  },
  {
   "cell_type": "code",
   "execution_count": 2,
   "metadata": {},
   "outputs": [
    {
     "data": {
      "text/plain": [
       "20.0"
      ]
     },
     "execution_count": 2,
     "metadata": {},
     "output_type": "execute_result"
    }
   ],
   "source": [
    "import libpysal, numpy as np\n",
    "from esda.gamma import Gamma\n",
    "\n",
    "w = libpysal.weights.lat2W(4,4)\n",
    "y=np.ones(16)\n",
    "y[0:8]=0\n",
    "np.random.seed(12345)\n",
    "g = Gamma(y,w)\n",
    "g.g"
   ]
  },
  {
   "cell_type": "code",
   "execution_count": 3,
   "metadata": {},
   "outputs": [
    {
     "data": {
      "text/plain": [
       "array([0., 0., 0., 0., 1., 1., 1., 1., 2., 3., 3., 2., 2., 3., 3., 2.])"
      ]
     },
     "execution_count": 3,
     "metadata": {},
     "output_type": "execute_result"
    }
   ],
   "source": [
    "zl = lag_spatial(w, y); zl"
   ]
  },
  {
   "cell_type": "code",
   "execution_count": 4,
   "metadata": {},
   "outputs": [
    {
     "data": {
      "text/plain": [
       "20.0"
      ]
     },
     "execution_count": 4,
     "metadata": {},
     "output_type": "execute_result"
    }
   ],
   "source": [
    "g = (y * zl).sum(); g"
   ]
  },
  {
   "cell_type": "markdown",
   "metadata": {},
   "source": [
    "Local statistic for each unit should sum to 20."
   ]
  },
  {
   "cell_type": "code",
   "execution_count": 26,
   "metadata": {},
   "outputs": [],
   "source": [
    "\"\"\"\n",
    "Local gamma index for spatial autocorrelation\n",
    "\n",
    "\n",
    "\"\"\"\n",
    "__author__ = \"Luc Anselin <luc.anselin@asu.edu> Serge Rey <sjsrey@gmail.com>\"\n",
    "\n",
    "import numpy as np\n",
    "from libpysal.weights.spatial_lag import lag_spatial\n",
    "import warnings\n",
    "\n",
    "__all__ = ['Local_Gamma']\n",
    "\n",
    "PERMUTATIONS = 999\n",
    "\n",
    "\n",
    "class Local_Gamma(object):\n",
    "    \"\"\"Local Gamma index for spatial autocorrelation\n",
    "\n",
    "\n",
    "    Parameters\n",
    "    ----------\n",
    "\n",
    "    y               : array\n",
    "                      variable measured across n spatial units\n",
    "    w               : W\n",
    "                      spatial weights instance\n",
    "                      can be binary or row-standardized\n",
    "    operation       : {'c', 's', 'a'}\n",
    "                      attribute similarity function where,\n",
    "                      'c' cross product\n",
    "                      's' squared difference\n",
    "                      'a' absolute difference\n",
    "    standardize     : {False, True}\n",
    "                      standardize variables first\n",
    "                      False, keep as is\n",
    "                      True, standardize to mean zero and variance one\n",
    "    permutations    : int\n",
    "                      number of random permutations for calculation of pseudo-p_values\n",
    "\n",
    "    Attributes\n",
    "    ----------\n",
    "    y            : array\n",
    "                   original variable\n",
    "    w            : W\n",
    "                   original w object\n",
    "    op           : {'c', 's', 'a'}\n",
    "                   attribute similarity function, as per parameters\n",
    "                   attribute similarity function\n",
    "    stand        : {False, True}\n",
    "                   standardization\n",
    "    permutations : int\n",
    "                   number of permutations\n",
    "    gamma        : float\n",
    "                   value of Gamma index\n",
    "    sim_g        : array\n",
    "                   (if permutations>0)\n",
    "                   vector of Gamma index values for permuted samples\n",
    "    p_sim_g      : array\n",
    "                   (if permutations>0)\n",
    "                   p-value based on permutations (one-sided)\n",
    "                   null: spatial randomness\n",
    "                   alternative: the observed Gamma is more extreme than under randomness\n",
    "                   implemented as a two-sided test\n",
    "    mean_g       : float\n",
    "                   average of permuted Gamma values\n",
    "    min_g        : float\n",
    "                   minimum of permuted Gamma values\n",
    "    max_g        : float\n",
    "                   maximum of permuted Gamma values\n",
    "\n",
    "    \"\"\"\n",
    "    def __init__(self, y, w, operation='c', standardize=False, permutations=PERMUTATIONS):\n",
    "        if isinstance(standardize, str):\n",
    "            standardize = standardize.lower() == 'yes'\n",
    "            warnings.warn('Use True/False for standardize. The option to'\n",
    "                          ' provide \"yes\"/\"no\" will be deprecated in PySAL 2.2.' )\n",
    "        y = np.asarray(y).flatten()\n",
    "        self.w = w\n",
    "        self.y = y\n",
    "        self.n = len(y)\n",
    "        self.op = operation\n",
    "        self.stand = standardize\n",
    "        self.permutations = permutations\n",
    "        if self.stand:\n",
    "            ym = np.mean(self.y)\n",
    "            ysd = np.std(self.y)\n",
    "            ys = (self.y - ym) / ysd\n",
    "            self.y = ys\n",
    "        self.g = self.__calc(self.y, self.op)\n",
    "\n",
    "        if permutations:\n",
    "            self.__crand()\n",
    "            sim = np.transpose(self.localgs)\n",
    "            above = sim >= self.g\n",
    "            larger = above.sum(0)\n",
    "            low_extreme = (self.permutations - larger) < larger\n",
    "            larger[low_extreme] = self.permutations - larger[low_extreme]\n",
    "            self.p_sim = (larger + 1.0) / (permutations + 1.0)\n",
    "            #print(p_sim)\n",
    "    \n",
    "    @property\n",
    "    def _statistic(self):\n",
    "        return self.g\n",
    "\n",
    "    def __calc(self, z, op):\n",
    "        if op == 'c':     # cross-product\n",
    "            zl = lag_spatial(self.w, z)\n",
    "            # Remove the suffix .sum()\n",
    "            g = z * zl\n",
    "        elif op == 's':   # squared difference\n",
    "            zs = np.zeros(z.shape)\n",
    "            z2 = z ** 2\n",
    "            for i, i0 in enumerate(self.w.id_order):\n",
    "                neighbors = self.w.neighbor_offsets[i0]\n",
    "                wijs = self.w.weights[i0]\n",
    "                zw = list(zip(neighbors, wijs))\n",
    "                zs[i] = sum([wij * (z2[i] - 2.0 * z[i] * z[\n",
    "                    j] + z2[j]) for j, wij in zw])\n",
    "            # Removed the suffix .sum()    \n",
    "            g = zs\n",
    "        elif op == 'a':    # absolute difference\n",
    "            zs = np.zeros(z.shape)\n",
    "            for i, i0 in enumerate(self.w.id_order):\n",
    "                neighbors = self.w.neighbor_offsets[i0]\n",
    "                wijs = self.w.weights[i0]\n",
    "                zw = list(zip(neighbors, wijs))\n",
    "                zs[i] = sum([wij * abs(z[i] - z[j]) for j, wij in zw])\n",
    "            # Removed the suffix .sum()    \n",
    "            g = zs\n",
    "        else:              # any previously defined function op\n",
    "            zs = np.zeros(z.shape)\n",
    "            for i, i0 in enumerate(self.w.id_order):\n",
    "                neighbors = self.w.neighbor_offsets[i0]\n",
    "                wijs = self.w.weights[i0]\n",
    "                zw = list(zip(neighbors, wijs))\n",
    "                zs[i] = sum([wij * op(z, i, j) for j, wij in zw])\n",
    "            # Removed the suffix .sum()    \n",
    "            g = zs\n",
    "        return g\n",
    "    \n",
    "    def __crand(self):\n",
    "        \"\"\"\n",
    "        conditional randomization\n",
    "        for observation i with ni neighbors,  the candidate set cannot include\n",
    "        i (we don't want i being a neighbor of i). we have to sample without\n",
    "        replacement from a set of ids that doesn't include i. numpy doesn't\n",
    "        directly support sampling wo replacement and it is expensive to\n",
    "        implement this. instead we omit i from the original ids,  permute the\n",
    "        ids and take the first ni elements of the permuted ids as the\n",
    "        neighbors to i in each randomization.\n",
    "        \"\"\"\n",
    "        z = self.y\n",
    "        localgs = np.zeros((self.n, self.permutations))\n",
    "        n_1 = self.n - 1\n",
    "        prange = list(range(self.permutations))\n",
    "        k = self.w.max_neighbors + 1\n",
    "        nn = self.n - 1\n",
    "        rids = np.array([np.random.permutation(nn)[0:k] for i in prange])\n",
    "        ids = np.arange(self.w.n)\n",
    "        ido = self.w.id_order\n",
    "        w = [self.w.weights[ido[i]] for i in ids]\n",
    "        wc = [self.w.cardinalities[ido[i]] for i in ids]\n",
    "\n",
    "        for i in range(self.w.n):\n",
    "            idsi = ids[ids != i]\n",
    "            np.random.shuffle(idsi)\n",
    "            tmp_z = z[idsi[rids[:, 0:wc[i]]]]   \n",
    "            \n",
    "            if self.op == 'c':\n",
    "                localgs[i] = y[i] * (w[i] * tmp_z).sum(1)\n",
    "            elif self.op == 's':\n",
    "                print(\"Not yet implemented\")\n",
    "            elif self.op == 'a':\n",
    "                print(\"Not yet implemented\")\n",
    "            else:\n",
    "                print(\"Not yet implemented\")\n",
    "            \n",
    "        self.localgs = localgs"
   ]
  },
  {
   "cell_type": "code",
   "execution_count": 30,
   "metadata": {},
   "outputs": [],
   "source": [
    "w = libpysal.weights.lat2W(4,4)"
   ]
  },
  {
   "cell_type": "code",
   "execution_count": 7,
   "metadata": {},
   "outputs": [],
   "source": [
    "def crand(y, w, permutations=999, op = 'c'):\n",
    "    \"\"\"\n",
    "    conditional randomization\n",
    "    for observation i with ni neighbors,  the candidate set cannot include\n",
    "    i (we don't want i being a neighbor of i). we have to sample without\n",
    "    replacement from a set of ids that doesn't include i. numpy doesn't\n",
    "    directly support sampling wo replacement and it is expensive to\n",
    "    implement this. instead we omit i from the original ids,  permute the\n",
    "    ids and take the first ni elements of the permuted ids as the\n",
    "    neighbors to i in each randomization.\n",
    "    \"\"\"\n",
    "    weightz = w\n",
    "    z = y\n",
    "    n = len(z)\n",
    "    localgs = np.zeros((n, permutations))\n",
    "    n_1 = n - 1\n",
    "    prange = list(range(permutations))\n",
    "    k = weightz.max_neighbors + 1\n",
    "    nn = n - 1\n",
    "    rids = np.array([np.random.permutation(nn)[0:k] for i in prange])\n",
    "    ids = np.arange(weightz.n)\n",
    "    ido = weightz.id_order\n",
    "    w = [weightz.weights[ido[i]] for i in ids]\n",
    "    wc = [weightz.cardinalities[ido[i]] for i in ids]\n",
    "\n",
    "    for i in range(weightz.n):\n",
    "        idsi = ids[ids != i]\n",
    "        np.random.shuffle(idsi)\n",
    "        tmp_z = z[idsi[rids[:, 0:wc[i]]]]   \n",
    "\n",
    "        if op == 'c':\n",
    "            localgs[i] = y[i] * (w[i] * tmp_z).sum(1)\n",
    "            return localgs\n",
    "        elif op == 's':\n",
    "            print(\"Not yet implemented\")\n",
    "        elif op == 'a':\n",
    "            print(\"Not yet implemented\")\n",
    "        else:\n",
    "            print(\"Not yet implemented\")"
   ]
  },
  {
   "cell_type": "code",
   "execution_count": 8,
   "metadata": {},
   "outputs": [
    {
     "data": {
      "text/plain": [
       "array([[0., 0., 0., ..., 0., 0., 0.],\n",
       "       [0., 0., 0., ..., 0., 0., 0.],\n",
       "       [0., 0., 0., ..., 0., 0., 0.],\n",
       "       ...,\n",
       "       [0., 0., 0., ..., 0., 0., 0.],\n",
       "       [0., 0., 0., ..., 0., 0., 0.],\n",
       "       [0., 0., 0., ..., 0., 0., 0.]])"
      ]
     },
     "execution_count": 8,
     "metadata": {},
     "output_type": "execute_result"
    }
   ],
   "source": [
    "crand(y, w)"
   ]
  },
  {
   "cell_type": "code",
   "execution_count": 9,
   "metadata": {},
   "outputs": [],
   "source": [
    "zl = lag_spatial(w, y)\n",
    "# Remove the suffix .sum()\n",
    "g = y * zl"
   ]
  },
  {
   "cell_type": "code",
   "execution_count": 10,
   "metadata": {},
   "outputs": [
    {
     "data": {
      "text/plain": [
       "array([0., 0., 0., 0., 1., 1., 1., 1., 2., 3., 3., 2., 2., 3., 3., 2.])"
      ]
     },
     "execution_count": 10,
     "metadata": {},
     "output_type": "execute_result"
    }
   ],
   "source": [
    "zl"
   ]
  },
  {
   "cell_type": "code",
   "execution_count": 46,
   "metadata": {},
   "outputs": [
    {
     "name": "stdout",
     "output_type": "stream",
     "text": [
      "[0. 0. 0. 0. 0. 0. 0. 0. 2. 3. 3. 2. 2. 3. 3. 2.]\n"
     ]
    },
    {
     "data": {
      "text/plain": [
       "array([[0., 0., 0., 0., 0., 0., 0., 0., 0., 0., 0., 0., 0., 0., 0., 0.,\n",
       "        0., 0., 0., 0., 0., 0., 0., 0., 0., 0., 0., 0., 0., 0., 0., 0.,\n",
       "        0., 0., 0., 0., 0., 0., 0., 0., 0., 0., 0., 0., 0., 0., 0., 0.,\n",
       "        0., 0., 0., 0., 0., 0., 0., 0., 0., 0., 0., 0., 0., 0., 0., 0.,\n",
       "        0., 0., 0., 0., 0., 0., 0., 0., 0., 0., 0., 0., 0., 0., 0., 0.,\n",
       "        0., 0., 0., 0., 0., 0., 0., 0., 0., 0., 0., 0., 0., 0., 0., 0.,\n",
       "        0., 0., 0.]])"
      ]
     },
     "execution_count": 46,
     "metadata": {},
     "output_type": "execute_result"
    }
   ],
   "source": [
    "g_local = Local_Gamma(y,w,operation='c',permutations=99)\n",
    "print(g_local.g)\n",
    "g_local.localgs[[1]]"
   ]
  },
  {
   "cell_type": "code",
   "execution_count": 35,
   "metadata": {},
   "outputs": [
    {
     "name": "stdout",
     "output_type": "stream",
     "text": [
      "Not yet implemented\n",
      "Not yet implemented\n",
      "Not yet implemented\n",
      "Not yet implemented\n",
      "Not yet implemented\n",
      "Not yet implemented\n",
      "Not yet implemented\n",
      "Not yet implemented\n",
      "Not yet implemented\n",
      "Not yet implemented\n",
      "Not yet implemented\n",
      "Not yet implemented\n",
      "Not yet implemented\n",
      "Not yet implemented\n",
      "Not yet implemented\n",
      "Not yet implemented\n",
      "[0. 0. 0. 0. 1. 1. 1. 1. 1. 1. 1. 1. 0. 0. 0. 0.]\n"
     ]
    },
    {
     "data": {
      "text/plain": [
       "array([[0., 0., 0., ..., 0., 0., 0.],\n",
       "       [0., 0., 0., ..., 0., 0., 0.],\n",
       "       [0., 0., 0., ..., 0., 0., 0.],\n",
       "       ...,\n",
       "       [0., 0., 0., ..., 0., 0., 0.],\n",
       "       [0., 0., 0., ..., 0., 0., 0.],\n",
       "       [0., 0., 0., ..., 0., 0., 0.]])"
      ]
     },
     "execution_count": 35,
     "metadata": {},
     "output_type": "execute_result"
    }
   ],
   "source": [
    "g_local = Local_Gamma(y,w,operation='s',permutations=99)\n",
    "print(g_local.g)\n",
    "g_local.localgs"
   ]
  },
  {
   "cell_type": "code",
   "execution_count": 33,
   "metadata": {},
   "outputs": [
    {
     "name": "stdout",
     "output_type": "stream",
     "text": [
      "Not yet implemented\n",
      "Not yet implemented\n",
      "Not yet implemented\n",
      "Not yet implemented\n",
      "Not yet implemented\n",
      "Not yet implemented\n",
      "Not yet implemented\n",
      "Not yet implemented\n",
      "Not yet implemented\n",
      "Not yet implemented\n",
      "Not yet implemented\n",
      "Not yet implemented\n",
      "Not yet implemented\n",
      "Not yet implemented\n",
      "Not yet implemented\n",
      "Not yet implemented\n"
     ]
    },
    {
     "data": {
      "text/plain": [
       "array([0., 0., 0., 0., 1., 1., 1., 1., 1., 1., 1., 1., 0., 0., 0., 0.])"
      ]
     },
     "execution_count": 33,
     "metadata": {},
     "output_type": "execute_result"
    }
   ],
   "source": [
    "g_local = Local_Gamma(y,w,operation='a',permutations=99)\n",
    "g_local.g"
   ]
  },
  {
   "cell_type": "markdown",
   "metadata": {},
   "source": [
    "# Loading in default datasets"
   ]
  },
  {
   "cell_type": "code",
   "execution_count": 1,
   "metadata": {},
   "outputs": [
    {
     "name": "stdout",
     "output_type": "stream",
     "text": [
      "nt win32\n",
      "Windows-10-10.0.18362-SP0\n"
     ]
    }
   ],
   "source": [
    "import os; print(os.name, os.sys.platform);\n",
    "import platform; print(platform.platform())"
   ]
  },
  {
   "cell_type": "code",
   "execution_count": 2,
   "metadata": {},
   "outputs": [
    {
     "name": "stdout",
     "output_type": "stream",
     "text": [
      "2.2.0\n"
     ]
    }
   ],
   "source": [
    "import pysal; print(pysal.__version__)"
   ]
  },
  {
   "cell_type": "code",
   "execution_count": 3,
   "metadata": {},
   "outputs": [
    {
     "name": "stdout",
     "output_type": "stream",
     "text": [
      "4.3.0\n"
     ]
    }
   ],
   "source": [
    "import libpysal; print(libpysal.__version__)"
   ]
  },
  {
   "cell_type": "code",
   "execution_count": 34,
   "metadata": {},
   "outputs": [],
   "source": [
    "from libpysal.examples import get_path"
   ]
  },
  {
   "cell_type": "code",
   "execution_count": 36,
   "metadata": {},
   "outputs": [
    {
     "name": "stdout",
     "output_type": "stream",
     "text": [
      "Bostonhsg is not a file in any installed dataset.\n"
     ]
    }
   ],
   "source": [
    "get_path(\"Bostonhsg\")"
   ]
  },
  {
   "cell_type": "code",
   "execution_count": 5,
   "metadata": {},
   "outputs": [
    {
     "data": {
      "text/plain": [
       "'C:\\\\Users\\\\jeffe\\\\AppData\\\\Local\\\\Programs\\\\Python\\\\Python38-32\\\\lib\\\\site-packages\\\\libpysal\\\\examples\\\\mexico\\\\mexicojoin.dbf'"
      ]
     },
     "execution_count": 5,
     "metadata": {},
     "output_type": "execute_result"
    }
   ],
   "source": [
    "get_path(\"mexicojoin.dbf\")"
   ]
  },
  {
   "cell_type": "code",
   "execution_count": 6,
   "metadata": {},
   "outputs": [],
   "source": [
    "import libpysal\n",
    "dbf = libpysal.io.open(get_path(\"mexicojoin.dbf\"))\n",
    "\n"
   ]
  },
  {
   "cell_type": "code",
   "execution_count": 22,
   "metadata": {},
   "outputs": [
    {
     "name": "stdout",
     "output_type": "stream",
     "text": [
      "                      Name                                                                                                                                                                                                                                       Description  Installed\n",
      "0                    10740                                                                                                                Albuquerque, New Mexico, Census 2000 Tract Data. 10740 is the Core Based Statistical Area (CBSA) code for Albuquerque, New Mexico.       True\n",
      "1                   AirBnB                                                                                                                                                                                              Airbnb rentals, socioeconomics, and crime in Chicago       True\n",
      "2                  Atlanta                                                                                                                                                                                                      Atlanta, GA region homicide counts and rates       True\n",
      "3                Baltimore                                                                                                                                                                                                         Baltimore house sales prices and hedonics       True\n",
      "4                Bostonhsg                                                                                                                                                                                                              Boston housing and neighborhood data       True\n",
      "5              Buenosaires                                                                                                                                                                                                     Electoral Data for 1999 Argentinean Elections       True\n",
      "6              Charleston1                                                                                                                                                                                        2000 Census Tract Data for Charleston, SC MSA and counties       True\n",
      "7              Charleston2                                                                                                                                                                   1998 and 2001 Zip Code Business Patterns (Census Bureau) for Charleston, SC MSA       True\n",
      "8           Chicago Health                                                                                                                                                                                                                  Chicago Health + Socio-Economics       True\n",
      "9              Chile Labor                                                                                                                                                                                                                Labor Markets in Chile (1982-2002)       True\n",
      "10         Chile Migration                                                                                                                                                                                                           Internal Migration in Chile (1977-2002)      False\n",
      "11              Cincinnati                                                                                                                                                                                                        2008 Cincinnati Crime + Socio-Demographics       True\n",
      "12               Cleveland                                                                                                                                                                                                      2015 sales prices of homes in Cleveland, OH.       True\n",
      "13                Columbus                                                                                                                                                                                                                       Columbus neighborhood crime       True\n",
      "14                 Commpop                                                                                                                                                                                Chicago Community Area Population Percent Change for 2000 and 2010      False\n",
      "15           Community Pop                                                                                                                                                                                     Chicago Community Area Population for 2010 (non-spatial, csv)      False\n",
      "16                  Denver                                                                                                                                                                                                 Demographics and housing in Denver neighborhoods.       True\n",
      "17               Elections                                                                                                                                                                                                              2012 and 2016 Presidential Elections       True\n",
      "18                 Grid100                                                                                                                                                                                                                     Grid with simulated variables       True\n",
      "19               Groceries                                                                                                                                                                                                                         2015 Chicago supermarkets       True\n",
      "20                  Guerry                                                                                                                                                                                                         Moral statistics of France (Guerry, 1833)       True\n",
      "21       Health Indicators                                                                                                                                                                                                               Chicago Health Indicators (2005-11)       True\n",
      "22                 Health+                                                                                                                                                                                                                   2000 Health, Income + Diversity       True\n",
      "23                Hickory1                                                                                                                                                                                           2000 Census Tract Data for Hickory, NC MSA and counties       True\n",
      "24                Hickory2                                                                                                                                                                      1998 and 2001 Zip Code Business Patterns (Census Bureau) for Hickory, NC MSA       True\n",
      "25              Home Sales                                                                                                                                                                                                             2014-15 Home Sales in King County, WA       True\n",
      "26                 Houston                                                                                                                                                                                                      Houston, TX region homicide counts and rates       True\n",
      "27                Juvenile                                                                                                                                                                                                            Cardiff juvenile delinquent residences       True\n",
      "28                Lansing1                                                                                                                                                                                           2000 Census Tract Data for Lansing, MI MSA and counties       True\n",
      "29                Lansing2                                                                                                                                                                      1998 and 2001 Zip Code Business Patterns (Census Bureau) for Lansing, MI MSA       True\n",
      "30                 Laozone                                                                                                                                                                                        Ozone measures at monitoring stations in Los Angeles basin       True\n",
      "31                LasRosas                                                                                                                                                                  Corn yield, fertilizer and field data for precision agriculture, Argentina, 1999       True\n",
      "32                    Line                                                                                                                                                                                                                                    Line Shapefile       True\n",
      "33           Liquor Stores                                                                                                                                                                                                                        2015 Chicago Liquor Stores       True\n",
      "34                 Malaria                                                                                                                                                         Malaria incidence and population (1973, 95, 93 censuses and projections until 2005)             True\n",
      "35              Milwaukee1                                                                                                                                                                                                      2000 Census Tract Data for Milwaukee, WI MSA       True\n",
      "36              Milwaukee2                                                                                                                                                                    1998 and 2001 Zip Code Business Patterns (Census Bureau) for Milwaukee, WI MSA       True\n",
      "37                   NCOVR                                                                                                                                                                                                                     US county homicides 1960-1990       True\n",
      "38                    NDVI                                                                                                                                                                                                       Normalized Difference Vegetation Index grid       True\n",
      "39                     NYC                                                                                                                                                                               Demographic and housing data for New York City subboroughs, 2002-09      False\n",
      "40            NYC Earnings                                                                                                                                                                                                             Block-level Earnings in NYC (2002-14)       True\n",
      "41           NYC Education                                                                                                                                                                                                                              NYC Education (2000)       True\n",
      "42       NYC Neighborhoods                                                                                                                                                                                                      Demographics for New York City neighborhoods       True\n",
      "43  NYC Socio-Demographics                                                                                                                                                                                                                NYC Education + Socio-Demographics       True\n",
      "44              Natregimes                                                                                                                                                                                                                   NCOVR with regimes (book/PySAL)       True\n",
      "45                   Nepal                                                                                                                                                                                      Health, poverty and education indicators for Nepal districts      False\n",
      "46                Ohiolung                                                                                                                                                                                                           Ohio lung cancer data, 1968, 1978, 1988       True\n",
      "47                Orlando1                                                                                                                                                                                           2000 Census Tract Data for Orlando, FL MSA and counties       True\n",
      "48                Orlando2                                                                                                                                                                      1998 and 2001 Zip Code Business Patterns (Census Bureau) for Orlando, FL MSA       True\n",
      "49                  Oz9799                                                                                                                                                                                                                       Monthly ozone data, 1997-99       True\n",
      "50             Phoenix ACS                                                                                                                                                                                    Phoenix American Community Survey Data (2010, 5-year averages)       True\n",
      "51              Pittsburgh                                                                                                                                                                                                                     Pittsburgh homicide locations       True\n",
      "52                   Point                                                                                                                                                                                                                                   Point Shapefile       True\n",
      "53                  Police                                                                                                                                                                                                          Police expenditures Mississippi counties       True\n",
      "54                 Polygon                                                                                                                                                                                                                                 Polygon Shapefile       True\n",
      "55           Polygon_Holes                                                                                                                                                                                                                Example to test treatment of holes       True\n",
      "56       Rio Grande do Sul                                                                                                                                                                                                Cities of the Brazilian State of Rio Grande do Sul       True\n",
      "57                    SIDS                                                                                                                                                                                                           North Carolina county SIDS death counts       True\n",
      "58                   SIDS2                                                                                                                                                                                                 North Carolina county SIDS death counts and rates       True\n",
      "59             Sacramento1                                                                                                                                                                                                         2000 Census Tract Data for Sacramento MSA       True\n",
      "60             Sacramento2                                                                                                                                                                       1998 and 2001 Zip Code Business Patterns (Census Bureau) for Sacramento MSA       True\n",
      "61           SanFran Crime                                                                                                                                                                         July-Dec 2012 crime incidents in San Francisco (points + area) - for CAST       True\n",
      "62               Savannah1                                                                                                                                                                                          2000 Census Tract Data for Savannah, GA MSA and counties       True\n",
      "63               Savannah2                                                                                                                                                                     1998 and 2001 Zip Code Business Patterns (Census Bureau) for Savannah, GA MSA       True\n",
      "64                 Scotlip                                                                                                                                                                                                              Male lip cancer in Scotland, 1975-80       True\n",
      "65                Seattle1                                                                                                                                                                                           2000 Census Tract Data for Seattle, WA MSA and counties       True\n",
      "66                Seattle2                                                                                                                                                                      1998 and 2001 Zip Code Business Patterns (Census Bureau) for Seattle, WA MSA       True\n",
      "67                   South                                                                                                                                                                                                            US Southern county homicides 1960-1990       True\n",
      "68                 StLouis                                                                                                                                                                                                  St Louis region county homicide counts and rates       True\n",
      "69                  Tampa1                                                                                                                                                                                             2000 Census Tract Data for Tampa, FL MSA and counties       True\n",
      "70                 US SDOH                                                                                                                                                                                                        2014 US Social Determinants of Health Data       True\n",
      "71                  arcgis                                                                                                                                                                                                                              arcgis testing files       True\n",
      "72                  baltim                                                                                                                                                                                                  Baltimore house sales prices and hedonics, 1978.       True\n",
      "73                  berlin                                                                                                                                                                                              Prenzlauer Berg neighborhood AirBnB data from Berlin       True\n",
      "74                    book                                                                                                                                                                                                      Synthetic data to illustrate spatial weights       True\n",
      "75                 burkitt                                                                                                                                                                                         Burkitt's lymphoma in the Western Nile district of Uganda       True\n",
      "76                  calemp                                                                                                                                                                                                        Employment density for California counties       True\n",
      "77                 chicago                                                                                                                                                                                                                             Chicago neighborhoods       True\n",
      "78              clearwater                                                                                                                                                                                                                              mgwr testing dataset       True\n",
      "79                columbus                                                                                                                                                                                                             Columbus neighborhood crime data 1980       True\n",
      "80                 desmith                                                                                                                                                                                                   Small dataset to illustrate Moran's I statistic       True\n",
      "81                geodanet                                                                                                                                                                                                       Datasets from GeoDaNet for network analysis       True\n",
      "82                 georgia                                                                                                                                                                  Various socio-economic variables for counties within the state of Georgia (1990)       True\n",
      "83                juvenile                                                                                                                                                                                                   Residences of juvenile offenders in Cardiff, UK       True\n",
      "84                  mexico                                                                                                                                                                                          Decennial per capita incomes of Mexican states 1940-2000       True\n",
      "85                networks                                                                                                                                                                                                                 Datasets used for network testing       True\n",
      "86                newHaven                                                                                                                                                                                                                           Network testing dataset       True\n",
      "87               nyc_bikes                                                                                                                                                                                                                          New York City Bike Trips       True\n",
      "88                   sids2                                                                                                                                                                                                 North Carolina county SIDS death counts and rates       True\n",
      "89               snow_maps                                                                                                                                                                    Public water pumps and Cholera deaths in London 1854 (John Snow's Cholera Map)       True\n",
      "90                     stl  Homicides and selected socio-economic characteristics for counties surrounding St Louis, MO. Data aggregated for three time periods: 1979-84 (steady decline in homicides), 1984-88 (stable period), and 1988-93 (steady increase in homicides).       True\n",
      "91          street_net_pts                                                                                                                                                                                                                             Street network points       True\n",
      "92                     taz                                                                                                                                                                                                          Traffic Analysis Zones in So. California       True\n",
      "93                   tokyo                                                                                                                                                                                                                              Tokyo Mortality data       True\n",
      "94               us_income                                                                                                                                                                                            Per-capita income for the lower 48 US states 1929-2009       True\n",
      "95                virginia                                                                                                                                                                                                                       Virginia counties shapefile       True\n",
      "96                    wmat                                                                                                                                                                                                         Datasets used for spatial weights testing       True\n"
     ]
    }
   ],
   "source": [
    "available()"
   ]
  },
  {
   "cell_type": "code",
   "execution_count": 8,
   "metadata": {},
   "outputs": [],
   "source": [
    "from libpysal.examples import explain"
   ]
  },
  {
   "cell_type": "code",
   "execution_count": 45,
   "metadata": {},
   "outputs": [
    {
     "name": "stdout",
     "output_type": "stream",
     "text": [
      "Example not available: http://data/Commpop\n"
     ]
    }
   ],
   "source": [
    "from libpysal.examples import load_example\n",
    "tampa1 = load_example('http://data/Commpop')"
   ]
  },
  {
   "cell_type": "code",
   "execution_count": 15,
   "metadata": {},
   "outputs": [
    {
     "name": "stdout",
     "output_type": "stream",
     "text": [
      "Bostonhsg.gal is not a file in any installed dataset.\n"
     ]
    },
    {
     "ename": "TypeError",
     "evalue": "expected str, bytes or os.PathLike object, not NoneType",
     "output_type": "error",
     "traceback": [
      "\u001b[1;31m---------------------------------------------------------------------------\u001b[0m",
      "\u001b[1;31mTypeError\u001b[0m                                 Traceback (most recent call last)",
      "\u001b[1;32m<ipython-input-15-a4163774a5c3>\u001b[0m in \u001b[0;36m<module>\u001b[1;34m\u001b[0m\n\u001b[1;32m----> 1\u001b[1;33m \u001b[0mw\u001b[0m \u001b[1;33m=\u001b[0m \u001b[0mlibpysal\u001b[0m\u001b[1;33m.\u001b[0m\u001b[0mio\u001b[0m\u001b[1;33m.\u001b[0m\u001b[0mopen\u001b[0m\u001b[1;33m(\u001b[0m\u001b[0mlibpysal\u001b[0m\u001b[1;33m.\u001b[0m\u001b[0mexamples\u001b[0m\u001b[1;33m.\u001b[0m\u001b[0mget_path\u001b[0m\u001b[1;33m(\u001b[0m\u001b[1;34m\"Bostonhsg.gal\"\u001b[0m\u001b[1;33m)\u001b[0m\u001b[1;33m)\u001b[0m\u001b[1;33m.\u001b[0m\u001b[0mread\u001b[0m\u001b[1;33m(\u001b[0m\u001b[1;33m)\u001b[0m\u001b[1;33m\u001b[0m\u001b[1;33m\u001b[0m\u001b[0m\n\u001b[0m",
      "\u001b[1;32m~\\AppData\\Local\\Programs\\Python\\Python38-32\\lib\\site-packages\\libpysal\\io\\fileio.py\u001b[0m in \u001b[0;36m__new__\u001b[1;34m(cls, dataPath, mode, dataFormat)\u001b[0m\n\u001b[0;32m     64\u001b[0m         \u001b[1;32mif\u001b[0m \u001b[0mcls\u001b[0m \u001b[1;32mis\u001b[0m \u001b[0mFileIO\u001b[0m\u001b[1;33m:\u001b[0m\u001b[1;33m\u001b[0m\u001b[1;33m\u001b[0m\u001b[0m\n\u001b[0;32m     65\u001b[0m             \u001b[1;32mtry\u001b[0m\u001b[1;33m:\u001b[0m\u001b[1;33m\u001b[0m\u001b[1;33m\u001b[0m\u001b[0m\n\u001b[1;32m---> 66\u001b[1;33m                 newCls = object.__new__(cls.__registry[cls.getType(dataPath,\n\u001b[0m\u001b[0;32m     67\u001b[0m                                                                    mode, dataFormat)][mode][0])\n\u001b[0;32m     68\u001b[0m             \u001b[1;32mexcept\u001b[0m \u001b[0mKeyError\u001b[0m\u001b[1;33m:\u001b[0m\u001b[1;33m\u001b[0m\u001b[1;33m\u001b[0m\u001b[0m\n",
      "\u001b[1;32m~\\AppData\\Local\\Programs\\Python\\Python38-32\\lib\\site-packages\\libpysal\\io\\fileio.py\u001b[0m in \u001b[0;36mgetType\u001b[1;34m(dataPath, mode, dataFormat)\u001b[0m\n\u001b[0;32m     78\u001b[0m             \u001b[0mext\u001b[0m \u001b[1;33m=\u001b[0m \u001b[0mdataFormat\u001b[0m\u001b[1;33m\u001b[0m\u001b[1;33m\u001b[0m\u001b[0m\n\u001b[0;32m     79\u001b[0m         \u001b[1;32melse\u001b[0m\u001b[1;33m:\u001b[0m\u001b[1;33m\u001b[0m\u001b[1;33m\u001b[0m\u001b[0m\n\u001b[1;32m---> 80\u001b[1;33m             \u001b[0mext\u001b[0m \u001b[1;33m=\u001b[0m \u001b[0mos\u001b[0m\u001b[1;33m.\u001b[0m\u001b[0mpath\u001b[0m\u001b[1;33m.\u001b[0m\u001b[0msplitext\u001b[0m\u001b[1;33m(\u001b[0m\u001b[0mdataPath\u001b[0m\u001b[1;33m)\u001b[0m\u001b[1;33m[\u001b[0m\u001b[1;36m1\u001b[0m\u001b[1;33m]\u001b[0m\u001b[1;33m\u001b[0m\u001b[1;33m\u001b[0m\u001b[0m\n\u001b[0m\u001b[0;32m     81\u001b[0m             \u001b[0mext\u001b[0m \u001b[1;33m=\u001b[0m \u001b[0mext\u001b[0m\u001b[1;33m.\u001b[0m\u001b[0mreplace\u001b[0m\u001b[1;33m(\u001b[0m\u001b[1;34m'.'\u001b[0m\u001b[1;33m,\u001b[0m \u001b[1;34m''\u001b[0m\u001b[1;33m)\u001b[0m\u001b[1;33m\u001b[0m\u001b[1;33m\u001b[0m\u001b[0m\n\u001b[0;32m     82\u001b[0m             \u001b[0mext\u001b[0m \u001b[1;33m=\u001b[0m \u001b[0mext\u001b[0m\u001b[1;33m.\u001b[0m\u001b[0mlower\u001b[0m\u001b[1;33m(\u001b[0m\u001b[1;33m)\u001b[0m\u001b[1;33m\u001b[0m\u001b[1;33m\u001b[0m\u001b[0m\n",
      "\u001b[1;32m~\\AppData\\Local\\Programs\\Python\\Python38-32\\lib\\ntpath.py\u001b[0m in \u001b[0;36msplitext\u001b[1;34m(p)\u001b[0m\n\u001b[0;32m    202\u001b[0m \u001b[1;33m\u001b[0m\u001b[0m\n\u001b[0;32m    203\u001b[0m \u001b[1;32mdef\u001b[0m \u001b[0msplitext\u001b[0m\u001b[1;33m(\u001b[0m\u001b[0mp\u001b[0m\u001b[1;33m)\u001b[0m\u001b[1;33m:\u001b[0m\u001b[1;33m\u001b[0m\u001b[1;33m\u001b[0m\u001b[0m\n\u001b[1;32m--> 204\u001b[1;33m     \u001b[0mp\u001b[0m \u001b[1;33m=\u001b[0m \u001b[0mos\u001b[0m\u001b[1;33m.\u001b[0m\u001b[0mfspath\u001b[0m\u001b[1;33m(\u001b[0m\u001b[0mp\u001b[0m\u001b[1;33m)\u001b[0m\u001b[1;33m\u001b[0m\u001b[1;33m\u001b[0m\u001b[0m\n\u001b[0m\u001b[0;32m    205\u001b[0m     \u001b[1;32mif\u001b[0m \u001b[0misinstance\u001b[0m\u001b[1;33m(\u001b[0m\u001b[0mp\u001b[0m\u001b[1;33m,\u001b[0m \u001b[0mbytes\u001b[0m\u001b[1;33m)\u001b[0m\u001b[1;33m:\u001b[0m\u001b[1;33m\u001b[0m\u001b[1;33m\u001b[0m\u001b[0m\n\u001b[0;32m    206\u001b[0m         \u001b[1;32mreturn\u001b[0m \u001b[0mgenericpath\u001b[0m\u001b[1;33m.\u001b[0m\u001b[0m_splitext\u001b[0m\u001b[1;33m(\u001b[0m\u001b[0mp\u001b[0m\u001b[1;33m,\u001b[0m \u001b[1;34mb'\\\\'\u001b[0m\u001b[1;33m,\u001b[0m \u001b[1;34mb'/'\u001b[0m\u001b[1;33m,\u001b[0m \u001b[1;34mb'.'\u001b[0m\u001b[1;33m)\u001b[0m\u001b[1;33m\u001b[0m\u001b[1;33m\u001b[0m\u001b[0m\n",
      "\u001b[1;31mTypeError\u001b[0m: expected str, bytes or os.PathLike object, not NoneType"
     ]
    }
   ],
   "source": [
    "w = libpysal.io.open(libpysal.examples.get_path(\"Bostonhsg.gal\")).read()"
   ]
  },
  {
   "cell_type": "code",
   "execution_count": 44,
   "metadata": {},
   "outputs": [
    {
     "data": {
      "text/html": [
       "\n",
       "        <iframe\n",
       "            width=\"700\"\n",
       "            height=\"350\"\n",
       "            src=\"\"\n",
       "            frameborder=\"0\"\n",
       "            allowfullscreen\n",
       "        ></iframe>\n",
       "        "
      ],
      "text/plain": [
       "<IPython.lib.display.IFrame at 0x3e7e5940>"
      ]
     },
     "execution_count": 44,
     "metadata": {},
     "output_type": "execute_result"
    }
   ],
   "source": [
    "from libpysal.examples import explain\n",
    "explain('Commpop')"
   ]
  },
  {
   "cell_type": "code",
   "execution_count": 47,
   "metadata": {},
   "outputs": [
    {
     "name": "stdout",
     "output_type": "stream",
     "text": [
      "Example not available: C:/Users/jeffe/pysal_data/Bostonhsg\n"
     ]
    }
   ],
   "source": [
    "\n",
    "\n",
    "from libpysal.examples import load_example\n",
    "tampa1 = load_example('C:/Users/jeffe/pysal_data/Bostonhsg')\n",
    "\n"
   ]
  },
  {
   "cell_type": "code",
   "execution_count": 19,
   "metadata": {},
   "outputs": [
    {
     "ename": "NameError",
     "evalue": "name 'bostonhsg' is not defined",
     "output_type": "error",
     "traceback": [
      "\u001b[1;31m---------------------------------------------------------------------------\u001b[0m",
      "\u001b[1;31mNameError\u001b[0m                                 Traceback (most recent call last)",
      "\u001b[1;32m<ipython-input-19-3475dc1f090f>\u001b[0m in \u001b[0;36m<module>\u001b[1;34m\u001b[0m\n\u001b[1;32m----> 1\u001b[1;33m \u001b[0mbostonhsg\u001b[0m\u001b[1;33m.\u001b[0m\u001b[0minstalled\u001b[0m\u001b[1;33m(\u001b[0m\u001b[1;33m)\u001b[0m\u001b[1;33m\u001b[0m\u001b[1;33m\u001b[0m\u001b[0m\n\u001b[0m",
      "\u001b[1;31mNameError\u001b[0m: name 'bostonhsg' is not defined"
     ]
    }
   ],
   "source": [
    "bostonhsg.installed()"
   ]
  },
  {
   "cell_type": "code",
   "execution_count": 14,
   "metadata": {},
   "outputs": [
    {
     "name": "stdout",
     "output_type": "stream",
     "text": [
      "                      Name                                                                                                                                                                                                                                       Description  Installed\n",
      "0                    10740                                                                                                                Albuquerque, New Mexico, Census 2000 Tract Data. 10740 is the Core Based Statistical Area (CBSA) code for Albuquerque, New Mexico.       True\n",
      "1                   AirBnB                                                                                                                                                                                              Airbnb rentals, socioeconomics, and crime in Chicago      False\n",
      "2                  Atlanta                                                                                                                                                                                                      Atlanta, GA region homicide counts and rates      False\n",
      "3                Baltimore                                                                                                                                                                                                         Baltimore house sales prices and hedonics      False\n",
      "4                Bostonhsg                                                                                                                                                                                                              Boston housing and neighborhood data       True\n",
      "5              Buenosaires                                                                                                                                                                                                     Electoral Data for 1999 Argentinean Elections      False\n",
      "6              Charleston1                                                                                                                                                                                        2000 Census Tract Data for Charleston, SC MSA and counties      False\n",
      "7              Charleston2                                                                                                                                                                   1998 and 2001 Zip Code Business Patterns (Census Bureau) for Charleston, SC MSA      False\n",
      "8           Chicago Health                                                                                                                                                                                                                  Chicago Health + Socio-Economics      False\n",
      "9              Chile Labor                                                                                                                                                                                                                Labor Markets in Chile (1982-2002)      False\n",
      "10         Chile Migration                                                                                                                                                                                                           Internal Migration in Chile (1977-2002)      False\n",
      "11              Cincinnati                                                                                                                                                                                                        2008 Cincinnati Crime + Socio-Demographics      False\n",
      "12               Cleveland                                                                                                                                                                                                      2015 sales prices of homes in Cleveland, OH.      False\n",
      "13                Columbus                                                                                                                                                                                                                       Columbus neighborhood crime      False\n",
      "14                 Commpop                                                                                                                                                                                Chicago Community Area Population Percent Change for 2000 and 2010      False\n",
      "15           Community Pop                                                                                                                                                                                     Chicago Community Area Population for 2010 (non-spatial, csv)      False\n",
      "16                  Denver                                                                                                                                                                                                 Demographics and housing in Denver neighborhoods.      False\n",
      "17               Elections                                                                                                                                                                                                              2012 and 2016 Presidential Elections      False\n",
      "18                 Grid100                                                                                                                                                                                                                     Grid with simulated variables      False\n",
      "19               Groceries                                                                                                                                                                                                                         2015 Chicago supermarkets      False\n",
      "20                  Guerry                                                                                                                                                                                                         Moral statistics of France (Guerry, 1833)      False\n",
      "21       Health Indicators                                                                                                                                                                                                               Chicago Health Indicators (2005-11)      False\n",
      "22                 Health+                                                                                                                                                                                                                   2000 Health, Income + Diversity      False\n",
      "23                Hickory1                                                                                                                                                                                           2000 Census Tract Data for Hickory, NC MSA and counties      False\n",
      "24                Hickory2                                                                                                                                                                      1998 and 2001 Zip Code Business Patterns (Census Bureau) for Hickory, NC MSA      False\n",
      "25              Home Sales                                                                                                                                                                                                             2014-15 Home Sales in King County, WA      False\n",
      "26                 Houston                                                                                                                                                                                                      Houston, TX region homicide counts and rates      False\n",
      "27                Juvenile                                                                                                                                                                                                            Cardiff juvenile delinquent residences      False\n",
      "28                Lansing1                                                                                                                                                                                           2000 Census Tract Data for Lansing, MI MSA and counties      False\n",
      "29                Lansing2                                                                                                                                                                      1998 and 2001 Zip Code Business Patterns (Census Bureau) for Lansing, MI MSA      False\n",
      "30                 Laozone                                                                                                                                                                                        Ozone measures at monitoring stations in Los Angeles basin      False\n",
      "31                LasRosas                                                                                                                                                                  Corn yield, fertilizer and field data for precision agriculture, Argentina, 1999      False\n",
      "32                    Line                                                                                                                                                                                                                                    Line Shapefile       True\n",
      "33           Liquor Stores                                                                                                                                                                                                                        2015 Chicago Liquor Stores      False\n",
      "34                 Malaria                                                                                                                                                         Malaria incidence and population (1973, 95, 93 censuses and projections until 2005)            False\n",
      "35              Milwaukee1                                                                                                                                                                                                      2000 Census Tract Data for Milwaukee, WI MSA      False\n",
      "36              Milwaukee2                                                                                                                                                                    1998 and 2001 Zip Code Business Patterns (Census Bureau) for Milwaukee, WI MSA      False\n",
      "37                   NCOVR                                                                                                                                                                                                                     US county homicides 1960-1990      False\n",
      "38                    NDVI                                                                                                                                                                                                       Normalized Difference Vegetation Index grid      False\n",
      "39                     NYC                                                                                                                                                                               Demographic and housing data for New York City subboroughs, 2002-09      False\n",
      "40            NYC Earnings                                                                                                                                                                                                             Block-level Earnings in NYC (2002-14)      False\n",
      "41           NYC Education                                                                                                                                                                                                                              NYC Education (2000)      False\n",
      "42       NYC Neighborhoods                                                                                                                                                                                                      Demographics for New York City neighborhoods      False\n",
      "43  NYC Socio-Demographics                                                                                                                                                                                                                NYC Education + Socio-Demographics      False\n",
      "44              Natregimes                                                                                                                                                                                                                   NCOVR with regimes (book/PySAL)      False\n",
      "45                   Nepal                                                                                                                                                                                      Health, poverty and education indicators for Nepal districts      False\n",
      "46                Ohiolung                                                                                                                                                                                                           Ohio lung cancer data, 1968, 1978, 1988      False\n",
      "47                Orlando1                                                                                                                                                                                           2000 Census Tract Data for Orlando, FL MSA and counties      False\n",
      "48                Orlando2                                                                                                                                                                      1998 and 2001 Zip Code Business Patterns (Census Bureau) for Orlando, FL MSA      False\n",
      "49                  Oz9799                                                                                                                                                                                                                       Monthly ozone data, 1997-99      False\n",
      "50             Phoenix ACS                                                                                                                                                                                    Phoenix American Community Survey Data (2010, 5-year averages)      False\n",
      "51              Pittsburgh                                                                                                                                                                                                                     Pittsburgh homicide locations      False\n",
      "52                   Point                                                                                                                                                                                                                                   Point Shapefile       True\n",
      "53                  Police                                                                                                                                                                                                          Police expenditures Mississippi counties      False\n",
      "54                 Polygon                                                                                                                                                                                                                                 Polygon Shapefile       True\n",
      "55           Polygon_Holes                                                                                                                                                                                                                Example to test treatment of holes       True\n",
      "56       Rio Grande do Sul                                                                                                                                                                                                Cities of the Brazilian State of Rio Grande do Sul      False\n",
      "57                    SIDS                                                                                                                                                                                                           North Carolina county SIDS death counts      False\n",
      "58                   SIDS2                                                                                                                                                                                                 North Carolina county SIDS death counts and rates      False\n",
      "59             Sacramento1                                                                                                                                                                                                         2000 Census Tract Data for Sacramento MSA      False\n",
      "60             Sacramento2                                                                                                                                                                       1998 and 2001 Zip Code Business Patterns (Census Bureau) for Sacramento MSA      False\n",
      "61           SanFran Crime                                                                                                                                                                         July-Dec 2012 crime incidents in San Francisco (points + area) - for CAST      False\n",
      "62               Savannah1                                                                                                                                                                                          2000 Census Tract Data for Savannah, GA MSA and counties      False\n",
      "63               Savannah2                                                                                                                                                                     1998 and 2001 Zip Code Business Patterns (Census Bureau) for Savannah, GA MSA      False\n",
      "64                 Scotlip                                                                                                                                                                                                              Male lip cancer in Scotland, 1975-80      False\n",
      "65                Seattle1                                                                                                                                                                                           2000 Census Tract Data for Seattle, WA MSA and counties      False\n",
      "66                Seattle2                                                                                                                                                                      1998 and 2001 Zip Code Business Patterns (Census Bureau) for Seattle, WA MSA      False\n",
      "67                   South                                                                                                                                                                                                            US Southern county homicides 1960-1990      False\n",
      "68                 StLouis                                                                                                                                                                                                  St Louis region county homicide counts and rates      False\n",
      "69                  Tampa1                                                                                                                                                                                             2000 Census Tract Data for Tampa, FL MSA and counties       True\n",
      "70                 US SDOH                                                                                                                                                                                                        2014 US Social Determinants of Health Data      False\n",
      "71                  arcgis                                                                                                                                                                                                                              arcgis testing files       True\n",
      "72                  baltim                                                                                                                                                                                                  Baltimore house sales prices and hedonics, 1978.       True\n",
      "73                  berlin                                                                                                                                                                                              Prenzlauer Berg neighborhood AirBnB data from Berlin       True\n",
      "74                    book                                                                                                                                                                                                      Synthetic data to illustrate spatial weights       True\n",
      "75                 burkitt                                                                                                                                                                                         Burkitt's lymphoma in the Western Nile district of Uganda       True\n",
      "76                  calemp                                                                                                                                                                                                        Employment density for California counties       True\n",
      "77                 chicago                                                                                                                                                                                                                             Chicago neighborhoods       True\n",
      "78              clearwater                                                                                                                                                                                                                              mgwr testing dataset      False\n",
      "79                columbus                                                                                                                                                                                                             Columbus neighborhood crime data 1980       True\n",
      "80                 desmith                                                                                                                                                                                                   Small dataset to illustrate Moran's I statistic       True\n",
      "81                geodanet                                                                                                                                                                                                       Datasets from GeoDaNet for network analysis       True\n",
      "82                 georgia                                                                                                                                                                  Various socio-economic variables for counties within the state of Georgia (1990)       True\n",
      "83                juvenile                                                                                                                                                                                                   Residences of juvenile offenders in Cardiff, UK       True\n",
      "84                  mexico                                                                                                                                                                                          Decennial per capita incomes of Mexican states 1940-2000       True\n",
      "85                networks                                                                                                                                                                                                                 Datasets used for network testing       True\n",
      "86                newHaven                                                                                                                                                                                                                           Network testing dataset      False\n",
      "87               nyc_bikes                                                                                                                                                                                                                          New York City Bike Trips      False\n",
      "88                   sids2                                                                                                                                                                                                 North Carolina county SIDS death counts and rates       True\n",
      "89               snow_maps                                                                                                                                                                    Public water pumps and Cholera deaths in London 1854 (John Snow's Cholera Map)       True\n",
      "90                     stl  Homicides and selected socio-economic characteristics for counties surrounding St Louis, MO. Data aggregated for three time periods: 1979-84 (steady decline in homicides), 1984-88 (stable period), and 1988-93 (steady increase in homicides).       True\n",
      "91          street_net_pts                                                                                                                                                                                                                             Street network points       True\n",
      "92                     taz                                                                                                                                                                                                          Traffic Analysis Zones in So. California      False\n",
      "93                   tokyo                                                                                                                                                                                                                              Tokyo Mortality data       True\n",
      "94               us_income                                                                                                                                                                                            Per-capita income for the lower 48 US states 1929-2009       True\n",
      "95                virginia                                                                                                                                                                                                                       Virginia counties shapefile       True\n",
      "96                    wmat                                                                                                                                                                                                         Datasets used for spatial weights testing       True\n"
     ]
    }
   ],
   "source": [
    "available()\n",
    "\n"
   ]
  },
  {
   "cell_type": "code",
   "execution_count": 43,
   "metadata": {},
   "outputs": [
    {
     "ename": "NameError",
     "evalue": "name 'losh' is not defined",
     "output_type": "error",
     "traceback": [
      "\u001b[1;31m---------------------------------------------------------------------------\u001b[0m",
      "\u001b[1;31mNameError\u001b[0m                                 Traceback (most recent call last)",
      "\u001b[1;32m<ipython-input-43-11a40791f3be>\u001b[0m in \u001b[0;36m<module>\u001b[1;34m\u001b[0m\n\u001b[0;32m      3\u001b[0m \u001b[0mboston_ds\u001b[0m \u001b[1;33m=\u001b[0m \u001b[0mgeopandas\u001b[0m\u001b[1;33m.\u001b[0m\u001b[0mread_file\u001b[0m\u001b[1;33m(\u001b[0m\u001b[0mtampa1\u001b[0m\u001b[1;33m.\u001b[0m\u001b[0mget_path\u001b[0m\u001b[1;33m(\u001b[0m\u001b[1;34m'boston.shp'\u001b[0m\u001b[1;33m)\u001b[0m\u001b[1;33m)\u001b[0m\u001b[1;33m\u001b[0m\u001b[1;33m\u001b[0m\u001b[0m\n\u001b[0;32m      4\u001b[0m \u001b[0mw\u001b[0m \u001b[1;33m=\u001b[0m \u001b[0mlibpysal\u001b[0m\u001b[1;33m.\u001b[0m\u001b[0mweights\u001b[0m\u001b[1;33m.\u001b[0m\u001b[0mQueen\u001b[0m\u001b[1;33m.\u001b[0m\u001b[0mfrom_dataframe\u001b[0m\u001b[1;33m(\u001b[0m\u001b[0mboston_ds\u001b[0m\u001b[1;33m)\u001b[0m\u001b[1;33m\u001b[0m\u001b[1;33m\u001b[0m\u001b[0m\n\u001b[1;32m----> 5\u001b[1;33m \u001b[0mls\u001b[0m \u001b[1;33m=\u001b[0m \u001b[0mlosh\u001b[0m\u001b[1;33m(\u001b[0m\u001b[0mconnectivity\u001b[0m\u001b[1;33m=\u001b[0m\u001b[0mw\u001b[0m\u001b[1;33m,\u001b[0m \u001b[0minference\u001b[0m\u001b[1;33m=\u001b[0m\u001b[1;34m\"chi-square\"\u001b[0m\u001b[1;33m)\u001b[0m\u001b[1;33m.\u001b[0m\u001b[0mfit\u001b[0m\u001b[1;33m(\u001b[0m\u001b[0mboston\u001b[0m\u001b[1;33m[\u001b[0m\u001b[1;34m'NOX'\u001b[0m\u001b[1;33m]\u001b[0m\u001b[1;33m)\u001b[0m\u001b[1;33m\u001b[0m\u001b[1;33m\u001b[0m\u001b[0m\n\u001b[0m",
      "\u001b[1;31mNameError\u001b[0m: name 'losh' is not defined"
     ]
    }
   ],
   "source": [
    "from libpysal.examples import load_example\n",
    "boston = load_example('Bostonhsg')\n",
    "boston_ds = geopandas.read_file(tampa1.get_path('boston.shp'))\n",
    "w = libpysal.weights.Queen.from_dataframe(boston_ds)\n",
    "ls = losh(connectivity=w, inference=\"chi-square\").fit(boston['NOX'])\n",
    "np.round(ls.Hi[0], 3)\n",
    "np.round(ls.VarHi[0], 3)"
   ]
  },
  {
   "cell_type": "code",
   "execution_count": null,
   "metadata": {},
   "outputs": [],
   "source": [
    "import geopandas as gpd\n",
    "import libpysal\n",
    "boston = gpd.read_file('https://github.com/jeffcsauer/GSOC2020/raw/master/validation/data/boston/boston.gpkg')\n",
    "w = libpysal.io.open('https://github.com/jeffcsauer/GSOC2020/raw/master/validation/data/boston/spdep_boston.gal').read()\n",
    "ls = losh(connectivity=w, inference=\"chi-square\").fit(boston['NOX'])\n",
    "np.round(ls.Hi[0], 3)\n",
    "np.round(ls.VarHi[0], 3)"
   ]
  },
  {
   "cell_type": "code",
   "execution_count": 31,
   "metadata": {},
   "outputs": [
    {
     "data": {
      "text/plain": [
       "['C:\\\\Users\\\\jeffe\\\\pysal_data\\\\Bostonhsg\\\\boston\\\\.DS_Store',\n",
       " 'C:\\\\Users\\\\jeffe\\\\pysal_data\\\\Bostonhsg\\\\boston\\\\boston.csv',\n",
       " 'C:\\\\Users\\\\jeffe\\\\pysal_data\\\\Bostonhsg\\\\boston\\\\boston.dbf',\n",
       " 'C:\\\\Users\\\\jeffe\\\\pysal_data\\\\Bostonhsg\\\\boston\\\\boston.geojson',\n",
       " 'C:\\\\Users\\\\jeffe\\\\pysal_data\\\\Bostonhsg\\\\boston\\\\boston.gml',\n",
       " 'C:\\\\Users\\\\jeffe\\\\pysal_data\\\\Bostonhsg\\\\boston\\\\boston.gpkg',\n",
       " 'C:\\\\Users\\\\jeffe\\\\pysal_data\\\\Bostonhsg\\\\boston\\\\boston.mid',\n",
       " 'C:\\\\Users\\\\jeffe\\\\pysal_data\\\\Bostonhsg\\\\boston\\\\boston.mif',\n",
       " 'C:\\\\Users\\\\jeffe\\\\pysal_data\\\\Bostonhsg\\\\boston\\\\boston.shp',\n",
       " 'C:\\\\Users\\\\jeffe\\\\pysal_data\\\\Bostonhsg\\\\boston\\\\boston.shx',\n",
       " 'C:\\\\Users\\\\jeffe\\\\pysal_data\\\\Bostonhsg\\\\boston\\\\boston.sqlite',\n",
       " 'C:\\\\Users\\\\jeffe\\\\pysal_data\\\\Bostonhsg\\\\boston\\\\boston.txt',\n",
       " 'C:\\\\Users\\\\jeffe\\\\pysal_data\\\\Bostonhsg\\\\boston\\\\boston.xlsx',\n",
       " 'C:\\\\Users\\\\jeffe\\\\pysal_data\\\\Bostonhsg\\\\boston\\\\boston.xsd',\n",
       " 'C:\\\\Users\\\\jeffe\\\\pysal_data\\\\Bostonhsg\\\\boston\\\\boston_metadata.html',\n",
       " 'C:\\\\Users\\\\jeffe\\\\pysal_data\\\\Bostonhsg\\\\boston\\\\style.css',\n",
       " 'C:\\\\Users\\\\jeffe\\\\pysal_data\\\\Bostonhsg\\\\__MACOSX\\\\._boston',\n",
       " 'C:\\\\Users\\\\jeffe\\\\pysal_data\\\\Bostonhsg\\\\__MACOSX\\\\boston\\\\._.DS_Store',\n",
       " 'C:\\\\Users\\\\jeffe\\\\pysal_data\\\\Bostonhsg\\\\__MACOSX\\\\boston\\\\._boston.dbf',\n",
       " 'C:\\\\Users\\\\jeffe\\\\pysal_data\\\\Bostonhsg\\\\__MACOSX\\\\boston\\\\._boston.shp',\n",
       " 'C:\\\\Users\\\\jeffe\\\\pysal_data\\\\Bostonhsg\\\\__MACOSX\\\\boston\\\\._boston.shx',\n",
       " 'C:\\\\Users\\\\jeffe\\\\pysal_data\\\\Bostonhsg\\\\__MACOSX\\\\boston\\\\._boston.txt',\n",
       " 'C:\\\\Users\\\\jeffe\\\\pysal_data\\\\Bostonhsg\\\\__MACOSX\\\\boston\\\\._boston_metadata.html',\n",
       " 'C:\\\\Users\\\\jeffe\\\\pysal_data\\\\Bostonhsg\\\\__MACOSX\\\\boston\\\\._style.css']"
      ]
     },
     "execution_count": 31,
     "metadata": {},
     "output_type": "execute_result"
    }
   ],
   "source": [
    "tampa1.get_file_list()"
   ]
  },
  {
   "cell_type": "code",
   "execution_count": 32,
   "metadata": {},
   "outputs": [],
   "source": [
    "import geopandas\n",
    "\n",
    "tampa_df = geopandas.read_file(tampa1.get_path('boston.shp'))\n",
    "\n"
   ]
  },
  {
   "cell_type": "code",
   "execution_count": 33,
   "metadata": {},
   "outputs": [
    {
     "data": {
      "text/html": [
       "<div>\n",
       "<style scoped>\n",
       "    .dataframe tbody tr th:only-of-type {\n",
       "        vertical-align: middle;\n",
       "    }\n",
       "\n",
       "    .dataframe tbody tr th {\n",
       "        vertical-align: top;\n",
       "    }\n",
       "\n",
       "    .dataframe thead th {\n",
       "        text-align: right;\n",
       "    }\n",
       "</style>\n",
       "<table border=\"1\" class=\"dataframe\">\n",
       "  <thead>\n",
       "    <tr style=\"text-align: right;\">\n",
       "      <th></th>\n",
       "      <th>ID</th>\n",
       "      <th>TOWN</th>\n",
       "      <th>TOWNNO</th>\n",
       "      <th>TRACT</th>\n",
       "      <th>LON</th>\n",
       "      <th>LAT</th>\n",
       "      <th>x</th>\n",
       "      <th>y</th>\n",
       "      <th>MEDV</th>\n",
       "      <th>CMEDV</th>\n",
       "      <th>...</th>\n",
       "      <th>NOX</th>\n",
       "      <th>RM</th>\n",
       "      <th>AGE</th>\n",
       "      <th>DIS</th>\n",
       "      <th>RAD</th>\n",
       "      <th>TAX</th>\n",
       "      <th>PTRATIO</th>\n",
       "      <th>B</th>\n",
       "      <th>LSTAT</th>\n",
       "      <th>geometry</th>\n",
       "    </tr>\n",
       "  </thead>\n",
       "  <tbody>\n",
       "    <tr>\n",
       "      <th>0</th>\n",
       "      <td>1.0</td>\n",
       "      <td>0.0</td>\n",
       "      <td>0.0</td>\n",
       "      <td>2011.0</td>\n",
       "      <td>-70.955</td>\n",
       "      <td>42.2550</td>\n",
       "      <td>338.73</td>\n",
       "      <td>4679.73</td>\n",
       "      <td>24.0</td>\n",
       "      <td>24.0</td>\n",
       "      <td>...</td>\n",
       "      <td>0.538</td>\n",
       "      <td>6.575</td>\n",
       "      <td>65.2</td>\n",
       "      <td>4.0900</td>\n",
       "      <td>1.0</td>\n",
       "      <td>296.0</td>\n",
       "      <td>15.3</td>\n",
       "      <td>396.90</td>\n",
       "      <td>4.98</td>\n",
       "      <td>POINT (338.730 4679.730)</td>\n",
       "    </tr>\n",
       "    <tr>\n",
       "      <th>1</th>\n",
       "      <td>2.0</td>\n",
       "      <td>0.0</td>\n",
       "      <td>1.0</td>\n",
       "      <td>2021.0</td>\n",
       "      <td>-70.950</td>\n",
       "      <td>42.2875</td>\n",
       "      <td>339.23</td>\n",
       "      <td>4683.33</td>\n",
       "      <td>21.6</td>\n",
       "      <td>21.6</td>\n",
       "      <td>...</td>\n",
       "      <td>0.469</td>\n",
       "      <td>6.421</td>\n",
       "      <td>78.9</td>\n",
       "      <td>4.9671</td>\n",
       "      <td>2.0</td>\n",
       "      <td>242.0</td>\n",
       "      <td>17.8</td>\n",
       "      <td>396.90</td>\n",
       "      <td>9.14</td>\n",
       "      <td>POINT (339.230 4683.330)</td>\n",
       "    </tr>\n",
       "    <tr>\n",
       "      <th>2</th>\n",
       "      <td>3.0</td>\n",
       "      <td>0.0</td>\n",
       "      <td>1.0</td>\n",
       "      <td>2022.0</td>\n",
       "      <td>-70.936</td>\n",
       "      <td>42.2830</td>\n",
       "      <td>340.37</td>\n",
       "      <td>4682.80</td>\n",
       "      <td>34.7</td>\n",
       "      <td>34.7</td>\n",
       "      <td>...</td>\n",
       "      <td>0.469</td>\n",
       "      <td>7.185</td>\n",
       "      <td>61.1</td>\n",
       "      <td>4.9671</td>\n",
       "      <td>2.0</td>\n",
       "      <td>242.0</td>\n",
       "      <td>17.8</td>\n",
       "      <td>392.83</td>\n",
       "      <td>4.03</td>\n",
       "      <td>POINT (340.370 4682.800)</td>\n",
       "    </tr>\n",
       "    <tr>\n",
       "      <th>3</th>\n",
       "      <td>4.0</td>\n",
       "      <td>0.0</td>\n",
       "      <td>2.0</td>\n",
       "      <td>2031.0</td>\n",
       "      <td>-70.928</td>\n",
       "      <td>42.2930</td>\n",
       "      <td>341.05</td>\n",
       "      <td>4683.89</td>\n",
       "      <td>33.4</td>\n",
       "      <td>33.4</td>\n",
       "      <td>...</td>\n",
       "      <td>0.458</td>\n",
       "      <td>6.998</td>\n",
       "      <td>45.8</td>\n",
       "      <td>6.0622</td>\n",
       "      <td>3.0</td>\n",
       "      <td>222.0</td>\n",
       "      <td>18.7</td>\n",
       "      <td>394.63</td>\n",
       "      <td>2.94</td>\n",
       "      <td>POINT (341.050 4683.890)</td>\n",
       "    </tr>\n",
       "    <tr>\n",
       "      <th>4</th>\n",
       "      <td>5.0</td>\n",
       "      <td>0.0</td>\n",
       "      <td>2.0</td>\n",
       "      <td>2032.0</td>\n",
       "      <td>-70.922</td>\n",
       "      <td>42.2980</td>\n",
       "      <td>341.56</td>\n",
       "      <td>4684.44</td>\n",
       "      <td>36.2</td>\n",
       "      <td>36.2</td>\n",
       "      <td>...</td>\n",
       "      <td>0.458</td>\n",
       "      <td>7.147</td>\n",
       "      <td>54.2</td>\n",
       "      <td>6.0622</td>\n",
       "      <td>3.0</td>\n",
       "      <td>222.0</td>\n",
       "      <td>18.7</td>\n",
       "      <td>396.90</td>\n",
       "      <td>5.33</td>\n",
       "      <td>POINT (341.560 4684.440)</td>\n",
       "    </tr>\n",
       "  </tbody>\n",
       "</table>\n",
       "<p>5 rows × 24 columns</p>\n",
       "</div>"
      ],
      "text/plain": [
       "    ID  TOWN  TOWNNO   TRACT     LON      LAT       x        y  MEDV  CMEDV  \\\n",
       "0  1.0   0.0     0.0  2011.0 -70.955  42.2550  338.73  4679.73  24.0   24.0   \n",
       "1  2.0   0.0     1.0  2021.0 -70.950  42.2875  339.23  4683.33  21.6   21.6   \n",
       "2  3.0   0.0     1.0  2022.0 -70.936  42.2830  340.37  4682.80  34.7   34.7   \n",
       "3  4.0   0.0     2.0  2031.0 -70.928  42.2930  341.05  4683.89  33.4   33.4   \n",
       "4  5.0   0.0     2.0  2032.0 -70.922  42.2980  341.56  4684.44  36.2   36.2   \n",
       "\n",
       "   ...    NOX     RM   AGE     DIS  RAD    TAX  PTRATIO       B  LSTAT  \\\n",
       "0  ...  0.538  6.575  65.2  4.0900  1.0  296.0     15.3  396.90   4.98   \n",
       "1  ...  0.469  6.421  78.9  4.9671  2.0  242.0     17.8  396.90   9.14   \n",
       "2  ...  0.469  7.185  61.1  4.9671  2.0  242.0     17.8  392.83   4.03   \n",
       "3  ...  0.458  6.998  45.8  6.0622  3.0  222.0     18.7  394.63   2.94   \n",
       "4  ...  0.458  7.147  54.2  6.0622  3.0  222.0     18.7  396.90   5.33   \n",
       "\n",
       "                   geometry  \n",
       "0  POINT (338.730 4679.730)  \n",
       "1  POINT (339.230 4683.330)  \n",
       "2  POINT (340.370 4682.800)  \n",
       "3  POINT (341.050 4683.890)  \n",
       "4  POINT (341.560 4684.440)  \n",
       "\n",
       "[5 rows x 24 columns]"
      ]
     },
     "execution_count": 33,
     "metadata": {},
     "output_type": "execute_result"
    }
   ],
   "source": [
    "tampa_df.head()"
   ]
  }
 ],
 "metadata": {
  "kernelspec": {
   "display_name": "Python 3",
   "language": "python",
   "name": "python3"
  },
  "language_info": {
   "codemirror_mode": {
    "name": "ipython",
    "version": 3
   },
   "file_extension": ".py",
   "mimetype": "text/x-python",
   "name": "python",
   "nbconvert_exporter": "python",
   "pygments_lexer": "ipython3",
   "version": "3.8.4"
  }
 },
 "nbformat": 4,
 "nbformat_minor": 4
}
