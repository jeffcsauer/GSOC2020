{
 "cells": [
  {
   "cell_type": "markdown",
   "metadata": {},
   "source": [
    "Scratch notebook of [issues raised on Github](https://github.com/jeffcsauer/GSOC2020)."
   ]
  },
  {
   "cell_type": "markdown",
   "metadata": {},
   "source": [
    "# [Issue 2](https://github.com/jeffcsauer/GSOC2020/issues/2)"
   ]
  },
  {
   "cell_type": "code",
   "execution_count": 30,
   "metadata": {},
   "outputs": [],
   "source": [
    "import libpysal\n",
    "import geopandas"
   ]
  },
  {
   "cell_type": "code",
   "execution_count": 31,
   "metadata": {},
   "outputs": [],
   "source": [
    "df = geopandas.read_file('https://github.com/jeffcsauer/GSOC2020/raw/master/validation/data/neighborhoods.gpkg')\n",
    "w = libpysal.weights.Rook.from_dataframe(df)"
   ]
  },
  {
   "cell_type": "code",
   "execution_count": 34,
   "metadata": {},
   "outputs": [
    {
     "data": {
      "text/plain": [
       "[3.0,\n",
       " 3.0,\n",
       " 5.0,\n",
       " 3.0,\n",
       " 5.0,\n",
       " 3.0,\n",
       " 5.0,\n",
       " 2.0,\n",
       " 5.0,\n",
       " 4.0,\n",
       " 5.0,\n",
       " 4.0,\n",
       " 5.0,\n",
       " 4.0,\n",
       " 5.0,\n",
       " 5.0,\n",
       " 4.0,\n",
       " 3.0,\n",
       " 4.0,\n",
       " 5.0,\n",
       " 2.0,\n",
       " 6.0,\n",
       " 6.0,\n",
       " 5.0,\n",
       " 8.0,\n",
       " 5.0,\n",
       " 4.0,\n",
       " 6.0,\n",
       " 3.0,\n",
       " 6.0,\n",
       " 5.0,\n",
       " 7.0,\n",
       " 4.0,\n",
       " 6.0,\n",
       " 5.0,\n",
       " 3.0,\n",
       " 5.0,\n",
       " 5.0,\n",
       " 5.0,\n",
       " 7.0,\n",
       " 3.0,\n",
       " 5.0,\n",
       " 2.0,\n",
       " 5.0]"
      ]
     },
     "execution_count": 34,
     "metadata": {},
     "output_type": "execute_result"
    }
   ],
   "source": [
    "# My solution\n",
    "import numpy as np\n",
    "Wrs = [round(np.sum(list(w[i].values()))) for i in range(len(df.hood_id))]\n",
    "Wrs"
   ]
  },
  {
   "cell_type": "code",
   "execution_count": 38,
   "metadata": {},
   "outputs": [
    {
     "data": {
      "text/plain": [
       "array([3., 3., 5., 3., 5., 3., 5., 2., 5., 4., 5., 4., 5., 4., 5., 5., 4.,\n",
       "       3., 4., 5., 2., 6., 6., 5., 8., 5., 4., 6., 3., 6., 5., 7., 4., 6.,\n",
       "       5., 3., 5., 5., 5., 7., 3., 5., 2., 5.])"
      ]
     },
     "execution_count": 38,
     "metadata": {},
     "output_type": "execute_result"
    }
   ],
   "source": [
    "# Levi's suggestion\n",
    "row_sums = np.asarray(w.sparse.sum(axis=1)).flatten()\n",
    "row_sums"
   ]
  },
  {
   "cell_type": "markdown",
   "metadata": {},
   "source": [
    "A terrific suggestion and much more elegant!"
   ]
  },
  {
   "cell_type": "markdown",
   "metadata": {},
   "source": [
    "# [Issue 3](https://github.com/jeffcsauer/GSOC2020/issues/3)"
   ]
  },
  {
   "cell_type": "code",
   "execution_count": 30,
   "metadata": {},
   "outputs": [],
   "source": [
    "import libpysal\n",
    "import geopandas\n",
    "import numpy as np\n",
    "df = geopandas.read_file('https://github.com/jeffcsauer/GSOC2020/raw/master/validation/data/neighborhoods.gpkg')\n",
    "w = libpysal.weights.Rook.from_dataframe(df)"
   ]
  },
  {
   "cell_type": "code",
   "execution_count": 31,
   "metadata": {},
   "outputs": [
    {
     "data": {
      "text/plain": [
       "{25: 1.0, 3: 1.0, 21: 1.0}"
      ]
     },
     "execution_count": 31,
     "metadata": {},
     "output_type": "execute_result"
    }
   ],
   "source": [
    "w[0]"
   ]
  },
  {
   "cell_type": "code",
   "execution_count": 32,
   "metadata": {},
   "outputs": [
    {
     "data": {
      "text/plain": [
       "matrix([[14.],\n",
       "        [14.],\n",
       "        [21.],\n",
       "        [13.],\n",
       "        [31.],\n",
       "        [14.],\n",
       "        [27.],\n",
       "        [12.],\n",
       "        [23.],\n",
       "        [14.],\n",
       "        [28.],\n",
       "        [16.],\n",
       "        [22.],\n",
       "        [21.],\n",
       "        [21.],\n",
       "        [23.],\n",
       "        [16.],\n",
       "        [13.],\n",
       "        [22.],\n",
       "        [32.],\n",
       "        [ 8.],\n",
       "        [27.],\n",
       "        [32.],\n",
       "        [29.],\n",
       "        [44.],\n",
       "        [22.],\n",
       "        [16.],\n",
       "        [28.],\n",
       "        [12.],\n",
       "        [33.],\n",
       "        [22.],\n",
       "        [34.],\n",
       "        [20.],\n",
       "        [37.],\n",
       "        [27.],\n",
       "        [16.],\n",
       "        [29.],\n",
       "        [21.],\n",
       "        [26.],\n",
       "        [37.],\n",
       "        [14.],\n",
       "        [22.],\n",
       "        [10.],\n",
       "        [25.]])"
      ]
     },
     "execution_count": 32,
     "metadata": {},
     "output_type": "execute_result"
    }
   ],
   "source": [
    "# Levi's solution\n",
    "(w.sparse**2).sum(axis=1)"
   ]
  },
  {
   "cell_type": "code",
   "execution_count": 33,
   "metadata": {},
   "outputs": [
    {
     "data": {
      "text/plain": [
       "[3.0,\n",
       " 3.0,\n",
       " 5.0,\n",
       " 3.0,\n",
       " 5.0,\n",
       " 3.0,\n",
       " 5.0,\n",
       " 2.0,\n",
       " 5.0,\n",
       " 4.0,\n",
       " 5.0,\n",
       " 4.0,\n",
       " 5.0,\n",
       " 4.0,\n",
       " 5.0,\n",
       " 5.0,\n",
       " 4.0,\n",
       " 3.0,\n",
       " 4.0,\n",
       " 5.0,\n",
       " 2.0,\n",
       " 6.0,\n",
       " 6.0,\n",
       " 5.0,\n",
       " 8.0,\n",
       " 5.0,\n",
       " 4.0,\n",
       " 6.0,\n",
       " 3.0,\n",
       " 6.0,\n",
       " 5.0,\n",
       " 7.0,\n",
       " 4.0,\n",
       " 6.0,\n",
       " 5.0,\n",
       " 3.0,\n",
       " 5.0,\n",
       " 5.0,\n",
       " 5.0,\n",
       " 7.0,\n",
       " 3.0,\n",
       " 5.0,\n",
       " 2.0,\n",
       " 5.0]"
      ]
     },
     "execution_count": 33,
     "metadata": {},
     "output_type": "execute_result"
    }
   ],
   "source": [
    "[np.sum(np.array(list(w[i].values()))**2) for i in w.id_order]"
   ]
  },
  {
   "cell_type": "markdown",
   "metadata": {},
   "source": [
    "Row standardize the weights."
   ]
  },
  {
   "cell_type": "code",
   "execution_count": 34,
   "metadata": {},
   "outputs": [
    {
     "data": {
      "text/plain": [
       "{25: 0.3333333333333333, 3: 0.3333333333333333, 21: 0.3333333333333333}"
      ]
     },
     "execution_count": 34,
     "metadata": {},
     "output_type": "execute_result"
    }
   ],
   "source": [
    "w.transform = 'r'\n",
    "w[0]"
   ]
  },
  {
   "cell_type": "code",
   "execution_count": 38,
   "metadata": {},
   "outputs": [
    {
     "name": "stdout",
     "output_type": "stream",
     "text": [
      "[[1.]\n",
      " [1.]\n",
      " [1.]\n",
      " [1.]\n",
      " [1.]\n",
      " [1.]\n",
      " [1.]\n",
      " [1.]\n",
      " [1.]\n",
      " [1.]\n",
      " [1.]\n",
      " [1.]\n",
      " [1.]\n",
      " [1.]\n",
      " [1.]\n",
      " [1.]\n",
      " [1.]\n",
      " [1.]\n",
      " [1.]\n",
      " [1.]\n",
      " [1.]\n",
      " [1.]\n",
      " [1.]\n",
      " [1.]\n",
      " [1.]\n",
      " [1.]\n",
      " [1.]\n",
      " [1.]\n",
      " [1.]\n",
      " [1.]\n",
      " [1.]\n",
      " [1.]\n",
      " [1.]\n",
      " [1.]\n",
      " [1.]\n",
      " [1.]\n",
      " [1.]\n",
      " [1.]\n",
      " [1.]\n",
      " [1.]\n",
      " [1.]\n",
      " [1.]\n",
      " [1.]\n",
      " [1.]]\n"
     ]
    }
   ],
   "source": [
    "# Levi's solution\n",
    "print((w.sparse**2).sum(axis=1))"
   ]
  },
  {
   "cell_type": "code",
   "execution_count": 37,
   "metadata": {},
   "outputs": [
    {
     "name": "stdout",
     "output_type": "stream",
     "text": [
      "[0.3333333333333333, 0.3333333333333333, 0.20000000000000004, 0.3333333333333333, 0.20000000000000004, 0.3333333333333333, 0.20000000000000004, 0.5, 0.20000000000000004, 0.25, 0.20000000000000004, 0.25, 0.20000000000000004, 0.25, 0.20000000000000004, 0.20000000000000004, 0.25, 0.3333333333333333, 0.25, 0.20000000000000004, 0.5, 0.16666666666666669, 0.16666666666666669, 0.20000000000000004, 0.125, 0.20000000000000004, 0.25, 0.16666666666666669, 0.3333333333333333, 0.16666666666666669, 0.20000000000000004, 0.14285714285714285, 0.25, 0.16666666666666669, 0.20000000000000004, 0.3333333333333333, 0.20000000000000004, 0.20000000000000004, 0.20000000000000004, 0.14285714285714285, 0.3333333333333333, 0.20000000000000004, 0.5, 0.20000000000000004]\n"
     ]
    }
   ],
   "source": [
    "print([np.sum(np.array(list(w[i].values()))**2) for i in w.id_order])"
   ]
  },
  {
   "cell_type": "markdown",
   "metadata": {},
   "source": [
    "# ESDA Issue #86"
   ]
  },
  {
   "cell_type": "code",
   "execution_count": 31,
   "metadata": {},
   "outputs": [
    {
     "ename": "ValueError",
     "evalue": "dimension mismatch",
     "output_type": "error",
     "traceback": [
      "\u001b[1;31m---------------------------------------------------------------------------\u001b[0m",
      "\u001b[1;31mValueError\u001b[0m                                Traceback (most recent call last)",
      "\u001b[1;32m<ipython-input-31-7c3aa93ea3ad>\u001b[0m in \u001b[0;36m<module>\u001b[1;34m\u001b[0m\n\u001b[0;32m     11\u001b[0m \u001b[0mdata\u001b[0m \u001b[1;33m=\u001b[0m \u001b[1;33m[\u001b[0m\u001b[1;36m2\u001b[0m\u001b[1;33m,\u001b[0m\u001b[1;36m3\u001b[0m\u001b[1;33m]\u001b[0m\u001b[1;33m\u001b[0m\u001b[1;33m\u001b[0m\u001b[0m\n\u001b[0;32m     12\u001b[0m \u001b[1;33m\u001b[0m\u001b[0m\n\u001b[1;32m---> 13\u001b[1;33m \u001b[0mesda\u001b[0m\u001b[1;33m.\u001b[0m\u001b[0mMoran_Local\u001b[0m\u001b[1;33m(\u001b[0m\u001b[0mdata\u001b[0m\u001b[1;33m,\u001b[0m \u001b[0mw\u001b[0m\u001b[1;33m)\u001b[0m\u001b[1;33m\u001b[0m\u001b[1;33m\u001b[0m\u001b[0m\n\u001b[0m",
      "\u001b[1;32m~\\AppData\\Local\\Programs\\Python\\Python38-32\\lib\\site-packages\\esda\\moran.py\u001b[0m in \u001b[0;36m__init__\u001b[1;34m(self, y, w, transformation, permutations, geoda_quads)\u001b[0m\n\u001b[0;32m    865\u001b[0m         \u001b[0mself\u001b[0m\u001b[1;33m.\u001b[0m\u001b[0mpermutations\u001b[0m \u001b[1;33m=\u001b[0m \u001b[0mpermutations\u001b[0m\u001b[1;33m\u001b[0m\u001b[1;33m\u001b[0m\u001b[0m\n\u001b[0;32m    866\u001b[0m         \u001b[0mself\u001b[0m\u001b[1;33m.\u001b[0m\u001b[0mden\u001b[0m \u001b[1;33m=\u001b[0m \u001b[1;33m(\u001b[0m\u001b[0mz\u001b[0m \u001b[1;33m*\u001b[0m \u001b[0mz\u001b[0m\u001b[1;33m)\u001b[0m\u001b[1;33m.\u001b[0m\u001b[0msum\u001b[0m\u001b[1;33m(\u001b[0m\u001b[1;33m)\u001b[0m\u001b[1;33m\u001b[0m\u001b[1;33m\u001b[0m\u001b[0m\n\u001b[1;32m--> 867\u001b[1;33m         \u001b[0mself\u001b[0m\u001b[1;33m.\u001b[0m\u001b[0mIs\u001b[0m \u001b[1;33m=\u001b[0m \u001b[0mself\u001b[0m\u001b[1;33m.\u001b[0m\u001b[0mcalc\u001b[0m\u001b[1;33m(\u001b[0m\u001b[0mself\u001b[0m\u001b[1;33m.\u001b[0m\u001b[0mw\u001b[0m\u001b[1;33m,\u001b[0m \u001b[0mself\u001b[0m\u001b[1;33m.\u001b[0m\u001b[0mz\u001b[0m\u001b[1;33m)\u001b[0m\u001b[1;33m\u001b[0m\u001b[1;33m\u001b[0m\u001b[0m\n\u001b[0m\u001b[0;32m    868\u001b[0m         \u001b[0mself\u001b[0m\u001b[1;33m.\u001b[0m\u001b[0mgeoda_quads\u001b[0m \u001b[1;33m=\u001b[0m \u001b[0mgeoda_quads\u001b[0m\u001b[1;33m\u001b[0m\u001b[1;33m\u001b[0m\u001b[0m\n\u001b[0;32m    869\u001b[0m         \u001b[0mquads\u001b[0m \u001b[1;33m=\u001b[0m \u001b[1;33m[\u001b[0m\u001b[1;36m1\u001b[0m\u001b[1;33m,\u001b[0m \u001b[1;36m2\u001b[0m\u001b[1;33m,\u001b[0m \u001b[1;36m3\u001b[0m\u001b[1;33m,\u001b[0m \u001b[1;36m4\u001b[0m\u001b[1;33m]\u001b[0m\u001b[1;33m\u001b[0m\u001b[1;33m\u001b[0m\u001b[0m\n",
      "\u001b[1;32m~\\AppData\\Local\\Programs\\Python\\Python38-32\\lib\\site-packages\\esda\\moran.py\u001b[0m in \u001b[0;36mcalc\u001b[1;34m(self, w, z)\u001b[0m\n\u001b[0;32m    888\u001b[0m \u001b[1;33m\u001b[0m\u001b[0m\n\u001b[0;32m    889\u001b[0m     \u001b[1;32mdef\u001b[0m \u001b[0mcalc\u001b[0m\u001b[1;33m(\u001b[0m\u001b[0mself\u001b[0m\u001b[1;33m,\u001b[0m \u001b[0mw\u001b[0m\u001b[1;33m,\u001b[0m \u001b[0mz\u001b[0m\u001b[1;33m)\u001b[0m\u001b[1;33m:\u001b[0m\u001b[1;33m\u001b[0m\u001b[1;33m\u001b[0m\u001b[0m\n\u001b[1;32m--> 890\u001b[1;33m         \u001b[0mzl\u001b[0m \u001b[1;33m=\u001b[0m \u001b[0mslag\u001b[0m\u001b[1;33m(\u001b[0m\u001b[0mw\u001b[0m\u001b[1;33m,\u001b[0m \u001b[0mz\u001b[0m\u001b[1;33m)\u001b[0m\u001b[1;33m\u001b[0m\u001b[1;33m\u001b[0m\u001b[0m\n\u001b[0m\u001b[0;32m    891\u001b[0m         \u001b[1;32mreturn\u001b[0m \u001b[0mself\u001b[0m\u001b[1;33m.\u001b[0m\u001b[0mn_1\u001b[0m \u001b[1;33m*\u001b[0m \u001b[0mself\u001b[0m\u001b[1;33m.\u001b[0m\u001b[0mz\u001b[0m \u001b[1;33m*\u001b[0m \u001b[0mzl\u001b[0m \u001b[1;33m/\u001b[0m \u001b[0mself\u001b[0m\u001b[1;33m.\u001b[0m\u001b[0mden\u001b[0m\u001b[1;33m\u001b[0m\u001b[1;33m\u001b[0m\u001b[0m\n\u001b[0;32m    892\u001b[0m \u001b[1;33m\u001b[0m\u001b[0m\n",
      "\u001b[1;32m~\\AppData\\Local\\Programs\\Python\\Python38-32\\lib\\site-packages\\libpysal\\weights\\spatial_lag.py\u001b[0m in \u001b[0;36mlag_spatial\u001b[1;34m(w, y)\u001b[0m\n\u001b[0;32m     85\u001b[0m \u001b[1;33m\u001b[0m\u001b[0m\n\u001b[0;32m     86\u001b[0m     \"\"\"\n\u001b[1;32m---> 87\u001b[1;33m     \u001b[1;32mreturn\u001b[0m \u001b[0mw\u001b[0m\u001b[1;33m.\u001b[0m\u001b[0msparse\u001b[0m \u001b[1;33m*\u001b[0m \u001b[0my\u001b[0m\u001b[1;33m\u001b[0m\u001b[1;33m\u001b[0m\u001b[0m\n\u001b[0m\u001b[0;32m     88\u001b[0m \u001b[1;33m\u001b[0m\u001b[0m\n\u001b[0;32m     89\u001b[0m \u001b[1;33m\u001b[0m\u001b[0m\n",
      "\u001b[1;32m~\\AppData\\Local\\Programs\\Python\\Python38-32\\lib\\site-packages\\scipy\\sparse\\base.py\u001b[0m in \u001b[0;36m__mul__\u001b[1;34m(self, other)\u001b[0m\n\u001b[0;32m    500\u001b[0m             \u001b[1;31m# dense row or column vector\u001b[0m\u001b[1;33m\u001b[0m\u001b[1;33m\u001b[0m\u001b[1;33m\u001b[0m\u001b[0m\n\u001b[0;32m    501\u001b[0m             \u001b[1;32mif\u001b[0m \u001b[0mother\u001b[0m\u001b[1;33m.\u001b[0m\u001b[0mshape\u001b[0m \u001b[1;33m!=\u001b[0m \u001b[1;33m(\u001b[0m\u001b[0mN\u001b[0m\u001b[1;33m,\u001b[0m\u001b[1;33m)\u001b[0m \u001b[1;32mand\u001b[0m \u001b[0mother\u001b[0m\u001b[1;33m.\u001b[0m\u001b[0mshape\u001b[0m \u001b[1;33m!=\u001b[0m \u001b[1;33m(\u001b[0m\u001b[0mN\u001b[0m\u001b[1;33m,\u001b[0m \u001b[1;36m1\u001b[0m\u001b[1;33m)\u001b[0m\u001b[1;33m:\u001b[0m\u001b[1;33m\u001b[0m\u001b[1;33m\u001b[0m\u001b[0m\n\u001b[1;32m--> 502\u001b[1;33m                 \u001b[1;32mraise\u001b[0m \u001b[0mValueError\u001b[0m\u001b[1;33m(\u001b[0m\u001b[1;34m'dimension mismatch'\u001b[0m\u001b[1;33m)\u001b[0m\u001b[1;33m\u001b[0m\u001b[1;33m\u001b[0m\u001b[0m\n\u001b[0m\u001b[0;32m    503\u001b[0m \u001b[1;33m\u001b[0m\u001b[0m\n\u001b[0;32m    504\u001b[0m             \u001b[0mresult\u001b[0m \u001b[1;33m=\u001b[0m \u001b[0mself\u001b[0m\u001b[1;33m.\u001b[0m\u001b[0m_mul_vector\u001b[0m\u001b[1;33m(\u001b[0m\u001b[0mnp\u001b[0m\u001b[1;33m.\u001b[0m\u001b[0mravel\u001b[0m\u001b[1;33m(\u001b[0m\u001b[0mother\u001b[0m\u001b[1;33m)\u001b[0m\u001b[1;33m)\u001b[0m\u001b[1;33m\u001b[0m\u001b[1;33m\u001b[0m\u001b[0m\n",
      "\u001b[1;31mValueError\u001b[0m: dimension mismatch"
     ]
    }
   ],
   "source": [
    "from pysal.lib import weights\n",
    "from pysal.explore import esda\n",
    "from scipy import sparse\n",
    "\n",
    "adjacency = sparse.csc_matrix([[1,1,0],\n",
    "                               [1,1,1],\n",
    "                               [0,1,1]])\n",
    "\n",
    "w = weights.WSP(adjacency).to_W()\n",
    "\n",
    "data = [1,2,3]\n",
    "\n",
    "esda.Moran_Local(data, w)"
   ]
  },
  {
   "cell_type": "markdown",
   "metadata": {},
   "source": [
    "# Local Gamma\n"
   ]
  },
  {
   "cell_type": "code",
   "execution_count": 33,
   "metadata": {},
   "outputs": [],
   "source": [
    "\"\"\"\n",
    "Gamma index for spatial autocorrelation\n",
    "\n",
    "\n",
    "\"\"\"\n",
    "__author__ = \"Luc Anselin <luc.anselin@asu.edu> Serge Rey <sjsrey@gmail.com>\"\n",
    "\n",
    "import numpy as np\n",
    "from libpysal.weights.spatial_lag import lag_spatial\n",
    "import warnings\n",
    "\n",
    "__all__ = ['Gamma']\n",
    "\n",
    "PERMUTATIONS = 999\n",
    "\n",
    "\n",
    "class Gamma(object):\n",
    "    \"\"\"Gamma index for spatial autocorrelation\n",
    "\n",
    "\n",
    "    Parameters\n",
    "    ----------\n",
    "\n",
    "    y               : array\n",
    "                      variable measured across n spatial units\n",
    "    w               : W\n",
    "                      spatial weights instance\n",
    "                      can be binary or row-standardized\n",
    "    operation       : {'c', 's', 'a'}\n",
    "                      attribute similarity function where,\n",
    "                      'c' cross product\n",
    "                      's' squared difference\n",
    "                      'a' absolute difference\n",
    "    standardize     : {False, True}\n",
    "                      standardize variables first\n",
    "                      False, keep as is\n",
    "                      True, standardize to mean zero and variance one\n",
    "    permutations    : int\n",
    "                      number of random permutations for calculation of pseudo-p_values\n",
    "\n",
    "    Attributes\n",
    "    ----------\n",
    "    y            : array\n",
    "                   original variable\n",
    "    w            : W\n",
    "                   original w object\n",
    "    op           : {'c', 's', 'a'}\n",
    "                   attribute similarity function, as per parameters\n",
    "                   attribute similarity function\n",
    "    stand        : {False, True}\n",
    "                   standardization\n",
    "    permutations : int\n",
    "                   number of permutations\n",
    "    gamma        : float\n",
    "                   value of Gamma index\n",
    "    sim_g        : array\n",
    "                   (if permutations>0)\n",
    "                   vector of Gamma index values for permuted samples\n",
    "    p_sim_g      : array\n",
    "                   (if permutations>0)\n",
    "                   p-value based on permutations (one-sided)\n",
    "                   null: spatial randomness\n",
    "                   alternative: the observed Gamma is more extreme than under randomness\n",
    "                   implemented as a two-sided test\n",
    "    mean_g       : float\n",
    "                   average of permuted Gamma values\n",
    "    min_g        : float\n",
    "                   minimum of permuted Gamma values\n",
    "    max_g        : float\n",
    "                   maximum of permuted Gamma values\n",
    "\n",
    "\n",
    "    Examples\n",
    "    --------\n",
    "\n",
    "    use same example as for join counts to show similarity\n",
    "\n",
    "    >>> import libpysal, numpy as np\n",
    "    >>> from esda.gamma import Gamma\n",
    "    >>> w = libpysal.weights.lat2W(4,4)\n",
    "    >>> y=np.ones(16)\n",
    "    >>> y[0:8]=0\n",
    "    >>> np.random.seed(12345)\n",
    "    >>> g = Gamma(y,w)\n",
    "    >>> g.g\n",
    "    20.0\n",
    "    >>> round(g.g_z, 3)\n",
    "    3.188\n",
    "    >>> round(g.p_sim_g, 3)\n",
    "    0.003\n",
    "    >>> g.min_g\n",
    "    0.0\n",
    "    >>> g.max_g\n",
    "    20.0\n",
    "    >>> g.mean_g\n",
    "    11.093093093093094\n",
    "    >>> np.random.seed(12345)\n",
    "    >>> g1 = Gamma(y,w,operation='s')\n",
    "    >>> g1.g\n",
    "    8.0\n",
    "    >>> round(g1.g_z, 3)\n",
    "    -3.706\n",
    "    >>> g1.p_sim_g\n",
    "    0.001\n",
    "    >>> g1.min_g\n",
    "    14.0\n",
    "    >>> g1.max_g\n",
    "    48.0\n",
    "    >>> g1.mean_g\n",
    "    25.623623623623622\n",
    "    >>> np.random.seed(12345)\n",
    "    >>> g2 = Gamma(y,w,operation='a')\n",
    "    >>> g2.g\n",
    "    8.0\n",
    "    >>> round(g2.g_z, 3)\n",
    "    -3.706\n",
    "    >>> g2.p_sim_g\n",
    "    0.001\n",
    "    >>> g2.min_g\n",
    "    14.0\n",
    "    >>> g2.max_g\n",
    "    48.0\n",
    "    >>> g2.mean_g\n",
    "    25.623623623623622\n",
    "    >>> np.random.seed(12345)\n",
    "    >>> g3 = Gamma(y,w,standardize=True)\n",
    "    >>> g3.g\n",
    "    32.0\n",
    "    >>> round(g3.g_z, 3)\n",
    "    3.706\n",
    "    >>> g3.p_sim_g\n",
    "    0.001\n",
    "    >>> g3.min_g\n",
    "    -48.0\n",
    "    >>> g3.max_g\n",
    "    20.0\n",
    "    >>> g3.mean_g\n",
    "    -3.2472472472472473\n",
    "    >>> np.random.seed(12345)\n",
    "    >>> def func(z,i,j):\n",
    "    ...     q = z[i]*z[j]\n",
    "    ...     return q\n",
    "    ...\n",
    "    >>> g4 = Gamma(y,w,operation=func)\n",
    "    >>> g4.g\n",
    "    20.0\n",
    "    >>> round(g4.g_z, 3)\n",
    "    3.188\n",
    "    >>> round(g4.p_sim_g, 3)\n",
    "    0.003\n",
    "\n",
    "    Notes\n",
    "    -----\n",
    "\n",
    "    For further technical details see :cite:`Hubert_1981`.\n",
    "\n",
    "\n",
    "\n",
    "    \"\"\"\n",
    "    def __init__(self, y, w, operation='c', standardize=False, permutations=PERMUTATIONS):\n",
    "        if isinstance(standardize, str):\n",
    "            standardize = standardize.lower() == 'yes'\n",
    "            warnings.warn('Use True/False for standardize. The option to'\n",
    "                          ' provide \"yes\"/\"no\" will be deprecated in PySAL 2.2.' )\n",
    "        y = np.asarray(y).flatten()\n",
    "        self.w = w\n",
    "        self.y = y\n",
    "        self.op = operation\n",
    "        self.stand = standardize\n",
    "        self.permutations = permutations\n",
    "        if self.stand:\n",
    "            ym = np.mean(self.y)\n",
    "            ysd = np.std(self.y)\n",
    "            ys = (self.y - ym) / ysd\n",
    "            self.y = ys\n",
    "        self.g = self.__calc(self.y, self.op)\n",
    "\n",
    "        if permutations:\n",
    "            sim = [self.__calc(np.random.permutation(self.y), self.op)\n",
    "                   for i in range(permutations)]\n",
    "            self.sim_g = np.array(sim)\n",
    "            self.min_g = np.min(self.sim_g)\n",
    "            self.mean_g = np.mean(self.sim_g)\n",
    "            self.max_g = np.max(self.sim_g)\n",
    "            p_sim_g = self.__pseudop(self.sim_g, self.g)\n",
    "            self.p_sim_g = p_sim_g\n",
    "            self.g_z = (self.g - self.mean_g) / np.std(self.sim_g)\n",
    "\n",
    "    @property\n",
    "    def _statistic(self):\n",
    "        return self.g\n",
    "\n",
    "    @property\n",
    "    def  p_sim(self):\n",
    "        \"\"\"new name to fit with Moran module\"\"\"\n",
    "        return self.p_sim_g\n",
    "\n",
    "    def __calc(self, z, op):\n",
    "        if op == 'c':     # cross-product\n",
    "            zl = lag_spatial(self.w, z)\n",
    "            g = (z * zl).sum()\n",
    "        elif op == 's':   # squared difference\n",
    "            zs = np.zeros(z.shape)\n",
    "            z2 = z ** 2\n",
    "            for i, i0 in enumerate(self.w.id_order):\n",
    "                neighbors = self.w.neighbor_offsets[i0]\n",
    "                wijs = self.w.weights[i0]\n",
    "                zw = list(zip(neighbors, wijs))\n",
    "                zs[i] = sum([wij * (z2[i] - 2.0 * z[i] * z[\n",
    "                    j] + z2[j]) for j, wij in zw])\n",
    "            g = zs.sum()\n",
    "        elif op == 'a':    # absolute difference\n",
    "            zs = np.zeros(z.shape)\n",
    "            for i, i0 in enumerate(self.w.id_order):\n",
    "                neighbors = self.w.neighbor_offsets[i0]\n",
    "                wijs = self.w.weights[i0]\n",
    "                zw = list(zip(neighbors, wijs))\n",
    "                zs[i] = sum([wij * abs(z[i] - z[j]) for j, wij in zw])\n",
    "            g = zs.sum()\n",
    "        else:              # any previously defined function op\n",
    "            zs = np.zeros(z.shape)\n",
    "            for i, i0 in enumerate(self.w.id_order):\n",
    "                neighbors = self.w.neighbor_offsets[i0]\n",
    "                wijs = self.w.weights[i0]\n",
    "                zw = list(zip(neighbors, wijs))\n",
    "                zs[i] = sum([wij * op(z, i, j) for j, wij in zw])\n",
    "            g = zs.sum()\n",
    "        return g\n",
    "\n",
    "    def __pseudop(self, sim, g):\n",
    "        above = sim >= g\n",
    "        larger = above.sum()\n",
    "        psim = (larger + 1.) / (self.permutations + 1.)\n",
    "        if psim > 0.5:\n",
    "            psim = (self.permutations - larger + 1.) / (self.permutations + 1.)\n",
    "        return psim"
   ]
  },
  {
   "cell_type": "code",
   "execution_count": 34,
   "metadata": {},
   "outputs": [
    {
     "data": {
      "text/plain": [
       "20.0"
      ]
     },
     "execution_count": 34,
     "metadata": {},
     "output_type": "execute_result"
    }
   ],
   "source": [
    "import libpysal, numpy as np\n",
    "from esda.gamma import Gamma\n",
    "w = libpysal.weights.lat2W(4,4)\n",
    "y=np.ones(16)\n",
    "y[0:8]=0\n",
    "np.random.seed(12345)\n",
    "g = Gamma(y,w)\n",
    "g.g"
   ]
  },
  {
   "cell_type": "markdown",
   "metadata": {},
   "source": [
    "Local statistic for each unit should sum to 20."
   ]
  },
  {
   "cell_type": "code",
   "execution_count": 196,
   "metadata": {},
   "outputs": [],
   "source": [
    "\"\"\"\n",
    "Local gamma index for spatial autocorrelation\n",
    "\n",
    "\n",
    "\"\"\"\n",
    "__author__ = \"Luc Anselin <luc.anselin@asu.edu> Serge Rey <sjsrey@gmail.com>\"\n",
    "\n",
    "import numpy as np\n",
    "from libpysal.weights.spatial_lag import lag_spatial\n",
    "import warnings\n",
    "\n",
    "__all__ = ['Local_Gamma']\n",
    "\n",
    "PERMUTATIONS = 999\n",
    "\n",
    "\n",
    "class Local_Gamma(object):\n",
    "    \"\"\"Local Gamma index for spatial autocorrelation\n",
    "\n",
    "\n",
    "    Parameters\n",
    "    ----------\n",
    "\n",
    "    y               : array\n",
    "                      variable measured across n spatial units\n",
    "    w               : W\n",
    "                      spatial weights instance\n",
    "                      can be binary or row-standardized\n",
    "    operation       : {'c', 's', 'a'}\n",
    "                      attribute similarity function where,\n",
    "                      'c' cross product\n",
    "                      's' squared difference\n",
    "                      'a' absolute difference\n",
    "    standardize     : {False, True}\n",
    "                      standardize variables first\n",
    "                      False, keep as is\n",
    "                      True, standardize to mean zero and variance one\n",
    "    permutations    : int\n",
    "                      number of random permutations for calculation of pseudo-p_values\n",
    "\n",
    "    Attributes\n",
    "    ----------\n",
    "    y            : array\n",
    "                   original variable\n",
    "    w            : W\n",
    "                   original w object\n",
    "    op           : {'c', 's', 'a'}\n",
    "                   attribute similarity function, as per parameters\n",
    "                   attribute similarity function\n",
    "    stand        : {False, True}\n",
    "                   standardization\n",
    "    permutations : int\n",
    "                   number of permutations\n",
    "    gamma        : float\n",
    "                   value of Gamma index\n",
    "    sim_g        : array\n",
    "                   (if permutations>0)\n",
    "                   vector of Gamma index values for permuted samples\n",
    "    p_sim_g      : array\n",
    "                   (if permutations>0)\n",
    "                   p-value based on permutations (one-sided)\n",
    "                   null: spatial randomness\n",
    "                   alternative: the observed Gamma is more extreme than under randomness\n",
    "                   implemented as a two-sided test\n",
    "    mean_g       : float\n",
    "                   average of permuted Gamma values\n",
    "    min_g        : float\n",
    "                   minimum of permuted Gamma values\n",
    "    max_g        : float\n",
    "                   maximum of permuted Gamma values\n",
    "\n",
    "    \"\"\"\n",
    "    def __init__(self, y, w, operation='c', standardize=False, permutations=PERMUTATIONS):\n",
    "        if isinstance(standardize, str):\n",
    "            standardize = standardize.lower() == 'yes'\n",
    "            warnings.warn('Use True/False for standardize. The option to'\n",
    "                          ' provide \"yes\"/\"no\" will be deprecated in PySAL 2.2.' )\n",
    "        y = np.asarray(y).flatten()\n",
    "        self.w = w\n",
    "        self.y = y\n",
    "        self.n = len(y)\n",
    "        self.op = operation\n",
    "        self.stand = standardize\n",
    "        self.permutations = permutations\n",
    "        if self.stand:\n",
    "            ym = np.mean(self.y)\n",
    "            ysd = np.std(self.y)\n",
    "            ys = (self.y - ym) / ysd\n",
    "            self.y = ys\n",
    "        self.g = self.__calc(self.y, self.op)\n",
    "\n",
    "        if permutations:\n",
    "            #self.__crand()\n",
    "            #sim = np.transpose(localgs)\n",
    "            #above = sim >= self.g\n",
    "            #larger = above.sum(0)\n",
    "            #low_extreme = (self.permutations - larger) < larger\n",
    "            #larger[low_extreme] = self.permutations - larger[low_extreme]\n",
    "            #self.p_sim = (larger + 1.0) / (permutations + 1.0)\n",
    "            # OLD\n",
    "            #sim = [self.__calc(np.random.permutation(self.y), self.op)\n",
    "            #       for i in range(permutations)]\n",
    "            #self.sim_g = np.array(sim)\n",
    "            #self.min_g = np.min(self.sim_g)\n",
    "            #self.mean_g = np.mean(self.sim_g)\n",
    "            #self.max_g = np.max(self.sim_g)\n",
    "            #p_sim_g = self.__pseudop(self.sim_g, self.g)\n",
    "            #self.p_sim_g = p_sim_g\n",
    "            #self.g_z = (self.g - self.mean_g) / np.std(self.sim_g)\n",
    "\n",
    "    @property\n",
    "    def _statistic(self):\n",
    "        return self.g\n",
    "\n",
    "    @property\n",
    "    def  p_sim(self):\n",
    "        \"\"\"new name to fit with Moran module\"\"\"\n",
    "        return self.p_sim_g\n",
    "\n",
    "    def __calc(self, z, op):\n",
    "        if op == 'c':     # cross-product\n",
    "            zl = lag_spatial(self.w, z)\n",
    "            # Remove the suffix .sum()\n",
    "            g = z * zl\n",
    "        elif op == 's':   # squared difference\n",
    "            zs = np.zeros(z.shape)\n",
    "            z2 = z ** 2\n",
    "            for i, i0 in enumerate(self.w.id_order):\n",
    "                neighbors = self.w.neighbor_offsets[i0]\n",
    "                wijs = self.w.weights[i0]\n",
    "                zw = list(zip(neighbors, wijs))\n",
    "                zs[i] = sum([wij * (z2[i] - 2.0 * z[i] * z[\n",
    "                    j] + z2[j]) for j, wij in zw])\n",
    "            # Removed the suffix .sum()    \n",
    "            g = zs\n",
    "        elif op == 'a':    # absolute difference\n",
    "            zs = np.zeros(z.shape)\n",
    "            for i, i0 in enumerate(self.w.id_order):\n",
    "                neighbors = self.w.neighbor_offsets[i0]\n",
    "                wijs = self.w.weights[i0]\n",
    "                zw = list(zip(neighbors, wijs))\n",
    "                zs[i] = sum([wij * abs(z[i] - z[j]) for j, wij in zw])\n",
    "            # Removed the suffix .sum()    \n",
    "            g = zs\n",
    "        else:              # any previously defined function op\n",
    "            zs = np.zeros(z.shape)\n",
    "            for i, i0 in enumerate(self.w.id_order):\n",
    "                neighbors = self.w.neighbor_offsets[i0]\n",
    "                wijs = self.w.weights[i0]\n",
    "                zw = list(zip(neighbors, wijs))\n",
    "                zs[i] = sum([wij * op(z, i, j) for j, wij in zw])\n",
    "            # Removed the suffix .sum()    \n",
    "            g = zs\n",
    "        return g\n",
    "\n",
    "    def __pseudop(self, sim, g):\n",
    "        above = sim >= g\n",
    "        larger = above.sum()\n",
    "        psim = (larger + 1.) / (self.permutations + 1.)\n",
    "        if psim > 0.5:\n",
    "            psim = (self.permutations - larger + 1.) / (self.permutations + 1.)\n",
    "        return psim\n",
    "    \n",
    "    def __crand(self):\n",
    "        \"\"\"\n",
    "        conditional randomization\n",
    "        for observation i with ni neighbors,  the candidate set cannot include\n",
    "        i (we don't want i being a neighbor of i). we have to sample without\n",
    "        replacement from a set of ids that doesn't include i. numpy doesn't\n",
    "        directly support sampling wo replacement and it is expensive to\n",
    "        implement this. instead we omit i from the original ids,  permute the\n",
    "        ids and take the first ni elements of the permuted ids as the\n",
    "        neighbors to i in each randomization.\n",
    "        \"\"\"\n",
    "        z = self.y\n",
    "        localgs = np.zeros((self.n, self.permutations))\n",
    "        n_1 = self.n - 1\n",
    "        prange = list(range(self.permutations))\n",
    "        k = self.w.max_neighbors + 1\n",
    "        nn = self.n - 1\n",
    "        rids = np.array([np.random.permutation(nn)[0:k] for i in prange])\n",
    "        ids = np.arange(self.w.n)\n",
    "        ido = self.w.id_order\n",
    "        w = [self.w.weights[ido[i]] for i in ids]\n",
    "        wc = [self.w.cardinalities[ido[i]] for i in ids]\n",
    "\n",
    "        for i in range(self.w.n):\n",
    "            idsi = ids[ids != i]\n",
    "            np.random.shuffle(idsi)\n",
    "            tmp_z = z[idsi[rids[:, 0:wc[i]]]]   \n",
    "            \n",
    "            if self.op == 'c':\n",
    "                print(\"Not yet implemented\")\n",
    "            elif self.op == 's':\n",
    "                print(\"Not yet implemented\")\n",
    "            elif self.op == 'a':\n",
    "                print(\"Not yet implemented\")\n",
    "            else:\n",
    "                print(\"Not yet implemented\")\n",
    "        self.localgs = localgs"
   ]
  },
  {
   "cell_type": "code",
   "execution_count": 190,
   "metadata": {},
   "outputs": [],
   "source": [
    "zl = lag_spatial(w, y)\n",
    "# Remove the suffix .sum()\n",
    "g = y * zl"
   ]
  },
  {
   "cell_type": "code",
   "execution_count": 191,
   "metadata": {},
   "outputs": [
    {
     "data": {
      "text/plain": [
       "array([0., 0., 0., 0., 1., 1., 1., 1., 2., 3., 3., 2., 2., 3., 3., 2.])"
      ]
     },
     "execution_count": 191,
     "metadata": {},
     "output_type": "execute_result"
    }
   ],
   "source": [
    "zl"
   ]
  },
  {
   "cell_type": "code",
   "execution_count": 198,
   "metadata": {},
   "outputs": [
    {
     "name": "stdout",
     "output_type": "stream",
     "text": [
      "Not yet implemented\n",
      "Not yet implemented\n",
      "Not yet implemented\n",
      "Not yet implemented\n",
      "Not yet implemented\n",
      "Not yet implemented\n",
      "Not yet implemented\n",
      "Not yet implemented\n",
      "Not yet implemented\n",
      "Not yet implemented\n",
      "Not yet implemented\n",
      "Not yet implemented\n",
      "Not yet implemented\n",
      "Not yet implemented\n",
      "Not yet implemented\n",
      "Not yet implemented\n"
     ]
    },
    {
     "ename": "NameError",
     "evalue": "name 'localgs' is not defined",
     "output_type": "error",
     "traceback": [
      "\u001b[1;31m---------------------------------------------------------------------------\u001b[0m",
      "\u001b[1;31mNameError\u001b[0m                                 Traceback (most recent call last)",
      "\u001b[1;32m<ipython-input-198-785595d3b816>\u001b[0m in \u001b[0;36m<module>\u001b[1;34m\u001b[0m\n\u001b[1;32m----> 1\u001b[1;33m \u001b[0mg_local\u001b[0m \u001b[1;33m=\u001b[0m \u001b[0mLocal_Gamma\u001b[0m\u001b[1;33m(\u001b[0m\u001b[0my\u001b[0m\u001b[1;33m,\u001b[0m\u001b[0mw\u001b[0m\u001b[1;33m,\u001b[0m \u001b[0mpermutations\u001b[0m\u001b[1;33m=\u001b[0m\u001b[1;36m99\u001b[0m\u001b[1;33m)\u001b[0m\u001b[1;33m\u001b[0m\u001b[1;33m\u001b[0m\u001b[0m\n\u001b[0m\u001b[0;32m      2\u001b[0m \u001b[0mg_local\u001b[0m\u001b[1;33m\u001b[0m\u001b[1;33m\u001b[0m\u001b[0m\n",
      "\u001b[1;32m<ipython-input-196-b530b3d0d4a2>\u001b[0m in \u001b[0;36m__init__\u001b[1;34m(self, y, w, operation, standardize, permutations)\u001b[0m\n\u001b[0;32m     92\u001b[0m         \u001b[1;32mif\u001b[0m \u001b[0mpermutations\u001b[0m\u001b[1;33m:\u001b[0m\u001b[1;33m\u001b[0m\u001b[1;33m\u001b[0m\u001b[0m\n\u001b[0;32m     93\u001b[0m             \u001b[0mself\u001b[0m\u001b[1;33m.\u001b[0m\u001b[0m__crand\u001b[0m\u001b[1;33m(\u001b[0m\u001b[1;33m)\u001b[0m\u001b[1;33m\u001b[0m\u001b[1;33m\u001b[0m\u001b[0m\n\u001b[1;32m---> 94\u001b[1;33m             \u001b[0msim\u001b[0m \u001b[1;33m=\u001b[0m \u001b[0mnp\u001b[0m\u001b[1;33m.\u001b[0m\u001b[0mtranspose\u001b[0m\u001b[1;33m(\u001b[0m\u001b[0mlocalgs\u001b[0m\u001b[1;33m)\u001b[0m\u001b[1;33m\u001b[0m\u001b[1;33m\u001b[0m\u001b[0m\n\u001b[0m\u001b[0;32m     95\u001b[0m             \u001b[0mabove\u001b[0m \u001b[1;33m=\u001b[0m \u001b[0msim\u001b[0m \u001b[1;33m>=\u001b[0m \u001b[0mself\u001b[0m\u001b[1;33m.\u001b[0m\u001b[0mg\u001b[0m\u001b[1;33m\u001b[0m\u001b[1;33m\u001b[0m\u001b[0m\n\u001b[0;32m     96\u001b[0m             \u001b[0mlarger\u001b[0m \u001b[1;33m=\u001b[0m \u001b[0mabove\u001b[0m\u001b[1;33m.\u001b[0m\u001b[0msum\u001b[0m\u001b[1;33m(\u001b[0m\u001b[1;36m0\u001b[0m\u001b[1;33m)\u001b[0m\u001b[1;33m\u001b[0m\u001b[1;33m\u001b[0m\u001b[0m\n",
      "\u001b[1;31mNameError\u001b[0m: name 'localgs' is not defined"
     ]
    }
   ],
   "source": [
    "g_local = Local_Gamma(y,w, permutations=99)\n",
    "g_local"
   ]
  }
 ],
 "metadata": {
  "kernelspec": {
   "display_name": "Python 3.8.2 32-bit",
   "language": "python",
   "name": "python38232bit07c05656855047638d93928e72c365e6"
  },
  "language_info": {
   "codemirror_mode": {
    "name": "ipython",
    "version": 3
   },
   "file_extension": ".py",
   "mimetype": "text/x-python",
   "name": "python",
   "nbconvert_exporter": "python",
   "pygments_lexer": "ipython3",
   "version": "3.8.2"
  }
 },
 "nbformat": 4,
 "nbformat_minor": 4
}
