{
 "cells": [
  {
   "cell_type": "markdown",
   "metadata": {},
   "source": [
    "Reference: https://geodacenter.github.io/workbook/6a_local_auto/lab6a.html#local-geary"
   ]
  },
  {
   "cell_type": "markdown",
   "metadata": {},
   "source": [
    "# Univariate local geary\n",
    "\n",
    "Interestingly, following [this equation](https://www.biomedware.com/files/documentation/spacestat/Statistics/Gearys_C/Geary_s_C_statistic.htm) which explicitly calls for standardization of input data. We also do NOT divide by 2.\n",
    "\n",
    "$$ c_i = \\sum_j w_{ij} (z_i - z_j)^2 $$ \n",
    "\n",
    "where: \n",
    "\n",
    "$z_i = x_i - \\bar{x}$ and $z_j = x_j - \\bar{x}$, and $w_{ij}$ are the elements of the row-standardized binary symmetric spatial weight matrix W. "
   ]
  },
  {
   "cell_type": "markdown",
   "metadata": {},
   "source": [
    "or, $$ c_i = (1/m^2) * \\sum_j w_{ij} (x_i - x_j)^2 $$"
   ]
  },
  {
   "cell_type": "markdown",
   "metadata": {},
   "source": [
    "where,"
   ]
  },
  {
   "cell_type": "markdown",
   "metadata": {},
   "source": [
    "$$ m^2 = \\sum_i (x_i−\\bar{x})^2/n $$"
   ]
  },
  {
   "cell_type": "markdown",
   "metadata": {},
   "source": [
    "## Load in example data"
   ]
  },
  {
   "cell_type": "code",
   "execution_count": 1,
   "metadata": {},
   "outputs": [],
   "source": [
    "import libpysal as lp\n",
    "import geopandas as gpd\n",
    "from scipy import stats\n",
    "guerry = lp.examples.load_example('Guerry')\n",
    "guerry_ds = gpd.read_file(guerry.get_path('Guerry.shp'))"
   ]
  },
  {
   "cell_type": "code",
   "execution_count": 2,
   "metadata": {},
   "outputs": [],
   "source": [
    "wq = lp.weights.Queen.from_dataframe(guerry_ds)"
   ]
  },
  {
   "cell_type": "code",
   "execution_count": null,
   "metadata": {},
   "outputs": [],
   "source": [
    "wq[0]"
   ]
  },
  {
   "cell_type": "code",
   "execution_count": null,
   "metadata": {},
   "outputs": [],
   "source": [
    "wq.transform = 'r'\n",
    "wq[0]"
   ]
  },
  {
   "cell_type": "code",
   "execution_count": 3,
   "metadata": {},
   "outputs": [
    {
     "name": "stdout",
     "output_type": "stream",
     "text": [
      "x_i is 5098\n",
      "x_j are 1983 4077 3710 3012\n"
     ]
    }
   ],
   "source": [
    "x = guerry_ds['Donatns']\n",
    "\n",
    "print(\"x_i is\", x[0])\n",
    "print(\"x_j are\", x[66], x[35], x[68], x[36])"
   ]
  },
  {
   "cell_type": "code",
   "execution_count": null,
   "metadata": {},
   "outputs": [],
   "source": [
    "# Calculate score\n",
    "zscore_x = (x - np.mean(x))/np.std(x)\n",
    "zscore_x"
   ]
  },
  {
   "cell_type": "markdown",
   "metadata": {},
   "source": [
    "# Build expected local geary values"
   ]
  },
  {
   "cell_type": "code",
   "execution_count": null,
   "metadata": {},
   "outputs": [],
   "source": [
    "adj_list = wq.to_adjlist(remove_symmetric=False)\n",
    "adj_list.head()"
   ]
  },
  {
   "cell_type": "code",
   "execution_count": null,
   "metadata": {},
   "outputs": [],
   "source": [
    "import pandas as pd\n",
    "zseries = pd.Series(zscore_x, index=wq.id_order)\n",
    "zseries[0:5]"
   ]
  },
  {
   "cell_type": "code",
   "execution_count": null,
   "metadata": {},
   "outputs": [],
   "source": [
    "# Define z_i\n",
    "zi = zseries.loc[adj_list.focal].values\n",
    "zi[0:5]"
   ]
  },
  {
   "cell_type": "code",
   "execution_count": null,
   "metadata": {},
   "outputs": [],
   "source": [
    "# Define zj\n",
    "zj = zseries.loc[adj_list.neighbor].values\n",
    "zj[0:5]"
   ]
  },
  {
   "cell_type": "code",
   "execution_count": null,
   "metadata": {},
   "outputs": [],
   "source": [
    "(zi-zj)**2"
   ]
  },
  {
   "cell_type": "markdown",
   "metadata": {},
   "source": [
    "Multiply by spatial weights"
   ]
  },
  {
   "cell_type": "code",
   "execution_count": null,
   "metadata": {},
   "outputs": [],
   "source": [
    "sum(list(wq.weights.values()), []) * (zi-zj)**2"
   ]
  },
  {
   "cell_type": "code",
   "execution_count": null,
   "metadata": {},
   "outputs": [],
   "source": [
    "test = sum(list(wq.weights.values()), []) * (zi-zj)**2"
   ]
  },
  {
   "cell_type": "code",
   "execution_count": null,
   "metadata": {},
   "outputs": [],
   "source": [
    "test "
   ]
  },
  {
   "cell_type": "code",
   "execution_count": null,
   "metadata": {},
   "outputs": [],
   "source": [
    "# Create a df that uses the adjacency list focal values and the BBs counts\n",
    "temp = pd.DataFrame(adj_list.focal.values, test).reset_index()\n",
    "temp"
   ]
  },
  {
   "cell_type": "code",
   "execution_count": null,
   "metadata": {},
   "outputs": [],
   "source": [
    "# Temporarily rename the columns\n",
    "temp.columns = ['Eij', 'ID']\n",
    "temp = temp.groupby(by='ID').sum()"
   ]
  },
  {
   "cell_type": "code",
   "execution_count": null,
   "metadata": {},
   "outputs": [],
   "source": [
    "temp.Eij.values[0:5]"
   ]
  },
  {
   "cell_type": "markdown",
   "metadata": {},
   "source": [
    "## Start working on inference"
   ]
  },
  {
   "cell_type": "markdown",
   "metadata": {},
   "source": [
    "# Start building function"
   ]
  },
  {
   "cell_type": "code",
   "execution_count": 27,
   "metadata": {},
   "outputs": [],
   "source": [
    "import numpy as np\n",
    "import pandas as pd\n",
    "import warnings\n",
    "from scipy import sparse\n",
    "from scipy import stats\n",
    "from sklearn.base import BaseEstimator\n",
    "import libpysal as lp\n",
    "\n",
    "\n",
    "class Local_Geary(BaseEstimator):\n",
    "    \"\"\"Local Geary - Univariate\"\"\"\n",
    "\n",
    "    def __init__(self, connectivity=None, inference=None):\n",
    "        \"\"\"\n",
    "        Initialize a Local_Geary estimator\n",
    "\n",
    "        Arguments\n",
    "        ---------\n",
    "        connectivity     : scipy.sparse matrix object\n",
    "                           the connectivity structure describing the\n",
    "                           relationships between observed units.\n",
    "        inference        : str\n",
    "                           describes type of inference to be used. options are\n",
    "                           \"chi-square\" or \"permutation\" methods.\n",
    "\n",
    "        Attributes\n",
    "        ----------\n",
    "        localG           : numpy array\n",
    "                           Array of Local Geary values for each spatial unit.\n",
    "        pval             : numpy array\n",
    "                           P-values for inference based on either\n",
    "                           \"chi-square\" or \"permutation\" methods.\n",
    "        \"\"\"\n",
    "\n",
    "        self.connectivity = connectivity\n",
    "        self.inference = inference\n",
    "\n",
    "    def fit(self, x):\n",
    "        \"\"\"\n",
    "        Arguments\n",
    "        ---------\n",
    "        x                : numpy.ndarray\n",
    "                           array containing continuous data\n",
    "\n",
    "        Returns\n",
    "        -------\n",
    "        the fitted estimator.\n",
    "\n",
    "        Notes\n",
    "        -----\n",
    "        Technical details and derivations can be found in :cite:`Anselin1995`.\n",
    "\n",
    "        Examples\n",
    "        --------\n",
    "        Guerry data replication GeoDa tutorial\n",
    "        >>> import libpysal\n",
    "        >>> import geopandas as gpd\n",
    "        >>> guerry = lp.examples.load_example('Guerry')\n",
    "        >>> guerry_ds = gpd.read_file(guerry.get_path('Guerry.shp'))\n",
    "        >>> w = libpysal.weights.Queen.from_dataframe(guerry_ds)\n",
    "        \"\"\"\n",
    "        x = np.asarray(x).flatten()\n",
    "\n",
    "        w = self.connectivity\n",
    "        w.transform = 'r'\n",
    "\n",
    "        self.localG = self._statistic(x, w)\n",
    "\n",
    "        if self.inference is None:\n",
    "            return self\n",
    "        #elif self.inference == 'chi-square':\n",
    "        #    if a != 2:\n",
    "        #        warnings.warn(f'Chi-square inference assumes that a=2, but \\\n",
    "        #        a={a}. This means the inference will be invalid!')\n",
    "        #    else:\n",
    "        #        dof = 2/self.VarHi\n",
    "        #        Zi = (2*self.Hi)/self.VarHi\n",
    "        #        self.pval = 1 - stats.chi2.cdf(Zi, dof)\n",
    "        else:\n",
    "            raise NotImplementedError(f'The requested inference method \\\n",
    "            ({self.inference}) is not currently supported!')\n",
    "\n",
    "        return self\n",
    "\n",
    "    @staticmethod\n",
    "    def _statistic(x, w):\n",
    "        # Caclulate z-scores for x\n",
    "        zscore_x = (x - np.mean(x))/np.std(x)\n",
    "        # Create focal (xi) and neighbor (zi) values\n",
    "        adj_list = w.to_adjlist(remove_symmetric=False)\n",
    "        zseries = pd.Series(zscore_x, index=wq.id_order)\n",
    "        zi = zseries.loc[adj_list.focal].values\n",
    "        zj = zseries.loc[adj_list.neighbor].values\n",
    "        # Carry out local Geary calculation\n",
    "        gs = sum(list(wq.weights.values()), []) * (zi-zj)**2\n",
    "        # Reorganize data\n",
    "        adj_list_gs = pd.DataFrame(adj_list.focal.values, gs).reset_index()\n",
    "        adj_list_gs.columns = ['gs', 'ID']\n",
    "        adj_list_gs = adj_list_gs.groupby(by='ID').sum()\n",
    "        \n",
    "        localG = adj_list_gs.gs.values\n",
    "        \n",
    "        return (localG)"
   ]
  },
  {
   "cell_type": "code",
   "execution_count": 28,
   "metadata": {},
   "outputs": [
    {
     "data": {
      "text/plain": [
       "array([1.82087039e-01, 5.60014026e-01, 9.75294606e-01, 2.15906938e-01,\n",
       "       6.17372564e-01, 3.84450059e-02, 2.43181756e-01, 9.71802819e-01,\n",
       "       4.06447101e-02, 7.24722785e-01, 6.30952854e-02, 2.42104497e-02,\n",
       "       1.59496916e+01, 9.29326006e-01, 9.65188634e-01, 1.32383286e+00,\n",
       "       3.31775497e-01, 2.99446505e+00, 9.43946814e-01, 2.99570159e+00,\n",
       "       3.66702291e-01, 2.09592365e+00, 1.46515861e+00, 1.82118455e-01,\n",
       "       3.10216680e+00, 5.43063937e-01, 5.74532559e+00, 4.79160197e-02,\n",
       "       1.58993089e-01, 7.18327253e-01, 1.24297849e+00, 8.72629331e-02,\n",
       "       7.52809650e-01, 4.56515485e-01, 3.86766562e-01, 1.17632604e-01,\n",
       "       6.90884685e-01, 2.87206102e+00, 4.10455112e-01, 4.04349959e-01,\n",
       "       1.14211758e-01, 9.59519953e-01, 3.51347976e-01, 7.30240974e-01,\n",
       "       4.40370938e-01, 7.20360356e-02, 1.66241706e+00, 5.83258909e+00,\n",
       "       2.30332507e-01, 4.38369688e-01, 8.41461470e-01, 1.52959486e+00,\n",
       "       4.32157479e-02, 2.08325903e+00, 1.19722984e+00, 1.28169257e+00,\n",
       "       1.32443562e-01, 3.97452281e-01, 3.39175467e+00, 1.55325208e-02,\n",
       "       1.08504192e+00, 1.20141728e+00, 4.42727015e-01, 3.16097426e+00,\n",
       "       3.38714881e+00, 1.61732976e+00, 2.05483294e-01, 2.95666506e+00,\n",
       "       6.42017171e-01, 4.21213806e-01, 2.66678544e-02, 4.02155064e-01,\n",
       "       1.17112566e-01, 4.57596388e-01, 2.18572511e+00, 1.95661321e-01,\n",
       "       5.57923492e-02, 8.23656724e-02, 2.20496135e-02, 1.02137241e-01,\n",
       "       1.43925735e+00, 9.93140340e-01, 8.76795695e-01, 1.22224557e+00,\n",
       "       3.66964823e-01])"
      ]
     },
     "execution_count": 28,
     "metadata": {},
     "output_type": "execute_result"
    }
   ],
   "source": [
    "functest = Local_Geary(connectivity=wq).fit(x)\n",
    "functest.localG"
   ]
  },
  {
   "cell_type": "markdown",
   "metadata": {},
   "source": [
    "# Multivariate Local Geary"
   ]
  },
  {
   "cell_type": "markdown",
   "metadata": {},
   "source": [
    "$$ c_i = \\sum_{h=1}^m \\sum_j w_{ij} (x_{hi} - x_{hj})^2 $$"
   ]
  },
  {
   "cell_type": "code",
   "execution_count": null,
   "metadata": {},
   "outputs": [],
   "source": []
  },
  {
   "cell_type": "code",
   "execution_count": null,
   "metadata": {},
   "outputs": [],
   "source": []
  }
 ],
 "metadata": {
  "kernelspec": {
   "display_name": "Python 3",
   "language": "python",
   "name": "python3"
  },
  "language_info": {
   "codemirror_mode": {
    "name": "ipython",
    "version": 3
   },
   "file_extension": ".py",
   "mimetype": "text/x-python",
   "name": "python",
   "nbconvert_exporter": "python",
   "pygments_lexer": "ipython3",
   "version": "3.8.4"
  }
 },
 "nbformat": 4,
 "nbformat_minor": 4
}
