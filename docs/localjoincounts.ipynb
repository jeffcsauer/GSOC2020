{
 "cells": [
  {
   "cell_type": "markdown",
   "metadata": {},
   "source": [
    "# Local join counts"
   ]
  },
  {
   "cell_type": "markdown",
   "metadata": {},
   "source": [
    "In the following notebook we review the different type of local join counts (LJC) put forward by [Anselin and Li (2019)](https://econpapers.repec.org/article/kapjgeosy/v_3a21_3ay_3a2019_3ai_3a2_3ad_3a10.1007_5fs10109-019-00299-x.htm). LJC focus on spatial phenomenon that take on binary values (e.g. 0 or 1). This suite of exploratory statistics is especially useful to analysts who want to focus on different types of what Anselin and Li call 'co-location'; that is, the presence or absence of specific 0 or 1 values. \n",
    "\n",
    "Note that there are three versions of the LJC:\n",
    "\n",
    "- univariate LJC\n",
    "- bivariate LJC (case 1)\n",
    "- bivariate LJC (case 2)\n",
    "- multivariate LJC\n",
    "\n",
    "The utility of each of these statistics will be reviewed in brief. "
   ]
  },
  {
   "cell_type": "markdown",
   "metadata": {},
   "source": [
    "## Univariate LJC"
   ]
  },
  {
   "cell_type": "markdown",
   "metadata": {},
   "source": [
    "The univariate LJC is a the local version of the 'black-black' or BB statistic. This statistic describes the count of the neighbors, $x_j$, of a given unit, $x_i$, that are equal to 1 when the unit is also equal to 1. Formally: \n",
    "\n",
    "Eq 1. $$BB_i = x_i \\sum_{j} w_{ij} x_j$$"
   ]
  },
  {
   "cell_type": "markdown",
   "metadata": {},
   "source": [
    "It is important to note that when a given unit $x_i$ is equal to 0, the statistic also becomes 0. Anselin and Li describe the application of this statisttic as:\n",
    "\n",
    "> Hence, the local join count statistic is only meaningful to assess whether locations with an “event” (i.e., xi = 1 ) are surrounded by more locations with events than would be the case under spatial randomness."
   ]
  },
  {
   "cell_type": "markdown",
   "metadata": {},
   "source": [
    "We can apply the PySAL implementation of the univariate LJC statistic to its original implementation in [GeoDa](https://geodacenter.github.io/workbook/6a_local_auto/lab6a.html#local-join-count-statistic). We first load in the Guerry dataset and convert the column `Donats` to binary column. This new binary column has a value of 1 for the top three groupings of `Donats` based on a Natural Breaks classification method (and 0 for otherwise)."
   ]
  },
  {
   "cell_type": "code",
   "execution_count": 1,
   "metadata": {},
   "outputs": [],
   "source": [
    "import libpysal\n",
    "import geopandas as gpd\n",
    "guerry = libpysal.examples.load_example('Guerry')\n",
    "guerry_ds = gpd.read_file(guerry.get_path('Guerry.shp'))\n",
    "guerry_ds['SELECTED'] = 0\n",
    "guerry_ds.loc[(guerry_ds['Donatns'] > 10997), 'SELECTED'] = 1"
   ]
  },
  {
   "cell_type": "markdown",
   "metadata": {},
   "source": [
    "We now make a Queen-contiguity weights object to describe the relationship between the units."
   ]
  },
  {
   "cell_type": "code",
   "execution_count": 2,
   "metadata": {},
   "outputs": [],
   "source": [
    "w = libpysal.weights.Queen.from_dataframe(guerry_ds)"
   ]
  },
  {
   "cell_type": "markdown",
   "metadata": {},
   "source": [
    "We can now apply the univariate LJC function on the dataset."
   ]
  },
  {
   "cell_type": "code",
   "execution_count": 3,
   "metadata": {},
   "outputs": [
    {
     "data": {
      "text/plain": [
       "array([  nan,   nan,   nan,   nan,   nan,   nan,   nan,   nan,   nan,\n",
       "         nan,   nan,   nan, 0.444,   nan, 0.021, 0.021,   nan, 0.329,\n",
       "         nan,   nan,   nan,   nan,   nan,   nan, 0.338,   nan, 0.324,\n",
       "         nan,   nan,   nan,   nan,   nan,   nan, 0.351,   nan,   nan,\n",
       "         nan,   nan,   nan,   nan,   nan,   nan,   nan,   nan,   nan,\n",
       "         nan,   nan,   nan,   nan,   nan,   nan,   nan,   nan, 0.47 ,\n",
       "         nan,   nan,   nan,   nan,   nan,   nan,   nan,   nan,   nan,\n",
       "         nan,   nan,   nan,   nan,   nan,   nan,   nan,   nan,   nan,\n",
       "         nan,   nan, 0.031,   nan,   nan,   nan,   nan,   nan, 0.132,\n",
       "         nan, 0.066,   nan,   nan])"
      ]
     },
     "execution_count": 3,
     "metadata": {},
     "output_type": "execute_result"
    }
   ],
   "source": [
    "from esda.local_join_count import Local_Join_Count\n",
    "LJC_uni = Local_Join_Count(connectivity=w).fit(guerry_ds['SELECTED'])\n",
    "LJC_uni.LJC\n",
    "LJC_uni.p_sim"
   ]
  },
  {
   "cell_type": "markdown",
   "metadata": {},
   "source": [
    "## Bivariate LJC (case 1)"
   ]
  },
  {
   "cell_type": "code",
   "execution_count": 4,
   "metadata": {},
   "outputs": [],
   "source": [
    "import libpysal\n",
    "import geopandas as gpd\n",
    "commpop = gpd.read_file(\"https://github.com/jeffcsauer/GSOC2020/raw/master/validation/data/commpop.gpkg\")"
   ]
  },
  {
   "cell_type": "code",
   "execution_count": 5,
   "metadata": {},
   "outputs": [],
   "source": [
    "w = libpysal.weights.Queen.from_dataframe(commpop)"
   ]
  },
  {
   "cell_type": "code",
   "execution_count": 6,
   "metadata": {},
   "outputs": [
    {
     "data": {
      "text/plain": [
       "array([0.218,   nan, 0.218, 0.165,   nan,   nan,   nan,   nan,   nan,\n",
       "         nan, 0.457,   nan, 0.368, 0.216, 0.471, 0.162, 0.038,   nan,\n",
       "         nan,   nan, 0.165,   nan,   nan, 0.165, 0.402, 0.402,   nan,\n",
       "       0.293,   nan, 0.212,   nan, 0.41 , 0.059,   nan,   nan, 0.21 ,\n",
       "         nan,   nan,   nan,   nan,   nan,   nan,   nan,   nan,   nan,\n",
       "         nan,   nan,   nan,   nan,   nan,   nan,   nan, 0.007,   nan,\n",
       "         nan, 0.292,   nan, 0.292, 0.496,   nan,   nan,   nan,   nan,\n",
       "       0.062, 0.297,   nan,   nan, 0.297,   nan, 0.092, 0.304,   nan,\n",
       "         nan, 0.288,   nan,   nan,   nan])"
      ]
     },
     "execution_count": 6,
     "metadata": {},
     "output_type": "execute_result"
    }
   ],
   "source": [
    "from esda.local_join_count_bv import Local_Join_Count_BV\n",
    "LJC_BV_Case1 = Local_Join_Count_BV(connectivity=w).fit(commpop['popneg'], commpop['popplus'], case='BJC')\n",
    "LJC_BV_Case1.LJC\n",
    "LJC_BV_Case1.p_sim"
   ]
  },
  {
   "cell_type": "markdown",
   "metadata": {},
   "source": [
    "## Bivariate LJC (case 2)"
   ]
  },
  {
   "cell_type": "code",
   "execution_count": 7,
   "metadata": {},
   "outputs": [],
   "source": [
    "guerry = libpysal.examples.load_example('Guerry')\n",
    "guerry_ds = gpd.read_file(guerry.get_path('Guerry.shp'))\n",
    "guerry_ds['infq5'] = 0\n",
    "guerry_ds['donq5'] = 0\n",
    "guerry_ds.loc[(guerry_ds['Infants'] > 23574), 'infq5'] = 1\n",
    "guerry_ds.loc[(guerry_ds['Donatns'] > 10973), 'donq5'] = 1"
   ]
  },
  {
   "cell_type": "code",
   "execution_count": 8,
   "metadata": {},
   "outputs": [],
   "source": [
    "w = libpysal.weights.Queen.from_dataframe(guerry_ds)"
   ]
  },
  {
   "cell_type": "code",
   "execution_count": 9,
   "metadata": {},
   "outputs": [
    {
     "data": {
      "text/plain": [
       "array([  nan,   nan,   nan,   nan,   nan,   nan,   nan,   nan,   nan,\n",
       "         nan,   nan,   nan,   nan,   nan,   nan, 0.017,   nan,   nan,\n",
       "         nan,   nan,   nan,   nan,   nan,   nan,   nan,   nan, 0.093,\n",
       "         nan,   nan,   nan,   nan,   nan,   nan,   nan,   nan,   nan,\n",
       "         nan,   nan,   nan,   nan,   nan,   nan,   nan,   nan,   nan,\n",
       "         nan,   nan,   nan,   nan,   nan,   nan,   nan,   nan, 0.177,\n",
       "         nan,   nan,   nan,   nan,   nan,   nan,   nan,   nan,   nan,\n",
       "         nan,   nan,   nan,   nan,   nan,   nan,   nan,   nan,   nan,\n",
       "         nan,   nan, 0.024,   nan,   nan,   nan,   nan,   nan, 0.017,\n",
       "         nan,   nan,   nan,   nan])"
      ]
     },
     "execution_count": 9,
     "metadata": {},
     "output_type": "execute_result"
    }
   ],
   "source": [
    "LJC_BV_Case2 = Local_Join_Count_BV(connectivity=w).fit(guerry_ds['infq5'], guerry_ds['donq5'], case='CLC')\n",
    "LJC_BV_Case2.LJC\n",
    "LJC_BV_Case2.p_sim"
   ]
  },
  {
   "cell_type": "markdown",
   "metadata": {},
   "source": [
    "## Multivariate LJC"
   ]
  },
  {
   "cell_type": "code",
   "execution_count": 10,
   "metadata": {},
   "outputs": [],
   "source": [
    "guerry = libpysal.examples.load_example('Guerry')\n",
    "guerry_ds = gpd.read_file(guerry.get_path('Guerry.shp'))\n",
    "guerry_ds['infq5'] = 0\n",
    "guerry_ds['donq5'] = 0\n",
    "guerry_ds['suic5'] = 0\n",
    "guerry_ds.loc[(guerry_ds['Infants'] > 23574), 'infq5'] = 1\n",
    "guerry_ds.loc[(guerry_ds['Donatns'] > 10973), 'donq5'] = 1\n",
    "guerry_ds.loc[(guerry_ds['Suicids'] > 55564), 'suic5'] = 1"
   ]
  },
  {
   "cell_type": "code",
   "execution_count": 11,
   "metadata": {},
   "outputs": [],
   "source": [
    "w = libpysal.weights.Queen.from_dataframe(guerry_ds)"
   ]
  },
  {
   "cell_type": "code",
   "execution_count": 12,
   "metadata": {},
   "outputs": [
    {
     "data": {
      "text/plain": [
       "array([nan, nan, nan, nan, nan, nan, nan, nan, nan, nan, nan, nan, nan,\n",
       "       nan, nan, nan, nan, nan, nan, nan, nan, nan, nan, nan, nan, nan,\n",
       "       nan, nan, nan, nan, nan, nan, nan, nan, nan, nan, nan, nan, nan,\n",
       "       nan, nan, nan, nan, nan, nan, nan, nan, nan, nan, nan, nan, nan,\n",
       "       nan, nan, nan, nan, nan, nan, nan, nan, nan, nan, nan, nan, nan,\n",
       "       nan, nan, nan, nan, nan, nan, nan, nan, nan, nan, nan, nan, nan,\n",
       "       nan, nan, nan, nan, nan, nan, nan])"
      ]
     },
     "execution_count": 12,
     "metadata": {},
     "output_type": "execute_result"
    }
   ],
   "source": [
    "from esda.local_join_count_mv import Local_Join_Count_MV\n",
    "LJC_MV = Local_Join_Count_MV(connectivity=w).fit([guerry_ds['infq5'], guerry_ds['donq5'], guerry_ds['suic5']])\n",
    "LJC_MV.LJC\n",
    "LJC_MV.p_sim"
   ]
  }
 ],
 "metadata": {
  "kernelspec": {
   "display_name": "Python 3.8.2 32-bit",
   "language": "python",
   "name": "python38232bit07c05656855047638d93928e72c365e6"
  },
  "language_info": {
   "codemirror_mode": {
    "name": "ipython",
    "version": 3
   },
   "file_extension": ".py",
   "mimetype": "text/x-python",
   "name": "python",
   "nbconvert_exporter": "python",
   "pygments_lexer": "ipython3",
   "version": "3.8.2"
  }
 },
 "nbformat": 4,
 "nbformat_minor": 4
}
